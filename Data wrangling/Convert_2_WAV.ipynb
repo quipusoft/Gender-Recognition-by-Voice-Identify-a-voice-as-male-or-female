{
 "cells": [
  {
   "cell_type": "code",
   "execution_count": null,
   "metadata": {},
   "outputs": [],
   "source": [
    "import numpy as np\n",
    "#import soundfile as sf\n",
    "import os\n",
    "import scipy.io.wavfile as wav\n"
   ]
  },
  {
   "cell_type": "code",
   "execution_count": null,
   "metadata": {},
   "outputs": [],
   "source": [
    "#sound_dir = 'T:\\_DesafioDS\\common-voice\\common_voice_corpus\\cv-valid-train'\n",
    "sound_dir = 'D:\\cv\\cv-valid-train\\cv-valid-train'\n"
   ]
  },
  {
   "cell_type": "code",
   "execution_count": null,
   "metadata": {},
   "outputs": [],
   "source": [
    "\n",
    "\n",
    "def Mp3_2_wav(mp3FileFullPath):\n",
    "\n",
    "    #print(os.path.basename(mp3FileFullPath))\n",
    "    \n",
    "    # install lame\n",
    "    # install bleeding edge scipy (needs new cython)\n",
    "\n",
    "    print('Mp3_2_wav|| mp3FileFullPath: ',mp3FileFullPath)\n",
    "\n",
    "    filename_w_ext = os.path.basename(mp3FileFullPath)\n",
    "    filename, file_extension = os.path.splitext(filename_w_ext)\n",
    "    \n",
    "    folder = os.path.dirname(mp3FileFullPath) \n",
    "    \n",
    "    wavFileFullPath = os.path.join(folder, filename + '.wav')\n",
    " \n",
    "    #print('Mp3_2_wav|| wavFileFullPath: ',wavFileFullPath)\n",
    "\n",
    "    if os.path.exists(wavFileFullPath)==True :\n",
    "        return\n",
    "\n",
    "    \n",
    "    cmd = 'lame --decode {0} {1}'.format( mp3FileFullPath, wavFileFullPath)\n",
    "    \n",
    "    print('cmd:',cmd)\n",
    "    \n",
    "    os.system(cmd)\n",
    "    #data = wav.read(wavFileFullPath)\n",
    "    \n",
    "    # your code goes here\n",
    "    #print len(data[1])\n",
    "    \n",
    "    #return data\n",
    "    \n"
   ]
  },
  {
   "cell_type": "code",
   "execution_count": null,
   "metadata": {},
   "outputs": [],
   "source": [
    "for file in os.listdir(sound_dir):\n",
    "    filename = os.fsdecode(file)\n",
    "    full_path = os.path.join(sound_dir, file)\n",
    "\n",
    "    filename_w_ext = os.path.basename(full_path)\n",
    "    filename, file_extension = os.path.splitext(filename_w_ext)\n",
    "    \n",
    "    if file_extension == '.mp3':    \n",
    "        Mp3_2_wav(full_path)"
   ]
  },
  {
   "cell_type": "code",
   "execution_count": null,
   "metadata": {},
   "outputs": [],
   "source": []
  }
 ],
 "metadata": {
  "kernelspec": {
   "display_name": "Python 3",
   "language": "python",
   "name": "python3"
  },
  "language_info": {
   "codemirror_mode": {
    "name": "ipython",
    "version": 3
   },
   "file_extension": ".py",
   "mimetype": "text/x-python",
   "name": "python",
   "nbconvert_exporter": "python",
   "pygments_lexer": "ipython3",
   "version": "3.6.5"
  }
 },
 "nbformat": 4,
 "nbformat_minor": 2
}
