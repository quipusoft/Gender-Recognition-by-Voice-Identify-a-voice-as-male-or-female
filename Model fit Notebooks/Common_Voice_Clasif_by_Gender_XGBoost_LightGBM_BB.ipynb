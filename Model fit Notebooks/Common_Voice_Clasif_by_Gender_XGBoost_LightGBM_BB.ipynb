{
 "cells": [
  {
   "cell_type": "markdown",
   "metadata": {
    "colab_type": "text",
    "id": "KvPuvQ3dCfiM"
   },
   "source": [
    "Instalaciones"
   ]
  },
  {
   "cell_type": "code",
   "execution_count": 1,
   "metadata": {
    "colab": {},
    "colab_type": "code",
    "id": "cfGGupTCCfiP"
   },
   "outputs": [],
   "source": [
    "#!pip install xgboost"
   ]
  },
  {
   "cell_type": "code",
   "execution_count": 2,
   "metadata": {
    "colab": {},
    "colab_type": "code",
    "id": "5BVM7K4bCfiX"
   },
   "outputs": [],
   "source": [
    "#!pip install lightgbm"
   ]
  },
  {
   "cell_type": "code",
   "execution_count": 3,
   "metadata": {
    "colab": {},
    "colab_type": "code",
    "id": "c4BBayRFCfie"
   },
   "outputs": [],
   "source": [
    "#!conda config --add channels conda-forge\n",
    "#!conda install catboost -y"
   ]
  },
  {
   "cell_type": "code",
   "execution_count": 4,
   "metadata": {
    "colab": {},
    "colab_type": "code",
    "id": "ZXHF6THyCfil"
   },
   "outputs": [],
   "source": [
    "#!pip install scikit-plot"
   ]
  },
  {
   "cell_type": "markdown",
   "metadata": {
    "colab_type": "text",
    "id": "knzulYd1Cfir"
   },
   "source": [
    "## Clasificando voces humanas por género"
   ]
  },
  {
   "cell_type": "markdown",
   "metadata": {
    "colab_type": "text",
    "id": "961vNjYyCfis"
   },
   "source": [
    "descripcion"
   ]
  },
  {
   "cell_type": "code",
   "execution_count": 5,
   "metadata": {
    "colab": {},
    "colab_type": "code",
    "id": "be9V_LltCfiu"
   },
   "outputs": [],
   "source": [
    "import pandas as pd"
   ]
  },
  {
   "cell_type": "code",
   "execution_count": 6,
   "metadata": {
    "colab": {},
    "colab_type": "code",
    "id": "1wb2uNoLCfi1"
   },
   "outputs": [],
   "source": [
    "df = pd.read_csv('../data/100000/cv-valid-train_Bark_Bands_spectrum_pars.csv')"
   ]
  },
  {
   "cell_type": "code",
   "execution_count": 7,
   "metadata": {
    "colab": {},
    "colab_type": "code",
    "id": "Z-fgwsKVCfi6",
    "outputId": "8742bfa1-b1d4-490b-ecc2-e1781b4b53e4",
    "scrolled": true
   },
   "outputs": [
    {
     "data": {
      "text/html": [
       "<div>\n",
       "<style scoped>\n",
       "    .dataframe tbody tr th:only-of-type {\n",
       "        vertical-align: middle;\n",
       "    }\n",
       "\n",
       "    .dataframe tbody tr th {\n",
       "        vertical-align: top;\n",
       "    }\n",
       "\n",
       "    .dataframe thead th {\n",
       "        text-align: right;\n",
       "    }\n",
       "</style>\n",
       "<table border=\"1\" class=\"dataframe\">\n",
       "  <thead>\n",
       "    <tr style=\"text-align: right;\">\n",
       "      <th></th>\n",
       "      <th>filename</th>\n",
       "      <th>text</th>\n",
       "      <th>up_votes</th>\n",
       "      <th>down_votes</th>\n",
       "      <th>age</th>\n",
       "      <th>gender</th>\n",
       "      <th>accent</th>\n",
       "      <th>duration</th>\n",
       "      <th>bb1</th>\n",
       "      <th>bb2</th>\n",
       "      <th>...</th>\n",
       "      <th>bb24</th>\n",
       "      <th>ok</th>\n",
       "      <th>pow</th>\n",
       "      <th>mfq</th>\n",
       "      <th>std</th>\n",
       "      <th>modafq</th>\n",
       "      <th>medianfq</th>\n",
       "      <th>IQR</th>\n",
       "      <th>Q1</th>\n",
       "      <th>Q3</th>\n",
       "    </tr>\n",
       "  </thead>\n",
       "  <tbody>\n",
       "    <tr>\n",
       "      <th>0</th>\n",
       "      <td>cv-valid-train/sample-000000.mp3</td>\n",
       "      <td>learn to recognize omens and follow them the o...</td>\n",
       "      <td>1.0</td>\n",
       "      <td>0.0</td>\n",
       "      <td>NaN</td>\n",
       "      <td>NaN</td>\n",
       "      <td>NaN</td>\n",
       "      <td>NaN</td>\n",
       "      <td>0.002633</td>\n",
       "      <td>0.086439</td>\n",
       "      <td>...</td>\n",
       "      <td>0.000718</td>\n",
       "      <td>1.0</td>\n",
       "      <td>1.650145e-03</td>\n",
       "      <td>1213.752897</td>\n",
       "      <td>1388.294226</td>\n",
       "      <td>192.279502</td>\n",
       "      <td>738.578060</td>\n",
       "      <td>1100.415343</td>\n",
       "      <td>443.684339</td>\n",
       "      <td>1544.099682</td>\n",
       "    </tr>\n",
       "    <tr>\n",
       "      <th>1</th>\n",
       "      <td>cv-valid-train/sample-000001.mp3</td>\n",
       "      <td>everything in the universe evolved he said</td>\n",
       "      <td>1.0</td>\n",
       "      <td>0.0</td>\n",
       "      <td>NaN</td>\n",
       "      <td>NaN</td>\n",
       "      <td>NaN</td>\n",
       "      <td>NaN</td>\n",
       "      <td>0.001395</td>\n",
       "      <td>0.224020</td>\n",
       "      <td>...</td>\n",
       "      <td>0.000032</td>\n",
       "      <td>1.0</td>\n",
       "      <td>7.916365e-07</td>\n",
       "      <td>456.555733</td>\n",
       "      <td>379.835427</td>\n",
       "      <td>135.382170</td>\n",
       "      <td>437.673864</td>\n",
       "      <td>318.187839</td>\n",
       "      <td>249.966883</td>\n",
       "      <td>568.154722</td>\n",
       "    </tr>\n",
       "    <tr>\n",
       "      <th>2</th>\n",
       "      <td>cv-valid-train/sample-000002.mp3</td>\n",
       "      <td>you came so that you could learn about your dr...</td>\n",
       "      <td>1.0</td>\n",
       "      <td>0.0</td>\n",
       "      <td>NaN</td>\n",
       "      <td>NaN</td>\n",
       "      <td>NaN</td>\n",
       "      <td>NaN</td>\n",
       "      <td>0.000594</td>\n",
       "      <td>0.301720</td>\n",
       "      <td>...</td>\n",
       "      <td>0.000052</td>\n",
       "      <td>1.0</td>\n",
       "      <td>6.124250e-04</td>\n",
       "      <td>2557.028597</td>\n",
       "      <td>2663.549506</td>\n",
       "      <td>155.946962</td>\n",
       "      <td>504.056996</td>\n",
       "      <td>4553.334653</td>\n",
       "      <td>171.185434</td>\n",
       "      <td>4724.520087</td>\n",
       "    </tr>\n",
       "    <tr>\n",
       "      <th>3</th>\n",
       "      <td>cv-valid-train/sample-000003.mp3</td>\n",
       "      <td>so now i fear nothing because it was those ome...</td>\n",
       "      <td>1.0</td>\n",
       "      <td>0.0</td>\n",
       "      <td>NaN</td>\n",
       "      <td>NaN</td>\n",
       "      <td>NaN</td>\n",
       "      <td>NaN</td>\n",
       "      <td>0.000953</td>\n",
       "      <td>0.028043</td>\n",
       "      <td>...</td>\n",
       "      <td>0.000403</td>\n",
       "      <td>1.0</td>\n",
       "      <td>1.982778e-05</td>\n",
       "      <td>524.126760</td>\n",
       "      <td>819.548646</td>\n",
       "      <td>468.886545</td>\n",
       "      <td>451.559440</td>\n",
       "      <td>227.361760</td>\n",
       "      <td>253.879765</td>\n",
       "      <td>481.241525</td>\n",
       "    </tr>\n",
       "    <tr>\n",
       "      <th>4</th>\n",
       "      <td>cv-valid-train/sample-000004.mp3</td>\n",
       "      <td>if you start your emails with greetings let me...</td>\n",
       "      <td>3.0</td>\n",
       "      <td>2.0</td>\n",
       "      <td>NaN</td>\n",
       "      <td>NaN</td>\n",
       "      <td>NaN</td>\n",
       "      <td>NaN</td>\n",
       "      <td>0.000661</td>\n",
       "      <td>0.128622</td>\n",
       "      <td>...</td>\n",
       "      <td>0.000383</td>\n",
       "      <td>1.0</td>\n",
       "      <td>4.150297e-02</td>\n",
       "      <td>652.053861</td>\n",
       "      <td>1263.434945</td>\n",
       "      <td>213.101331</td>\n",
       "      <td>224.564995</td>\n",
       "      <td>249.744115</td>\n",
       "      <td>209.416581</td>\n",
       "      <td>459.160696</td>\n",
       "    </tr>\n",
       "  </tbody>\n",
       "</table>\n",
       "<p>5 rows × 41 columns</p>\n",
       "</div>"
      ],
      "text/plain": [
       "                           filename  \\\n",
       "0  cv-valid-train/sample-000000.mp3   \n",
       "1  cv-valid-train/sample-000001.mp3   \n",
       "2  cv-valid-train/sample-000002.mp3   \n",
       "3  cv-valid-train/sample-000003.mp3   \n",
       "4  cv-valid-train/sample-000004.mp3   \n",
       "\n",
       "                                                text  up_votes  down_votes  \\\n",
       "0  learn to recognize omens and follow them the o...       1.0         0.0   \n",
       "1         everything in the universe evolved he said       1.0         0.0   \n",
       "2  you came so that you could learn about your dr...       1.0         0.0   \n",
       "3  so now i fear nothing because it was those ome...       1.0         0.0   \n",
       "4  if you start your emails with greetings let me...       3.0         2.0   \n",
       "\n",
       "   age gender accent  duration       bb1       bb2     ...           bb24  \\\n",
       "0  NaN    NaN    NaN       NaN  0.002633  0.086439     ...       0.000718   \n",
       "1  NaN    NaN    NaN       NaN  0.001395  0.224020     ...       0.000032   \n",
       "2  NaN    NaN    NaN       NaN  0.000594  0.301720     ...       0.000052   \n",
       "3  NaN    NaN    NaN       NaN  0.000953  0.028043     ...       0.000403   \n",
       "4  NaN    NaN    NaN       NaN  0.000661  0.128622     ...       0.000383   \n",
       "\n",
       "    ok           pow          mfq          std      modafq    medianfq  \\\n",
       "0  1.0  1.650145e-03  1213.752897  1388.294226  192.279502  738.578060   \n",
       "1  1.0  7.916365e-07   456.555733   379.835427  135.382170  437.673864   \n",
       "2  1.0  6.124250e-04  2557.028597  2663.549506  155.946962  504.056996   \n",
       "3  1.0  1.982778e-05   524.126760   819.548646  468.886545  451.559440   \n",
       "4  1.0  4.150297e-02   652.053861  1263.434945  213.101331  224.564995   \n",
       "\n",
       "           IQR          Q1           Q3  \n",
       "0  1100.415343  443.684339  1544.099682  \n",
       "1   318.187839  249.966883   568.154722  \n",
       "2  4553.334653  171.185434  4724.520087  \n",
       "3   227.361760  253.879765   481.241525  \n",
       "4   249.744115  209.416581   459.160696  \n",
       "\n",
       "[5 rows x 41 columns]"
      ]
     },
     "execution_count": 7,
     "metadata": {},
     "output_type": "execute_result"
    }
   ],
   "source": [
    "df.head()"
   ]
  },
  {
   "cell_type": "code",
   "execution_count": 8,
   "metadata": {
    "colab": {},
    "colab_type": "code",
    "id": "DHpJ70GaCfjG"
   },
   "outputs": [],
   "source": [
    "df = df[df['ok']==1]"
   ]
  },
  {
   "cell_type": "code",
   "execution_count": 9,
   "metadata": {},
   "outputs": [],
   "source": [
    "df = df[~df['gender'].isna()]"
   ]
  },
  {
   "cell_type": "code",
   "execution_count": 10,
   "metadata": {},
   "outputs": [],
   "source": [
    "df = df[~(df['gender']=='other')]\n"
   ]
  },
  {
   "cell_type": "code",
   "execution_count": 11,
   "metadata": {},
   "outputs": [],
   "source": [
    "df = df.loc[:,['gender','bb1','bb2','bb3','bb4','bb5','bb6','bb7','bb8','bb9','bb10','bb11','bb12','bb13','bb14','bb15','bb16','bb17','bb18','bb19','bb20','bb21','bb22','bb23','bb24','pow']]"
   ]
  },
  {
   "cell_type": "code",
   "execution_count": 12,
   "metadata": {},
   "outputs": [
    {
     "data": {
      "text/html": [
       "<div>\n",
       "<style scoped>\n",
       "    .dataframe tbody tr th:only-of-type {\n",
       "        vertical-align: middle;\n",
       "    }\n",
       "\n",
       "    .dataframe tbody tr th {\n",
       "        vertical-align: top;\n",
       "    }\n",
       "\n",
       "    .dataframe thead th {\n",
       "        text-align: right;\n",
       "    }\n",
       "</style>\n",
       "<table border=\"1\" class=\"dataframe\">\n",
       "  <thead>\n",
       "    <tr style=\"text-align: right;\">\n",
       "      <th></th>\n",
       "      <th>gender</th>\n",
       "      <th>bb1</th>\n",
       "      <th>bb2</th>\n",
       "      <th>bb3</th>\n",
       "      <th>bb4</th>\n",
       "      <th>bb5</th>\n",
       "      <th>bb6</th>\n",
       "      <th>bb7</th>\n",
       "      <th>bb8</th>\n",
       "      <th>bb9</th>\n",
       "      <th>...</th>\n",
       "      <th>bb16</th>\n",
       "      <th>bb17</th>\n",
       "      <th>bb18</th>\n",
       "      <th>bb19</th>\n",
       "      <th>bb20</th>\n",
       "      <th>bb21</th>\n",
       "      <th>bb22</th>\n",
       "      <th>bb23</th>\n",
       "      <th>bb24</th>\n",
       "      <th>pow</th>\n",
       "    </tr>\n",
       "  </thead>\n",
       "  <tbody>\n",
       "    <tr>\n",
       "      <th>5</th>\n",
       "      <td>female</td>\n",
       "      <td>0.000164</td>\n",
       "      <td>0.346419</td>\n",
       "      <td>0.309572</td>\n",
       "      <td>0.112718</td>\n",
       "      <td>0.089885</td>\n",
       "      <td>0.026873</td>\n",
       "      <td>0.006768</td>\n",
       "      <td>0.010106</td>\n",
       "      <td>0.021302</td>\n",
       "      <td>...</td>\n",
       "      <td>0.009488</td>\n",
       "      <td>0.012083</td>\n",
       "      <td>0.017960</td>\n",
       "      <td>0.011980</td>\n",
       "      <td>0.007387</td>\n",
       "      <td>0.001722</td>\n",
       "      <td>2.251056e-06</td>\n",
       "      <td>3.980795e-07</td>\n",
       "      <td>4.578924e-07</td>\n",
       "      <td>0.000017</td>\n",
       "    </tr>\n",
       "    <tr>\n",
       "      <th>8</th>\n",
       "      <td>male</td>\n",
       "      <td>0.000256</td>\n",
       "      <td>0.010624</td>\n",
       "      <td>0.026257</td>\n",
       "      <td>0.072948</td>\n",
       "      <td>0.370282</td>\n",
       "      <td>0.088766</td>\n",
       "      <td>0.126652</td>\n",
       "      <td>0.009465</td>\n",
       "      <td>0.002699</td>\n",
       "      <td>...</td>\n",
       "      <td>0.009131</td>\n",
       "      <td>0.004340</td>\n",
       "      <td>0.003747</td>\n",
       "      <td>0.005449</td>\n",
       "      <td>0.002582</td>\n",
       "      <td>0.000606</td>\n",
       "      <td>2.635786e-04</td>\n",
       "      <td>7.335723e-05</td>\n",
       "      <td>1.371439e-05</td>\n",
       "      <td>0.000257</td>\n",
       "    </tr>\n",
       "    <tr>\n",
       "      <th>13</th>\n",
       "      <td>female</td>\n",
       "      <td>0.000013</td>\n",
       "      <td>0.012291</td>\n",
       "      <td>0.024824</td>\n",
       "      <td>0.073325</td>\n",
       "      <td>0.079520</td>\n",
       "      <td>0.086500</td>\n",
       "      <td>0.017077</td>\n",
       "      <td>0.083755</td>\n",
       "      <td>0.056664</td>\n",
       "      <td>...</td>\n",
       "      <td>0.017602</td>\n",
       "      <td>0.011059</td>\n",
       "      <td>0.005872</td>\n",
       "      <td>0.001481</td>\n",
       "      <td>0.000901</td>\n",
       "      <td>0.000068</td>\n",
       "      <td>4.168404e-07</td>\n",
       "      <td>8.351631e-09</td>\n",
       "      <td>7.498852e-08</td>\n",
       "      <td>0.000630</td>\n",
       "    </tr>\n",
       "    <tr>\n",
       "      <th>14</th>\n",
       "      <td>male</td>\n",
       "      <td>0.000255</td>\n",
       "      <td>0.136101</td>\n",
       "      <td>0.154552</td>\n",
       "      <td>0.116748</td>\n",
       "      <td>0.447025</td>\n",
       "      <td>0.064714</td>\n",
       "      <td>0.049373</td>\n",
       "      <td>0.014565</td>\n",
       "      <td>0.001376</td>\n",
       "      <td>...</td>\n",
       "      <td>0.000356</td>\n",
       "      <td>0.001287</td>\n",
       "      <td>0.000507</td>\n",
       "      <td>0.002618</td>\n",
       "      <td>0.001901</td>\n",
       "      <td>0.000794</td>\n",
       "      <td>1.556793e-04</td>\n",
       "      <td>2.188191e-05</td>\n",
       "      <td>2.538794e-06</td>\n",
       "      <td>0.000361</td>\n",
       "    </tr>\n",
       "    <tr>\n",
       "      <th>19</th>\n",
       "      <td>male</td>\n",
       "      <td>0.144352</td>\n",
       "      <td>0.260208</td>\n",
       "      <td>0.136039</td>\n",
       "      <td>0.134373</td>\n",
       "      <td>0.117953</td>\n",
       "      <td>0.062551</td>\n",
       "      <td>0.051448</td>\n",
       "      <td>0.019340</td>\n",
       "      <td>0.014022</td>\n",
       "      <td>...</td>\n",
       "      <td>0.000543</td>\n",
       "      <td>0.001736</td>\n",
       "      <td>0.002108</td>\n",
       "      <td>0.001501</td>\n",
       "      <td>0.005185</td>\n",
       "      <td>0.005998</td>\n",
       "      <td>5.531622e-03</td>\n",
       "      <td>3.793115e-03</td>\n",
       "      <td>8.228526e-04</td>\n",
       "      <td>0.000793</td>\n",
       "    </tr>\n",
       "    <tr>\n",
       "      <th>20</th>\n",
       "      <td>male</td>\n",
       "      <td>0.000121</td>\n",
       "      <td>0.026492</td>\n",
       "      <td>0.021798</td>\n",
       "      <td>0.029957</td>\n",
       "      <td>0.026305</td>\n",
       "      <td>0.029966</td>\n",
       "      <td>0.027395</td>\n",
       "      <td>0.019083</td>\n",
       "      <td>0.021616</td>\n",
       "      <td>...</td>\n",
       "      <td>0.013495</td>\n",
       "      <td>0.018566</td>\n",
       "      <td>0.059609</td>\n",
       "      <td>0.114471</td>\n",
       "      <td>0.097925</td>\n",
       "      <td>0.181942</td>\n",
       "      <td>1.336555e-01</td>\n",
       "      <td>8.910376e-02</td>\n",
       "      <td>1.241827e-02</td>\n",
       "      <td>0.002588</td>\n",
       "    </tr>\n",
       "    <tr>\n",
       "      <th>23</th>\n",
       "      <td>male</td>\n",
       "      <td>0.001232</td>\n",
       "      <td>0.027082</td>\n",
       "      <td>0.043156</td>\n",
       "      <td>0.040942</td>\n",
       "      <td>0.122492</td>\n",
       "      <td>0.345486</td>\n",
       "      <td>0.055621</td>\n",
       "      <td>0.033860</td>\n",
       "      <td>0.036756</td>\n",
       "      <td>...</td>\n",
       "      <td>0.011852</td>\n",
       "      <td>0.075292</td>\n",
       "      <td>0.007661</td>\n",
       "      <td>0.001774</td>\n",
       "      <td>0.011143</td>\n",
       "      <td>0.003722</td>\n",
       "      <td>6.692970e-06</td>\n",
       "      <td>5.501780e-08</td>\n",
       "      <td>6.693266e-08</td>\n",
       "      <td>0.002497</td>\n",
       "    </tr>\n",
       "    <tr>\n",
       "      <th>26</th>\n",
       "      <td>female</td>\n",
       "      <td>0.000612</td>\n",
       "      <td>0.160055</td>\n",
       "      <td>0.195700</td>\n",
       "      <td>0.059902</td>\n",
       "      <td>0.024315</td>\n",
       "      <td>0.101049</td>\n",
       "      <td>0.086644</td>\n",
       "      <td>0.026320</td>\n",
       "      <td>0.006948</td>\n",
       "      <td>...</td>\n",
       "      <td>0.029047</td>\n",
       "      <td>0.009506</td>\n",
       "      <td>0.003670</td>\n",
       "      <td>0.004804</td>\n",
       "      <td>0.023163</td>\n",
       "      <td>0.029298</td>\n",
       "      <td>2.803322e-02</td>\n",
       "      <td>6.210372e-03</td>\n",
       "      <td>1.521957e-03</td>\n",
       "      <td>0.003784</td>\n",
       "    </tr>\n",
       "    <tr>\n",
       "      <th>27</th>\n",
       "      <td>male</td>\n",
       "      <td>0.001098</td>\n",
       "      <td>0.048945</td>\n",
       "      <td>0.078252</td>\n",
       "      <td>0.139910</td>\n",
       "      <td>0.222739</td>\n",
       "      <td>0.229711</td>\n",
       "      <td>0.034739</td>\n",
       "      <td>0.015177</td>\n",
       "      <td>0.024850</td>\n",
       "      <td>...</td>\n",
       "      <td>0.029185</td>\n",
       "      <td>0.010427</td>\n",
       "      <td>0.001619</td>\n",
       "      <td>0.013908</td>\n",
       "      <td>0.003697</td>\n",
       "      <td>0.001467</td>\n",
       "      <td>7.152630e-04</td>\n",
       "      <td>1.426869e-03</td>\n",
       "      <td>5.790363e-04</td>\n",
       "      <td>0.002088</td>\n",
       "    </tr>\n",
       "    <tr>\n",
       "      <th>29</th>\n",
       "      <td>male</td>\n",
       "      <td>0.000161</td>\n",
       "      <td>0.047988</td>\n",
       "      <td>0.198414</td>\n",
       "      <td>0.185366</td>\n",
       "      <td>0.177054</td>\n",
       "      <td>0.273751</td>\n",
       "      <td>0.071023</td>\n",
       "      <td>0.007879</td>\n",
       "      <td>0.008246</td>\n",
       "      <td>...</td>\n",
       "      <td>0.000614</td>\n",
       "      <td>0.000345</td>\n",
       "      <td>0.001562</td>\n",
       "      <td>0.000664</td>\n",
       "      <td>0.000301</td>\n",
       "      <td>0.000336</td>\n",
       "      <td>3.377992e-04</td>\n",
       "      <td>1.611628e-04</td>\n",
       "      <td>1.401976e-04</td>\n",
       "      <td>0.001666</td>\n",
       "    </tr>\n",
       "    <tr>\n",
       "      <th>34</th>\n",
       "      <td>female</td>\n",
       "      <td>0.000072</td>\n",
       "      <td>0.005896</td>\n",
       "      <td>0.277158</td>\n",
       "      <td>0.103234</td>\n",
       "      <td>0.044143</td>\n",
       "      <td>0.073500</td>\n",
       "      <td>0.119425</td>\n",
       "      <td>0.090046</td>\n",
       "      <td>0.085235</td>\n",
       "      <td>...</td>\n",
       "      <td>0.020944</td>\n",
       "      <td>0.007982</td>\n",
       "      <td>0.004943</td>\n",
       "      <td>0.000782</td>\n",
       "      <td>0.000412</td>\n",
       "      <td>0.000165</td>\n",
       "      <td>1.292462e-04</td>\n",
       "      <td>9.855113e-05</td>\n",
       "      <td>1.013788e-05</td>\n",
       "      <td>0.000220</td>\n",
       "    </tr>\n",
       "    <tr>\n",
       "      <th>36</th>\n",
       "      <td>male</td>\n",
       "      <td>0.000736</td>\n",
       "      <td>0.013462</td>\n",
       "      <td>0.109838</td>\n",
       "      <td>0.149598</td>\n",
       "      <td>0.191888</td>\n",
       "      <td>0.185792</td>\n",
       "      <td>0.130614</td>\n",
       "      <td>0.044466</td>\n",
       "      <td>0.021678</td>\n",
       "      <td>...</td>\n",
       "      <td>0.003035</td>\n",
       "      <td>0.012408</td>\n",
       "      <td>0.009802</td>\n",
       "      <td>0.003647</td>\n",
       "      <td>0.004159</td>\n",
       "      <td>0.009747</td>\n",
       "      <td>3.498291e-03</td>\n",
       "      <td>1.969993e-03</td>\n",
       "      <td>5.204862e-04</td>\n",
       "      <td>0.002171</td>\n",
       "    </tr>\n",
       "    <tr>\n",
       "      <th>39</th>\n",
       "      <td>female</td>\n",
       "      <td>0.000123</td>\n",
       "      <td>0.131565</td>\n",
       "      <td>0.207840</td>\n",
       "      <td>0.095283</td>\n",
       "      <td>0.072825</td>\n",
       "      <td>0.097424</td>\n",
       "      <td>0.230881</td>\n",
       "      <td>0.065287</td>\n",
       "      <td>0.012277</td>\n",
       "      <td>...</td>\n",
       "      <td>0.001570</td>\n",
       "      <td>0.004047</td>\n",
       "      <td>0.008391</td>\n",
       "      <td>0.001968</td>\n",
       "      <td>0.001747</td>\n",
       "      <td>0.011354</td>\n",
       "      <td>1.847707e-02</td>\n",
       "      <td>9.957320e-03</td>\n",
       "      <td>2.776871e-03</td>\n",
       "      <td>0.000014</td>\n",
       "    </tr>\n",
       "    <tr>\n",
       "      <th>43</th>\n",
       "      <td>male</td>\n",
       "      <td>0.000633</td>\n",
       "      <td>0.046292</td>\n",
       "      <td>0.059650</td>\n",
       "      <td>0.100992</td>\n",
       "      <td>0.308038</td>\n",
       "      <td>0.195260</td>\n",
       "      <td>0.131628</td>\n",
       "      <td>0.028034</td>\n",
       "      <td>0.053444</td>\n",
       "      <td>...</td>\n",
       "      <td>0.031054</td>\n",
       "      <td>0.013700</td>\n",
       "      <td>0.004503</td>\n",
       "      <td>0.001016</td>\n",
       "      <td>0.000544</td>\n",
       "      <td>0.000352</td>\n",
       "      <td>1.217697e-07</td>\n",
       "      <td>4.230173e-09</td>\n",
       "      <td>5.657737e-09</td>\n",
       "      <td>0.000816</td>\n",
       "    </tr>\n",
       "    <tr>\n",
       "      <th>44</th>\n",
       "      <td>male</td>\n",
       "      <td>0.004877</td>\n",
       "      <td>0.129453</td>\n",
       "      <td>0.073886</td>\n",
       "      <td>0.265157</td>\n",
       "      <td>0.200321</td>\n",
       "      <td>0.052331</td>\n",
       "      <td>0.020503</td>\n",
       "      <td>0.017082</td>\n",
       "      <td>0.020126</td>\n",
       "      <td>...</td>\n",
       "      <td>0.016666</td>\n",
       "      <td>0.028673</td>\n",
       "      <td>0.009933</td>\n",
       "      <td>0.064617</td>\n",
       "      <td>0.026660</td>\n",
       "      <td>0.001828</td>\n",
       "      <td>7.835361e-08</td>\n",
       "      <td>1.184009e-08</td>\n",
       "      <td>1.401269e-08</td>\n",
       "      <td>0.000137</td>\n",
       "    </tr>\n",
       "    <tr>\n",
       "      <th>47</th>\n",
       "      <td>male</td>\n",
       "      <td>0.000344</td>\n",
       "      <td>0.083028</td>\n",
       "      <td>0.160482</td>\n",
       "      <td>0.173397</td>\n",
       "      <td>0.204337</td>\n",
       "      <td>0.141287</td>\n",
       "      <td>0.005048</td>\n",
       "      <td>0.018971</td>\n",
       "      <td>0.045231</td>\n",
       "      <td>...</td>\n",
       "      <td>0.006029</td>\n",
       "      <td>0.004531</td>\n",
       "      <td>0.001013</td>\n",
       "      <td>0.001933</td>\n",
       "      <td>0.007078</td>\n",
       "      <td>0.001065</td>\n",
       "      <td>2.842685e-06</td>\n",
       "      <td>6.013363e-07</td>\n",
       "      <td>2.010446e-07</td>\n",
       "      <td>0.002148</td>\n",
       "    </tr>\n",
       "    <tr>\n",
       "      <th>49</th>\n",
       "      <td>male</td>\n",
       "      <td>0.001059</td>\n",
       "      <td>0.104086</td>\n",
       "      <td>0.173208</td>\n",
       "      <td>0.112233</td>\n",
       "      <td>0.239831</td>\n",
       "      <td>0.145722</td>\n",
       "      <td>0.118450</td>\n",
       "      <td>0.031349</td>\n",
       "      <td>0.048499</td>\n",
       "      <td>...</td>\n",
       "      <td>0.000613</td>\n",
       "      <td>0.001315</td>\n",
       "      <td>0.002356</td>\n",
       "      <td>0.000714</td>\n",
       "      <td>0.001233</td>\n",
       "      <td>0.000203</td>\n",
       "      <td>2.509543e-04</td>\n",
       "      <td>2.990976e-04</td>\n",
       "      <td>2.644622e-05</td>\n",
       "      <td>0.000648</td>\n",
       "    </tr>\n",
       "    <tr>\n",
       "      <th>50</th>\n",
       "      <td>male</td>\n",
       "      <td>0.038483</td>\n",
       "      <td>0.542479</td>\n",
       "      <td>0.097245</td>\n",
       "      <td>0.092102</td>\n",
       "      <td>0.077466</td>\n",
       "      <td>0.087919</td>\n",
       "      <td>0.019557</td>\n",
       "      <td>0.005110</td>\n",
       "      <td>0.002084</td>\n",
       "      <td>...</td>\n",
       "      <td>0.005070</td>\n",
       "      <td>0.006601</td>\n",
       "      <td>0.008099</td>\n",
       "      <td>0.001843</td>\n",
       "      <td>0.000746</td>\n",
       "      <td>0.000421</td>\n",
       "      <td>1.585509e-04</td>\n",
       "      <td>7.524478e-05</td>\n",
       "      <td>1.923591e-06</td>\n",
       "      <td>0.001727</td>\n",
       "    </tr>\n",
       "    <tr>\n",
       "      <th>51</th>\n",
       "      <td>female</td>\n",
       "      <td>0.000221</td>\n",
       "      <td>0.022924</td>\n",
       "      <td>0.173187</td>\n",
       "      <td>0.220241</td>\n",
       "      <td>0.141652</td>\n",
       "      <td>0.157068</td>\n",
       "      <td>0.027177</td>\n",
       "      <td>0.033139</td>\n",
       "      <td>0.028850</td>\n",
       "      <td>...</td>\n",
       "      <td>0.005779</td>\n",
       "      <td>0.002293</td>\n",
       "      <td>0.000474</td>\n",
       "      <td>0.000314</td>\n",
       "      <td>0.000464</td>\n",
       "      <td>0.001044</td>\n",
       "      <td>7.390215e-04</td>\n",
       "      <td>2.116948e-03</td>\n",
       "      <td>8.409453e-04</td>\n",
       "      <td>0.002232</td>\n",
       "    </tr>\n",
       "    <tr>\n",
       "      <th>53</th>\n",
       "      <td>male</td>\n",
       "      <td>0.000238</td>\n",
       "      <td>0.032344</td>\n",
       "      <td>0.105215</td>\n",
       "      <td>0.131641</td>\n",
       "      <td>0.373671</td>\n",
       "      <td>0.192144</td>\n",
       "      <td>0.058246</td>\n",
       "      <td>0.041305</td>\n",
       "      <td>0.013401</td>\n",
       "      <td>...</td>\n",
       "      <td>0.000686</td>\n",
       "      <td>0.000444</td>\n",
       "      <td>0.007536</td>\n",
       "      <td>0.013141</td>\n",
       "      <td>0.006031</td>\n",
       "      <td>0.003098</td>\n",
       "      <td>7.511539e-04</td>\n",
       "      <td>6.964900e-04</td>\n",
       "      <td>1.698670e-04</td>\n",
       "      <td>0.000207</td>\n",
       "    </tr>\n",
       "    <tr>\n",
       "      <th>54</th>\n",
       "      <td>male</td>\n",
       "      <td>0.017825</td>\n",
       "      <td>0.138170</td>\n",
       "      <td>0.068508</td>\n",
       "      <td>0.112385</td>\n",
       "      <td>0.232508</td>\n",
       "      <td>0.218484</td>\n",
       "      <td>0.137059</td>\n",
       "      <td>0.056667</td>\n",
       "      <td>0.003200</td>\n",
       "      <td>...</td>\n",
       "      <td>0.000070</td>\n",
       "      <td>0.000043</td>\n",
       "      <td>0.000014</td>\n",
       "      <td>0.000322</td>\n",
       "      <td>0.000311</td>\n",
       "      <td>0.000046</td>\n",
       "      <td>4.446716e-08</td>\n",
       "      <td>1.011949e-08</td>\n",
       "      <td>1.148148e-08</td>\n",
       "      <td>0.000984</td>\n",
       "    </tr>\n",
       "    <tr>\n",
       "      <th>56</th>\n",
       "      <td>male</td>\n",
       "      <td>0.000165</td>\n",
       "      <td>0.230481</td>\n",
       "      <td>0.212460</td>\n",
       "      <td>0.086898</td>\n",
       "      <td>0.142701</td>\n",
       "      <td>0.208651</td>\n",
       "      <td>0.031250</td>\n",
       "      <td>0.018027</td>\n",
       "      <td>0.006364</td>\n",
       "      <td>...</td>\n",
       "      <td>0.002093</td>\n",
       "      <td>0.004460</td>\n",
       "      <td>0.008282</td>\n",
       "      <td>0.002853</td>\n",
       "      <td>0.005326</td>\n",
       "      <td>0.002441</td>\n",
       "      <td>8.424946e-04</td>\n",
       "      <td>5.172434e-05</td>\n",
       "      <td>2.862324e-07</td>\n",
       "      <td>0.000289</td>\n",
       "    </tr>\n",
       "    <tr>\n",
       "      <th>57</th>\n",
       "      <td>female</td>\n",
       "      <td>0.000084</td>\n",
       "      <td>0.234174</td>\n",
       "      <td>0.161515</td>\n",
       "      <td>0.408057</td>\n",
       "      <td>0.020778</td>\n",
       "      <td>0.038666</td>\n",
       "      <td>0.086433</td>\n",
       "      <td>0.033545</td>\n",
       "      <td>0.006139</td>\n",
       "      <td>...</td>\n",
       "      <td>0.000043</td>\n",
       "      <td>0.000006</td>\n",
       "      <td>0.000006</td>\n",
       "      <td>0.000176</td>\n",
       "      <td>0.000680</td>\n",
       "      <td>0.000077</td>\n",
       "      <td>3.427091e-05</td>\n",
       "      <td>4.653643e-06</td>\n",
       "      <td>8.329441e-07</td>\n",
       "      <td>0.001718</td>\n",
       "    </tr>\n",
       "    <tr>\n",
       "      <th>59</th>\n",
       "      <td>female</td>\n",
       "      <td>0.000029</td>\n",
       "      <td>0.003687</td>\n",
       "      <td>0.238527</td>\n",
       "      <td>0.105668</td>\n",
       "      <td>0.094846</td>\n",
       "      <td>0.197040</td>\n",
       "      <td>0.031593</td>\n",
       "      <td>0.030955</td>\n",
       "      <td>0.001860</td>\n",
       "      <td>...</td>\n",
       "      <td>0.013364</td>\n",
       "      <td>0.003193</td>\n",
       "      <td>0.002767</td>\n",
       "      <td>0.005757</td>\n",
       "      <td>0.011251</td>\n",
       "      <td>0.008068</td>\n",
       "      <td>1.496035e-03</td>\n",
       "      <td>8.204116e-04</td>\n",
       "      <td>7.636027e-05</td>\n",
       "      <td>0.000949</td>\n",
       "    </tr>\n",
       "    <tr>\n",
       "      <th>62</th>\n",
       "      <td>male</td>\n",
       "      <td>0.000237</td>\n",
       "      <td>0.022468</td>\n",
       "      <td>0.058534</td>\n",
       "      <td>0.201168</td>\n",
       "      <td>0.385268</td>\n",
       "      <td>0.173172</td>\n",
       "      <td>0.056414</td>\n",
       "      <td>0.018775</td>\n",
       "      <td>0.024085</td>\n",
       "      <td>...</td>\n",
       "      <td>0.000423</td>\n",
       "      <td>0.002953</td>\n",
       "      <td>0.002702</td>\n",
       "      <td>0.000355</td>\n",
       "      <td>0.000052</td>\n",
       "      <td>0.000104</td>\n",
       "      <td>1.082751e-04</td>\n",
       "      <td>3.685918e-05</td>\n",
       "      <td>1.129882e-05</td>\n",
       "      <td>0.000384</td>\n",
       "    </tr>\n",
       "    <tr>\n",
       "      <th>65</th>\n",
       "      <td>male</td>\n",
       "      <td>0.016294</td>\n",
       "      <td>0.033131</td>\n",
       "      <td>0.266205</td>\n",
       "      <td>0.105925</td>\n",
       "      <td>0.029881</td>\n",
       "      <td>0.101046</td>\n",
       "      <td>0.225789</td>\n",
       "      <td>0.037249</td>\n",
       "      <td>0.019363</td>\n",
       "      <td>...</td>\n",
       "      <td>0.010027</td>\n",
       "      <td>0.005166</td>\n",
       "      <td>0.003220</td>\n",
       "      <td>0.001585</td>\n",
       "      <td>0.000248</td>\n",
       "      <td>0.000108</td>\n",
       "      <td>7.027628e-05</td>\n",
       "      <td>5.153391e-04</td>\n",
       "      <td>6.119522e-04</td>\n",
       "      <td>0.003006</td>\n",
       "    </tr>\n",
       "    <tr>\n",
       "      <th>68</th>\n",
       "      <td>male</td>\n",
       "      <td>0.000197</td>\n",
       "      <td>0.021991</td>\n",
       "      <td>0.121582</td>\n",
       "      <td>0.409616</td>\n",
       "      <td>0.259284</td>\n",
       "      <td>0.147041</td>\n",
       "      <td>0.020060</td>\n",
       "      <td>0.008393</td>\n",
       "      <td>0.007089</td>\n",
       "      <td>...</td>\n",
       "      <td>0.000212</td>\n",
       "      <td>0.000055</td>\n",
       "      <td>0.000137</td>\n",
       "      <td>0.000010</td>\n",
       "      <td>0.000010</td>\n",
       "      <td>0.000004</td>\n",
       "      <td>2.456025e-09</td>\n",
       "      <td>3.991160e-10</td>\n",
       "      <td>5.599062e-10</td>\n",
       "      <td>0.007414</td>\n",
       "    </tr>\n",
       "    <tr>\n",
       "      <th>72</th>\n",
       "      <td>male</td>\n",
       "      <td>0.019019</td>\n",
       "      <td>0.032518</td>\n",
       "      <td>0.011315</td>\n",
       "      <td>0.041754</td>\n",
       "      <td>0.124326</td>\n",
       "      <td>0.294632</td>\n",
       "      <td>0.262710</td>\n",
       "      <td>0.039405</td>\n",
       "      <td>0.031251</td>\n",
       "      <td>...</td>\n",
       "      <td>0.001150</td>\n",
       "      <td>0.001099</td>\n",
       "      <td>0.000938</td>\n",
       "      <td>0.000583</td>\n",
       "      <td>0.001346</td>\n",
       "      <td>0.000234</td>\n",
       "      <td>4.687093e-05</td>\n",
       "      <td>1.065760e-05</td>\n",
       "      <td>9.373376e-07</td>\n",
       "      <td>0.000874</td>\n",
       "    </tr>\n",
       "    <tr>\n",
       "      <th>73</th>\n",
       "      <td>male</td>\n",
       "      <td>0.007988</td>\n",
       "      <td>0.083970</td>\n",
       "      <td>0.120486</td>\n",
       "      <td>0.106760</td>\n",
       "      <td>0.240535</td>\n",
       "      <td>0.146463</td>\n",
       "      <td>0.062461</td>\n",
       "      <td>0.013455</td>\n",
       "      <td>0.015677</td>\n",
       "      <td>...</td>\n",
       "      <td>0.011663</td>\n",
       "      <td>0.008298</td>\n",
       "      <td>0.003621</td>\n",
       "      <td>0.002311</td>\n",
       "      <td>0.002096</td>\n",
       "      <td>0.001475</td>\n",
       "      <td>3.012690e-06</td>\n",
       "      <td>3.104604e-08</td>\n",
       "      <td>5.299513e-08</td>\n",
       "      <td>0.000134</td>\n",
       "    </tr>\n",
       "    <tr>\n",
       "      <th>77</th>\n",
       "      <td>female</td>\n",
       "      <td>0.000107</td>\n",
       "      <td>0.053099</td>\n",
       "      <td>0.176166</td>\n",
       "      <td>0.065515</td>\n",
       "      <td>0.175158</td>\n",
       "      <td>0.033159</td>\n",
       "      <td>0.049277</td>\n",
       "      <td>0.108357</td>\n",
       "      <td>0.201455</td>\n",
       "      <td>...</td>\n",
       "      <td>0.002687</td>\n",
       "      <td>0.003351</td>\n",
       "      <td>0.001810</td>\n",
       "      <td>0.005505</td>\n",
       "      <td>0.011516</td>\n",
       "      <td>0.005998</td>\n",
       "      <td>1.070371e-02</td>\n",
       "      <td>2.696426e-03</td>\n",
       "      <td>1.973337e-04</td>\n",
       "      <td>0.000213</td>\n",
       "    </tr>\n",
       "    <tr>\n",
       "      <th>81</th>\n",
       "      <td>male</td>\n",
       "      <td>0.000176</td>\n",
       "      <td>0.053162</td>\n",
       "      <td>0.060652</td>\n",
       "      <td>0.095421</td>\n",
       "      <td>0.075763</td>\n",
       "      <td>0.065843</td>\n",
       "      <td>0.161692</td>\n",
       "      <td>0.156424</td>\n",
       "      <td>0.024696</td>\n",
       "      <td>...</td>\n",
       "      <td>0.008809</td>\n",
       "      <td>0.017474</td>\n",
       "      <td>0.024762</td>\n",
       "      <td>0.039606</td>\n",
       "      <td>0.035665</td>\n",
       "      <td>0.035905</td>\n",
       "      <td>6.456854e-02</td>\n",
       "      <td>1.212857e-02</td>\n",
       "      <td>1.729835e-04</td>\n",
       "      <td>0.001488</td>\n",
       "    </tr>\n",
       "    <tr>\n",
       "      <th>82</th>\n",
       "      <td>male</td>\n",
       "      <td>0.006191</td>\n",
       "      <td>0.046427</td>\n",
       "      <td>0.099072</td>\n",
       "      <td>0.039467</td>\n",
       "      <td>0.063765</td>\n",
       "      <td>0.076922</td>\n",
       "      <td>0.175110</td>\n",
       "      <td>0.073738</td>\n",
       "      <td>0.021754</td>\n",
       "      <td>...</td>\n",
       "      <td>0.007586</td>\n",
       "      <td>0.023551</td>\n",
       "      <td>0.031304</td>\n",
       "      <td>0.014980</td>\n",
       "      <td>0.004314</td>\n",
       "      <td>0.004678</td>\n",
       "      <td>7.387584e-03</td>\n",
       "      <td>1.169990e-03</td>\n",
       "      <td>1.658830e-04</td>\n",
       "      <td>0.000496</td>\n",
       "    </tr>\n",
       "    <tr>\n",
       "      <th>88</th>\n",
       "      <td>female</td>\n",
       "      <td>0.000126</td>\n",
       "      <td>0.000406</td>\n",
       "      <td>0.092176</td>\n",
       "      <td>0.004763</td>\n",
       "      <td>0.091373</td>\n",
       "      <td>0.104255</td>\n",
       "      <td>0.062079</td>\n",
       "      <td>0.046767</td>\n",
       "      <td>0.020113</td>\n",
       "      <td>...</td>\n",
       "      <td>0.000443</td>\n",
       "      <td>0.000194</td>\n",
       "      <td>0.000456</td>\n",
       "      <td>0.003685</td>\n",
       "      <td>0.027556</td>\n",
       "      <td>0.130937</td>\n",
       "      <td>3.878393e-01</td>\n",
       "      <td>1.531627e-02</td>\n",
       "      <td>1.195104e-03</td>\n",
       "      <td>0.003475</td>\n",
       "    </tr>\n",
       "    <tr>\n",
       "      <th>92</th>\n",
       "      <td>male</td>\n",
       "      <td>0.001190</td>\n",
       "      <td>0.341513</td>\n",
       "      <td>0.088148</td>\n",
       "      <td>0.220062</td>\n",
       "      <td>0.199134</td>\n",
       "      <td>0.044826</td>\n",
       "      <td>0.050695</td>\n",
       "      <td>0.009852</td>\n",
       "      <td>0.003946</td>\n",
       "      <td>...</td>\n",
       "      <td>0.001179</td>\n",
       "      <td>0.000514</td>\n",
       "      <td>0.000827</td>\n",
       "      <td>0.001483</td>\n",
       "      <td>0.000509</td>\n",
       "      <td>0.000269</td>\n",
       "      <td>4.408208e-04</td>\n",
       "      <td>7.217360e-04</td>\n",
       "      <td>9.141065e-05</td>\n",
       "      <td>0.000821</td>\n",
       "    </tr>\n",
       "    <tr>\n",
       "      <th>97</th>\n",
       "      <td>male</td>\n",
       "      <td>0.000348</td>\n",
       "      <td>0.268568</td>\n",
       "      <td>0.116881</td>\n",
       "      <td>0.149500</td>\n",
       "      <td>0.305162</td>\n",
       "      <td>0.083319</td>\n",
       "      <td>0.022902</td>\n",
       "      <td>0.004051</td>\n",
       "      <td>0.005984</td>\n",
       "      <td>...</td>\n",
       "      <td>0.001230</td>\n",
       "      <td>0.004766</td>\n",
       "      <td>0.000582</td>\n",
       "      <td>0.000203</td>\n",
       "      <td>0.000280</td>\n",
       "      <td>0.000292</td>\n",
       "      <td>3.771293e-04</td>\n",
       "      <td>1.330530e-03</td>\n",
       "      <td>2.640107e-04</td>\n",
       "      <td>0.002540</td>\n",
       "    </tr>\n",
       "    <tr>\n",
       "      <th>100</th>\n",
       "      <td>male</td>\n",
       "      <td>0.000509</td>\n",
       "      <td>0.063228</td>\n",
       "      <td>0.124037</td>\n",
       "      <td>0.021468</td>\n",
       "      <td>0.115516</td>\n",
       "      <td>0.253174</td>\n",
       "      <td>0.110671</td>\n",
       "      <td>0.022665</td>\n",
       "      <td>0.017948</td>\n",
       "      <td>...</td>\n",
       "      <td>0.004290</td>\n",
       "      <td>0.014771</td>\n",
       "      <td>0.011027</td>\n",
       "      <td>0.019281</td>\n",
       "      <td>0.036532</td>\n",
       "      <td>0.046266</td>\n",
       "      <td>9.589889e-02</td>\n",
       "      <td>1.923098e-02</td>\n",
       "      <td>1.909087e-03</td>\n",
       "      <td>0.000389</td>\n",
       "    </tr>\n",
       "    <tr>\n",
       "      <th>101</th>\n",
       "      <td>female</td>\n",
       "      <td>0.000043</td>\n",
       "      <td>0.001420</td>\n",
       "      <td>0.724487</td>\n",
       "      <td>0.078849</td>\n",
       "      <td>0.077902</td>\n",
       "      <td>0.011177</td>\n",
       "      <td>0.044822</td>\n",
       "      <td>0.008081</td>\n",
       "      <td>0.005700</td>\n",
       "      <td>...</td>\n",
       "      <td>0.004945</td>\n",
       "      <td>0.013990</td>\n",
       "      <td>0.009321</td>\n",
       "      <td>0.004393</td>\n",
       "      <td>0.000629</td>\n",
       "      <td>0.000097</td>\n",
       "      <td>1.862440e-04</td>\n",
       "      <td>9.323314e-04</td>\n",
       "      <td>1.134266e-04</td>\n",
       "      <td>0.000014</td>\n",
       "    </tr>\n",
       "    <tr>\n",
       "      <th>105</th>\n",
       "      <td>male</td>\n",
       "      <td>0.183897</td>\n",
       "      <td>0.200990</td>\n",
       "      <td>0.168147</td>\n",
       "      <td>0.122711</td>\n",
       "      <td>0.140723</td>\n",
       "      <td>0.091902</td>\n",
       "      <td>0.029141</td>\n",
       "      <td>0.010027</td>\n",
       "      <td>0.002264</td>\n",
       "      <td>...</td>\n",
       "      <td>0.002552</td>\n",
       "      <td>0.002176</td>\n",
       "      <td>0.000399</td>\n",
       "      <td>0.000397</td>\n",
       "      <td>0.001728</td>\n",
       "      <td>0.000516</td>\n",
       "      <td>5.323345e-04</td>\n",
       "      <td>1.619875e-04</td>\n",
       "      <td>6.190289e-05</td>\n",
       "      <td>0.007618</td>\n",
       "    </tr>\n",
       "    <tr>\n",
       "      <th>106</th>\n",
       "      <td>female</td>\n",
       "      <td>0.000021</td>\n",
       "      <td>0.004530</td>\n",
       "      <td>0.020467</td>\n",
       "      <td>0.019172</td>\n",
       "      <td>0.015996</td>\n",
       "      <td>0.042954</td>\n",
       "      <td>0.120365</td>\n",
       "      <td>0.052559</td>\n",
       "      <td>0.348391</td>\n",
       "      <td>...</td>\n",
       "      <td>0.001772</td>\n",
       "      <td>0.004781</td>\n",
       "      <td>0.000297</td>\n",
       "      <td>0.000336</td>\n",
       "      <td>0.000159</td>\n",
       "      <td>0.000043</td>\n",
       "      <td>4.563317e-05</td>\n",
       "      <td>1.947745e-05</td>\n",
       "      <td>1.680054e-06</td>\n",
       "      <td>0.000402</td>\n",
       "    </tr>\n",
       "    <tr>\n",
       "      <th>111</th>\n",
       "      <td>male</td>\n",
       "      <td>0.001832</td>\n",
       "      <td>0.309419</td>\n",
       "      <td>0.228539</td>\n",
       "      <td>0.295927</td>\n",
       "      <td>0.051414</td>\n",
       "      <td>0.041282</td>\n",
       "      <td>0.027302</td>\n",
       "      <td>0.009592</td>\n",
       "      <td>0.013247</td>\n",
       "      <td>...</td>\n",
       "      <td>0.000154</td>\n",
       "      <td>0.000471</td>\n",
       "      <td>0.000614</td>\n",
       "      <td>0.000353</td>\n",
       "      <td>0.000139</td>\n",
       "      <td>0.000025</td>\n",
       "      <td>3.954346e-04</td>\n",
       "      <td>2.906787e-04</td>\n",
       "      <td>4.516015e-06</td>\n",
       "      <td>0.001553</td>\n",
       "    </tr>\n",
       "  </tbody>\n",
       "</table>\n",
       "<p>40 rows × 26 columns</p>\n",
       "</div>"
      ],
      "text/plain": [
       "     gender       bb1       bb2       bb3       bb4       bb5       bb6  \\\n",
       "5    female  0.000164  0.346419  0.309572  0.112718  0.089885  0.026873   \n",
       "8      male  0.000256  0.010624  0.026257  0.072948  0.370282  0.088766   \n",
       "13   female  0.000013  0.012291  0.024824  0.073325  0.079520  0.086500   \n",
       "14     male  0.000255  0.136101  0.154552  0.116748  0.447025  0.064714   \n",
       "19     male  0.144352  0.260208  0.136039  0.134373  0.117953  0.062551   \n",
       "20     male  0.000121  0.026492  0.021798  0.029957  0.026305  0.029966   \n",
       "23     male  0.001232  0.027082  0.043156  0.040942  0.122492  0.345486   \n",
       "26   female  0.000612  0.160055  0.195700  0.059902  0.024315  0.101049   \n",
       "27     male  0.001098  0.048945  0.078252  0.139910  0.222739  0.229711   \n",
       "29     male  0.000161  0.047988  0.198414  0.185366  0.177054  0.273751   \n",
       "34   female  0.000072  0.005896  0.277158  0.103234  0.044143  0.073500   \n",
       "36     male  0.000736  0.013462  0.109838  0.149598  0.191888  0.185792   \n",
       "39   female  0.000123  0.131565  0.207840  0.095283  0.072825  0.097424   \n",
       "43     male  0.000633  0.046292  0.059650  0.100992  0.308038  0.195260   \n",
       "44     male  0.004877  0.129453  0.073886  0.265157  0.200321  0.052331   \n",
       "47     male  0.000344  0.083028  0.160482  0.173397  0.204337  0.141287   \n",
       "49     male  0.001059  0.104086  0.173208  0.112233  0.239831  0.145722   \n",
       "50     male  0.038483  0.542479  0.097245  0.092102  0.077466  0.087919   \n",
       "51   female  0.000221  0.022924  0.173187  0.220241  0.141652  0.157068   \n",
       "53     male  0.000238  0.032344  0.105215  0.131641  0.373671  0.192144   \n",
       "54     male  0.017825  0.138170  0.068508  0.112385  0.232508  0.218484   \n",
       "56     male  0.000165  0.230481  0.212460  0.086898  0.142701  0.208651   \n",
       "57   female  0.000084  0.234174  0.161515  0.408057  0.020778  0.038666   \n",
       "59   female  0.000029  0.003687  0.238527  0.105668  0.094846  0.197040   \n",
       "62     male  0.000237  0.022468  0.058534  0.201168  0.385268  0.173172   \n",
       "65     male  0.016294  0.033131  0.266205  0.105925  0.029881  0.101046   \n",
       "68     male  0.000197  0.021991  0.121582  0.409616  0.259284  0.147041   \n",
       "72     male  0.019019  0.032518  0.011315  0.041754  0.124326  0.294632   \n",
       "73     male  0.007988  0.083970  0.120486  0.106760  0.240535  0.146463   \n",
       "77   female  0.000107  0.053099  0.176166  0.065515  0.175158  0.033159   \n",
       "81     male  0.000176  0.053162  0.060652  0.095421  0.075763  0.065843   \n",
       "82     male  0.006191  0.046427  0.099072  0.039467  0.063765  0.076922   \n",
       "88   female  0.000126  0.000406  0.092176  0.004763  0.091373  0.104255   \n",
       "92     male  0.001190  0.341513  0.088148  0.220062  0.199134  0.044826   \n",
       "97     male  0.000348  0.268568  0.116881  0.149500  0.305162  0.083319   \n",
       "100    male  0.000509  0.063228  0.124037  0.021468  0.115516  0.253174   \n",
       "101  female  0.000043  0.001420  0.724487  0.078849  0.077902  0.011177   \n",
       "105    male  0.183897  0.200990  0.168147  0.122711  0.140723  0.091902   \n",
       "106  female  0.000021  0.004530  0.020467  0.019172  0.015996  0.042954   \n",
       "111    male  0.001832  0.309419  0.228539  0.295927  0.051414  0.041282   \n",
       "\n",
       "          bb7       bb8       bb9    ...         bb16      bb17      bb18  \\\n",
       "5    0.006768  0.010106  0.021302    ...     0.009488  0.012083  0.017960   \n",
       "8    0.126652  0.009465  0.002699    ...     0.009131  0.004340  0.003747   \n",
       "13   0.017077  0.083755  0.056664    ...     0.017602  0.011059  0.005872   \n",
       "14   0.049373  0.014565  0.001376    ...     0.000356  0.001287  0.000507   \n",
       "19   0.051448  0.019340  0.014022    ...     0.000543  0.001736  0.002108   \n",
       "20   0.027395  0.019083  0.021616    ...     0.013495  0.018566  0.059609   \n",
       "23   0.055621  0.033860  0.036756    ...     0.011852  0.075292  0.007661   \n",
       "26   0.086644  0.026320  0.006948    ...     0.029047  0.009506  0.003670   \n",
       "27   0.034739  0.015177  0.024850    ...     0.029185  0.010427  0.001619   \n",
       "29   0.071023  0.007879  0.008246    ...     0.000614  0.000345  0.001562   \n",
       "34   0.119425  0.090046  0.085235    ...     0.020944  0.007982  0.004943   \n",
       "36   0.130614  0.044466  0.021678    ...     0.003035  0.012408  0.009802   \n",
       "39   0.230881  0.065287  0.012277    ...     0.001570  0.004047  0.008391   \n",
       "43   0.131628  0.028034  0.053444    ...     0.031054  0.013700  0.004503   \n",
       "44   0.020503  0.017082  0.020126    ...     0.016666  0.028673  0.009933   \n",
       "47   0.005048  0.018971  0.045231    ...     0.006029  0.004531  0.001013   \n",
       "49   0.118450  0.031349  0.048499    ...     0.000613  0.001315  0.002356   \n",
       "50   0.019557  0.005110  0.002084    ...     0.005070  0.006601  0.008099   \n",
       "51   0.027177  0.033139  0.028850    ...     0.005779  0.002293  0.000474   \n",
       "53   0.058246  0.041305  0.013401    ...     0.000686  0.000444  0.007536   \n",
       "54   0.137059  0.056667  0.003200    ...     0.000070  0.000043  0.000014   \n",
       "56   0.031250  0.018027  0.006364    ...     0.002093  0.004460  0.008282   \n",
       "57   0.086433  0.033545  0.006139    ...     0.000043  0.000006  0.000006   \n",
       "59   0.031593  0.030955  0.001860    ...     0.013364  0.003193  0.002767   \n",
       "62   0.056414  0.018775  0.024085    ...     0.000423  0.002953  0.002702   \n",
       "65   0.225789  0.037249  0.019363    ...     0.010027  0.005166  0.003220   \n",
       "68   0.020060  0.008393  0.007089    ...     0.000212  0.000055  0.000137   \n",
       "72   0.262710  0.039405  0.031251    ...     0.001150  0.001099  0.000938   \n",
       "73   0.062461  0.013455  0.015677    ...     0.011663  0.008298  0.003621   \n",
       "77   0.049277  0.108357  0.201455    ...     0.002687  0.003351  0.001810   \n",
       "81   0.161692  0.156424  0.024696    ...     0.008809  0.017474  0.024762   \n",
       "82   0.175110  0.073738  0.021754    ...     0.007586  0.023551  0.031304   \n",
       "88   0.062079  0.046767  0.020113    ...     0.000443  0.000194  0.000456   \n",
       "92   0.050695  0.009852  0.003946    ...     0.001179  0.000514  0.000827   \n",
       "97   0.022902  0.004051  0.005984    ...     0.001230  0.004766  0.000582   \n",
       "100  0.110671  0.022665  0.017948    ...     0.004290  0.014771  0.011027   \n",
       "101  0.044822  0.008081  0.005700    ...     0.004945  0.013990  0.009321   \n",
       "105  0.029141  0.010027  0.002264    ...     0.002552  0.002176  0.000399   \n",
       "106  0.120365  0.052559  0.348391    ...     0.001772  0.004781  0.000297   \n",
       "111  0.027302  0.009592  0.013247    ...     0.000154  0.000471  0.000614   \n",
       "\n",
       "         bb19      bb20      bb21          bb22          bb23          bb24  \\\n",
       "5    0.011980  0.007387  0.001722  2.251056e-06  3.980795e-07  4.578924e-07   \n",
       "8    0.005449  0.002582  0.000606  2.635786e-04  7.335723e-05  1.371439e-05   \n",
       "13   0.001481  0.000901  0.000068  4.168404e-07  8.351631e-09  7.498852e-08   \n",
       "14   0.002618  0.001901  0.000794  1.556793e-04  2.188191e-05  2.538794e-06   \n",
       "19   0.001501  0.005185  0.005998  5.531622e-03  3.793115e-03  8.228526e-04   \n",
       "20   0.114471  0.097925  0.181942  1.336555e-01  8.910376e-02  1.241827e-02   \n",
       "23   0.001774  0.011143  0.003722  6.692970e-06  5.501780e-08  6.693266e-08   \n",
       "26   0.004804  0.023163  0.029298  2.803322e-02  6.210372e-03  1.521957e-03   \n",
       "27   0.013908  0.003697  0.001467  7.152630e-04  1.426869e-03  5.790363e-04   \n",
       "29   0.000664  0.000301  0.000336  3.377992e-04  1.611628e-04  1.401976e-04   \n",
       "34   0.000782  0.000412  0.000165  1.292462e-04  9.855113e-05  1.013788e-05   \n",
       "36   0.003647  0.004159  0.009747  3.498291e-03  1.969993e-03  5.204862e-04   \n",
       "39   0.001968  0.001747  0.011354  1.847707e-02  9.957320e-03  2.776871e-03   \n",
       "43   0.001016  0.000544  0.000352  1.217697e-07  4.230173e-09  5.657737e-09   \n",
       "44   0.064617  0.026660  0.001828  7.835361e-08  1.184009e-08  1.401269e-08   \n",
       "47   0.001933  0.007078  0.001065  2.842685e-06  6.013363e-07  2.010446e-07   \n",
       "49   0.000714  0.001233  0.000203  2.509543e-04  2.990976e-04  2.644622e-05   \n",
       "50   0.001843  0.000746  0.000421  1.585509e-04  7.524478e-05  1.923591e-06   \n",
       "51   0.000314  0.000464  0.001044  7.390215e-04  2.116948e-03  8.409453e-04   \n",
       "53   0.013141  0.006031  0.003098  7.511539e-04  6.964900e-04  1.698670e-04   \n",
       "54   0.000322  0.000311  0.000046  4.446716e-08  1.011949e-08  1.148148e-08   \n",
       "56   0.002853  0.005326  0.002441  8.424946e-04  5.172434e-05  2.862324e-07   \n",
       "57   0.000176  0.000680  0.000077  3.427091e-05  4.653643e-06  8.329441e-07   \n",
       "59   0.005757  0.011251  0.008068  1.496035e-03  8.204116e-04  7.636027e-05   \n",
       "62   0.000355  0.000052  0.000104  1.082751e-04  3.685918e-05  1.129882e-05   \n",
       "65   0.001585  0.000248  0.000108  7.027628e-05  5.153391e-04  6.119522e-04   \n",
       "68   0.000010  0.000010  0.000004  2.456025e-09  3.991160e-10  5.599062e-10   \n",
       "72   0.000583  0.001346  0.000234  4.687093e-05  1.065760e-05  9.373376e-07   \n",
       "73   0.002311  0.002096  0.001475  3.012690e-06  3.104604e-08  5.299513e-08   \n",
       "77   0.005505  0.011516  0.005998  1.070371e-02  2.696426e-03  1.973337e-04   \n",
       "81   0.039606  0.035665  0.035905  6.456854e-02  1.212857e-02  1.729835e-04   \n",
       "82   0.014980  0.004314  0.004678  7.387584e-03  1.169990e-03  1.658830e-04   \n",
       "88   0.003685  0.027556  0.130937  3.878393e-01  1.531627e-02  1.195104e-03   \n",
       "92   0.001483  0.000509  0.000269  4.408208e-04  7.217360e-04  9.141065e-05   \n",
       "97   0.000203  0.000280  0.000292  3.771293e-04  1.330530e-03  2.640107e-04   \n",
       "100  0.019281  0.036532  0.046266  9.589889e-02  1.923098e-02  1.909087e-03   \n",
       "101  0.004393  0.000629  0.000097  1.862440e-04  9.323314e-04  1.134266e-04   \n",
       "105  0.000397  0.001728  0.000516  5.323345e-04  1.619875e-04  6.190289e-05   \n",
       "106  0.000336  0.000159  0.000043  4.563317e-05  1.947745e-05  1.680054e-06   \n",
       "111  0.000353  0.000139  0.000025  3.954346e-04  2.906787e-04  4.516015e-06   \n",
       "\n",
       "          pow  \n",
       "5    0.000017  \n",
       "8    0.000257  \n",
       "13   0.000630  \n",
       "14   0.000361  \n",
       "19   0.000793  \n",
       "20   0.002588  \n",
       "23   0.002497  \n",
       "26   0.003784  \n",
       "27   0.002088  \n",
       "29   0.001666  \n",
       "34   0.000220  \n",
       "36   0.002171  \n",
       "39   0.000014  \n",
       "43   0.000816  \n",
       "44   0.000137  \n",
       "47   0.002148  \n",
       "49   0.000648  \n",
       "50   0.001727  \n",
       "51   0.002232  \n",
       "53   0.000207  \n",
       "54   0.000984  \n",
       "56   0.000289  \n",
       "57   0.001718  \n",
       "59   0.000949  \n",
       "62   0.000384  \n",
       "65   0.003006  \n",
       "68   0.007414  \n",
       "72   0.000874  \n",
       "73   0.000134  \n",
       "77   0.000213  \n",
       "81   0.001488  \n",
       "82   0.000496  \n",
       "88   0.003475  \n",
       "92   0.000821  \n",
       "97   0.002540  \n",
       "100  0.000389  \n",
       "101  0.000014  \n",
       "105  0.007618  \n",
       "106  0.000402  \n",
       "111  0.001553  \n",
       "\n",
       "[40 rows x 26 columns]"
      ]
     },
     "execution_count": 12,
     "metadata": {},
     "output_type": "execute_result"
    }
   ],
   "source": [
    "df.head(40)"
   ]
  },
  {
   "attachments": {
    "image.png": {
     "image/png": "[encoded data removed]"
    }
   },
   "cell_type": "markdown",
   "metadata": {},
   "source": [
    "![image.png](attachment:image.png)"
   ]
  },
  {
   "cell_type": "code",
   "execution_count": 13,
   "metadata": {},
   "outputs": [],
   "source": [
    "import warnings\n",
    "warnings.filterwarnings(\"ignore\")\n",
    "import seaborn"
   ]
  },
  {
   "cell_type": "code",
   "execution_count": 14,
   "metadata": {},
   "outputs": [
    {
     "name": "stderr",
     "output_type": "stream",
     "text": [
      "C:\\Users\\Fran\\AppData\\Roaming\\Python\\Python36\\site-packages\\seaborn\\axisgrid.py:2065: UserWarning: The `size` parameter has been renamed to `height`; pleaes update your code.\n",
      "  warnings.warn(msg, UserWarning)\n"
     ]
    },
    {
     "data": {
      "text/plain": [
       "<seaborn.axisgrid.PairGrid at 0x183fccf9a20>"
      ]
     },
     "execution_count": 14,
     "metadata": {},
     "output_type": "execute_result"
    },
    {
     "data": {
      "image/png": "[encoded data removed]",
      "text/plain": [
       "<Figure size 934.5x864 with 42 Axes>"
      ]
     },
     "metadata": {},
     "output_type": "display_data"
    }
   ],
   "source": [
    "seaborn.pairplot(df[['gender','bb1','bb3','bb8','bb15','bb16','bb17']], \n",
    "                 hue='gender', height=2)"
   ]
  },
  {
   "cell_type": "markdown",
   "metadata": {
    "colab_type": "text",
    "id": "CX2gyjuRCfjO"
   },
   "source": [
    "Transformamos la clase en 0 y 1 con LabelEncoder"
   ]
  },
  {
   "cell_type": "code",
   "execution_count": 15,
   "metadata": {
    "colab": {},
    "colab_type": "code",
    "id": "vlYFzjkxCfjQ"
   },
   "outputs": [],
   "source": [
    "y = df[\"gender\"]\n",
    "X = df.drop(\"gender\", axis = 1)"
   ]
  },
  {
   "cell_type": "code",
   "execution_count": 16,
   "metadata": {
    "colab": {},
    "colab_type": "code",
    "id": "HNxJ_6nICfjW",
    "outputId": "b7d71128-af01-41c5-a9b2-ff2f9048396c"
   },
   "outputs": [
    {
     "name": "stdout",
     "output_type": "stream",
     "text": [
      "el dataset tiene  38902  filas y  25  columnas\n"
     ]
    }
   ],
   "source": [
    "print(\"el dataset tiene \", X.shape[0], \" filas y \", X.shape[1], \" columnas\")"
   ]
  },
  {
   "cell_type": "code",
   "execution_count": 17,
   "metadata": {
    "colab": {},
    "colab_type": "code",
    "id": "kCvTLZwfCfjh"
   },
   "outputs": [],
   "source": [
    "from sklearn.preprocessing import LabelEncoder"
   ]
  },
  {
   "cell_type": "markdown",
   "metadata": {
    "colab_type": "text",
    "id": "4X_5GBCxCfjt"
   },
   "source": [
    "Usamos LabelEncoder para transformar la clase en un array de 0 y 1"
   ]
  },
  {
   "cell_type": "code",
   "execution_count": 18,
   "metadata": {
    "colab": {},
    "colab_type": "code",
    "id": "QjEdpqdHCfjz"
   },
   "outputs": [],
   "source": [
    "encoder = LabelEncoder()"
   ]
  },
  {
   "cell_type": "code",
   "execution_count": 19,
   "metadata": {
    "colab": {},
    "colab_type": "code",
    "id": "ZNBpDYuKCfj7",
    "outputId": "8a237e60-f330-49c7-d8ff-47249d350e17"
   },
   "outputs": [
    {
     "data": {
      "text/plain": [
       "5     female\n",
       "8       male\n",
       "13    female\n",
       "14      male\n",
       "19      male\n",
       "Name: gender, dtype: object"
      ]
     },
     "execution_count": 19,
     "metadata": {},
     "output_type": "execute_result"
    }
   ],
   "source": [
    "y.head()"
   ]
  },
  {
   "cell_type": "code",
   "execution_count": 20,
   "metadata": {},
   "outputs": [
    {
     "data": {
      "text/plain": [
       "male      29188\n",
       "female     9714\n",
       "Name: gender, dtype: int64"
      ]
     },
     "execution_count": 20,
     "metadata": {},
     "output_type": "execute_result"
    }
   ],
   "source": [
    "y.value_counts()"
   ]
  },
  {
   "cell_type": "code",
   "execution_count": 21,
   "metadata": {},
   "outputs": [
    {
     "data": {
      "text/plain": [
       "array(['female', 'male'], dtype=object)"
      ]
     },
     "execution_count": 21,
     "metadata": {},
     "output_type": "execute_result"
    }
   ],
   "source": [
    "y.unique()"
   ]
  },
  {
   "cell_type": "code",
   "execution_count": 22,
   "metadata": {
    "colab": {},
    "colab_type": "code",
    "id": "W_OGGsYeCfkJ"
   },
   "outputs": [],
   "source": [
    "y = encoder.fit_transform(y)"
   ]
  },
  {
   "cell_type": "code",
   "execution_count": 23,
   "metadata": {
    "colab": {},
    "colab_type": "code",
    "id": "huMAVxxmCfkT",
    "outputId": "4b3f73b9-86c4-4053-f80d-995ab06a89e6"
   },
   "outputs": [
    {
     "data": {
      "text/plain": [
       "array([0, 1, 0, ..., 1, 1, 1], dtype=int64)"
      ]
     },
     "execution_count": 23,
     "metadata": {},
     "output_type": "execute_result"
    }
   ],
   "source": [
    "y"
   ]
  },
  {
   "cell_type": "markdown",
   "metadata": {
    "colab_type": "text",
    "id": "2WF1dvg8Cfkb"
   },
   "source": [
    "Hagamos un split en train y test."
   ]
  },
  {
   "cell_type": "code",
   "execution_count": 24,
   "metadata": {
    "colab": {},
    "colab_type": "code",
    "id": "1NbebhB0Cfkd"
   },
   "outputs": [],
   "source": [
    "from sklearn.model_selection import train_test_split"
   ]
  },
  {
   "cell_type": "markdown",
   "metadata": {
    "colab_type": "text",
    "id": "-qJQ0hoJCfkl"
   },
   "source": [
    "Con la información de train vamos a realizar la búsqueda de hiperparámetros y ajustar el mejor modelo."
   ]
  },
  {
   "cell_type": "code",
   "execution_count": 25,
   "metadata": {
    "colab": {},
    "colab_type": "code",
    "id": "14_X-cEfCfkn"
   },
   "outputs": [],
   "source": [
    "X_train, X_test, y_train, y_test = train_test_split(X,y,stratify=y)"
   ]
  },
  {
   "cell_type": "markdown",
   "metadata": {
    "colab_type": "text",
    "id": "p7-E7RT9Cfkt"
   },
   "source": [
    "## Knn - Benchmark"
   ]
  },
  {
   "cell_type": "markdown",
   "metadata": {
    "colab_type": "text",
    "id": "jc2LJlKvCfkx"
   },
   "source": [
    "Comencemos probando Knn, que será nuestro benchmark"
   ]
  },
  {
   "cell_type": "code",
   "execution_count": 26,
   "metadata": {
    "colab": {},
    "colab_type": "code",
    "id": "sz5h3tJHCfkz"
   },
   "outputs": [],
   "source": [
    "from sklearn.neighbors import KNeighborsClassifier\n",
    "from sklearn.model_selection import RandomizedSearchCV, GridSearchCV\n",
    "import time\n",
    "import numpy as np\n",
    "from scikitplot.metrics import plot_roc\n",
    "from sklearn.metrics import roc_auc_score\n",
    "from sklearn.preprocessing import StandardScaler"
   ]
  },
  {
   "cell_type": "code",
   "execution_count": 27,
   "metadata": {
    "colab": {},
    "colab_type": "code",
    "id": "8t7ByXWbCfk5"
   },
   "outputs": [],
   "source": [
    "model_knn = KNeighborsClassifier()"
   ]
  },
  {
   "cell_type": "code",
   "execution_count": 28,
   "metadata": {
    "colab": {},
    "colab_type": "code",
    "id": "tKFNI_pnCfk-"
   },
   "outputs": [],
   "source": [
    "params = {\"n_neighbors\":list(range(3,8))}"
   ]
  },
  {
   "cell_type": "code",
   "execution_count": 29,
   "metadata": {
    "colab": {},
    "colab_type": "code",
    "id": "u0PAYRaxCflD"
   },
   "outputs": [],
   "source": [
    "knn = GridSearchCV(model_knn, params, verbose= True)"
   ]
  },
  {
   "cell_type": "markdown",
   "metadata": {
    "colab_type": "text",
    "id": "89kALPaFCflI"
   },
   "source": [
    "Imputamos los NA con 0"
   ]
  },
  {
   "cell_type": "code",
   "execution_count": 30,
   "metadata": {
    "colab": {},
    "colab_type": "code",
    "id": "-CKnogyJCflJ"
   },
   "outputs": [],
   "source": [
    "X_train_na = X_train.fillna(0)\n",
    "X_test_na = X_test.fillna(0)"
   ]
  },
  {
   "cell_type": "code",
   "execution_count": 31,
   "metadata": {
    "colab": {},
    "colab_type": "code",
    "id": "rfnj6TSJCflR"
   },
   "outputs": [],
   "source": [
    "stds = StandardScaler()"
   ]
  },
  {
   "cell_type": "code",
   "execution_count": 32,
   "metadata": {
    "colab": {},
    "colab_type": "code",
    "id": "fCOp3pyiCflZ"
   },
   "outputs": [],
   "source": [
    "X_train_knn = stds.fit_transform(X_train_na)"
   ]
  },
  {
   "cell_type": "code",
   "execution_count": 33,
   "metadata": {
    "colab": {},
    "colab_type": "code",
    "id": "N1If7LgOCflj"
   },
   "outputs": [],
   "source": [
    "X_test_knn = stds.transform(X_test_na)"
   ]
  },
  {
   "cell_type": "code",
   "execution_count": 34,
   "metadata": {
    "colab": {},
    "colab_type": "code",
    "id": "5sGs5Ou2Cflr",
    "outputId": "246b620b-5146-4a2f-b66a-13881886d0ed"
   },
   "outputs": [
    {
     "name": "stdout",
     "output_type": "stream",
     "text": [
      "Fitting 3 folds for each of 5 candidates, totalling 15 fits\n",
      "La búsqueda con knn llevó:  357.4273314476013  segundos\n"
     ]
    },
    {
     "name": "stderr",
     "output_type": "stream",
     "text": [
      "[Parallel(n_jobs=1)]: Done  15 out of  15 | elapsed:  6.0min finished\n"
     ]
    }
   ],
   "source": [
    "start = time.time()\n",
    "knn.fit(X_train_knn, y_train)\n",
    "end = time.time()\n",
    "print(\"La búsqueda con knn llevó: \", end - start, \" segundos\")"
   ]
  },
  {
   "cell_type": "code",
   "execution_count": 35,
   "metadata": {
    "colab": {},
    "colab_type": "code",
    "id": "iMuFY9VLCfl5",
    "outputId": "b4d5177f-2a8b-4867-9ed5-7974478dc86b"
   },
   "outputs": [
    {
     "data": {
      "text/plain": [
       "KNeighborsClassifier(algorithm='auto', leaf_size=30, metric='minkowski',\n",
       "           metric_params=None, n_jobs=1, n_neighbors=6, p=2,\n",
       "           weights='uniform')"
      ]
     },
     "execution_count": 35,
     "metadata": {},
     "output_type": "execute_result"
    }
   ],
   "source": [
    "knn.best_estimator_"
   ]
  },
  {
   "cell_type": "code",
   "execution_count": 36,
   "metadata": {
    "colab": {},
    "colab_type": "code",
    "id": "RF1HPlhrCfmF",
    "outputId": "aaaa04fa-88af-4ce2-bb5f-b3d3e9a14668"
   },
   "outputs": [
    {
     "name": "stdout",
     "output_type": "stream",
     "text": [
      "El valor del AUC es:  0.8537017558776134\n"
     ]
    }
   ],
   "source": [
    "y_predicted_knn = knn.predict_proba(X_test_knn)\n",
    "knn_auc = roc_auc_score(y_test, y_predicted_knn[:,1])\n",
    "print(\"El valor del AUC es: \", knn_auc)"
   ]
  },
  {
   "cell_type": "code",
   "execution_count": 37,
   "metadata": {
    "colab": {},
    "colab_type": "code",
    "id": "NTKaGpEvCfmW",
    "outputId": "dc5bb102-157b-4830-b057-38326bcd25d1"
   },
   "outputs": [
    {
     "data": {
      "image/png": "[encoded data removed]",
      "text/plain": [
       "<Figure size 432x288 with 1 Axes>"
      ]
     },
     "metadata": {},
     "output_type": "display_data"
    }
   ],
   "source": [
    "%matplotlib inline\n",
    "plot_roc(y_test,y_predicted_knn, plot_micro = False, plot_macro= False);"
   ]
  },
  {
   "cell_type": "markdown",
   "metadata": {
    "colab_type": "text",
    "id": "I8oc4fO-Cfmm"
   },
   "source": [
    "## Random Forest"
   ]
  },
  {
   "cell_type": "code",
   "execution_count": 38,
   "metadata": {
    "colab": {},
    "colab_type": "code",
    "id": "6jGbrwx2Cfmo"
   },
   "outputs": [],
   "source": [
    "from sklearn.ensemble import RandomForestClassifier"
   ]
  },
  {
   "cell_type": "code",
   "execution_count": 39,
   "metadata": {
    "colab": {},
    "colab_type": "code",
    "id": "Ie7q1G05Cfmv"
   },
   "outputs": [],
   "source": [
    "model_rf = RandomForestClassifier()"
   ]
  },
  {
   "cell_type": "code",
   "execution_count": 40,
   "metadata": {
    "colab": {},
    "colab_type": "code",
    "id": "7AgkozMgCfm9"
   },
   "outputs": [],
   "source": [
    "import scipy.stats as st"
   ]
  },
  {
   "cell_type": "markdown",
   "metadata": {
    "colab_type": "text",
    "id": "8TasF9wBCfnD"
   },
   "source": [
    "A RandomizedSearchCV los hiperparámetros se los podemos pasar como una lista o también como una distribución de scipy."
   ]
  },
  {
   "cell_type": "code",
   "execution_count": 41,
   "metadata": {
    "colab": {},
    "colab_type": "code",
    "id": "A7gNEjPmCfnF"
   },
   "outputs": [],
   "source": [
    "params = {  \n",
    "    \"n_estimators\": st.randint(20,40), # Number of boosted trees to fit.\n",
    "    \"max_depth\": st.randint(3, 12)     # Maximum tree depth for base learners.\n",
    "}"
   ]
  },
  {
   "cell_type": "code",
   "execution_count": 42,
   "metadata": {
    "colab": {},
    "colab_type": "code",
    "id": "Hc3llpieCfnK"
   },
   "outputs": [],
   "source": [
    "rf = RandomizedSearchCV(model_rf,params, n_iter=25, verbose= True)"
   ]
  },
  {
   "cell_type": "code",
   "execution_count": 43,
   "metadata": {
    "colab": {},
    "colab_type": "code",
    "id": "Y1qHyv0bCfnP",
    "outputId": "8f5bcc72-2230-45dc-a011-970b97b8d91d"
   },
   "outputs": [
    {
     "name": "stdout",
     "output_type": "stream",
     "text": [
      "Fitting 3 folds for each of 25 candidates, totalling 75 fits\n"
     ]
    },
    {
     "name": "stderr",
     "output_type": "stream",
     "text": [
      "[Parallel(n_jobs=1)]: Done  75 out of  75 | elapsed:  1.6min finished\n"
     ]
    },
    {
     "name": "stdout",
     "output_type": "stream",
     "text": [
      "La búsqueda con Random Forest llevó:  99.60945630073547  segundos\n"
     ]
    }
   ],
   "source": [
    "start = time.time()\n",
    "rf.fit(X_train_na,y_train)\n",
    "end = time.time()\n",
    "print(\"La búsqueda con Random Forest llevó: \", end - start, \" segundos\")"
   ]
  },
  {
   "cell_type": "code",
   "execution_count": 44,
   "metadata": {},
   "outputs": [
    {
     "data": {
      "text/plain": [
       "RandomForestClassifier(bootstrap=True, class_weight=None, criterion='gini',\n",
       "            max_depth=11, max_features='auto', max_leaf_nodes=None,\n",
       "            min_impurity_decrease=0.0, min_impurity_split=None,\n",
       "            min_samples_leaf=1, min_samples_split=2,\n",
       "            min_weight_fraction_leaf=0.0, n_estimators=39, n_jobs=1,\n",
       "            oob_score=False, random_state=None, verbose=0,\n",
       "            warm_start=False)"
      ]
     },
     "execution_count": 44,
     "metadata": {},
     "output_type": "execute_result"
    }
   ],
   "source": [
    "rf.best_estimator_"
   ]
  },
  {
   "cell_type": "code",
   "execution_count": 45,
   "metadata": {
    "colab": {},
    "colab_type": "code",
    "id": "4cV7_FwtCfnU"
   },
   "outputs": [],
   "source": [
    "y_predicted_rf = rf.predict_proba(X_test_na)"
   ]
  },
  {
   "cell_type": "code",
   "execution_count": 46,
   "metadata": {
    "colab": {},
    "colab_type": "code",
    "id": "JE2mzUH6Cfna",
    "outputId": "f6512b79-5cee-4092-f83c-6ae5313633bf"
   },
   "outputs": [
    {
     "name": "stdout",
     "output_type": "stream",
     "text": [
      "El valor del AUC es:  0.9376752279469001\n"
     ]
    }
   ],
   "source": [
    "rf_auc = roc_auc_score(y_test,y_predicted_rf[:,1])\n",
    "print(\"El valor del AUC es: \", rf_auc)"
   ]
  },
  {
   "cell_type": "code",
   "execution_count": 47,
   "metadata": {},
   "outputs": [
    {
     "data": {
      "image/png": "[encoded data removed]",
      "text/plain": [
       "<Figure size 432x288 with 1 Axes>"
      ]
     },
     "metadata": {},
     "output_type": "display_data"
    }
   ],
   "source": [
    "%matplotlib inline\n",
    "plot_roc(y_test,y_predicted_rf, plot_micro = False, plot_macro= False);"
   ]
  },
  {
   "cell_type": "markdown",
   "metadata": {
    "colab_type": "text",
    "id": "xrkS4Qa6Cfng"
   },
   "source": [
    "## Xgboost"
   ]
  },
  {
   "cell_type": "markdown",
   "metadata": {
    "colab_type": "text",
    "id": "4rYpczAKCfnj"
   },
   "source": [
    "Vamos a importar el clasificador XGBoost del módulo xgboost.sklearn que nos provee clases y métodos aceptados por la API de sklearn. La clase que contiene este clasificador se llama XGBClassifier"
   ]
  },
  {
   "cell_type": "code",
   "execution_count": 48,
   "metadata": {
    "colab": {},
    "colab_type": "code",
    "id": "Gmhx9Sy1Cfnk"
   },
   "outputs": [],
   "source": [
    "from xgboost.sklearn import XGBClassifier"
   ]
  },
  {
   "cell_type": "code",
   "execution_count": 49,
   "metadata": {
    "colab": {},
    "colab_type": "code",
    "id": "WFViwA_CCfnp"
   },
   "outputs": [],
   "source": [
    "model_xg = XGBClassifier(n_jobs=-1)"
   ]
  },
  {
   "cell_type": "markdown",
   "metadata": {
    "colab_type": "text",
    "id": "R6tDIBUkCfnt"
   },
   "source": [
    "Podemos partir del siguiente conjunto de hiperparámetros, que serán empleados también luego."
   ]
  },
  {
   "cell_type": "code",
   "execution_count": 50,
   "metadata": {
    "colab": {},
    "colab_type": "code",
    "id": "c3DDm2EwCfnu"
   },
   "outputs": [],
   "source": [
    "one_to_left = st.beta(10, 1) # Esta distribución nos dará valores entre 0 y 1 mayormente cercanos a 1"
   ]
  },
  {
   "cell_type": "code",
   "execution_count": 51,
   "metadata": {
    "colab": {},
    "colab_type": "code",
    "id": "cBQxwRbgCfny"
   },
   "outputs": [],
   "source": [
    "params = {  \n",
    "    \"n_estimators\": st.randint(20,40), # Number of boosted trees to fit.\n",
    "    \"max_depth\": st.randint(3, 12),     # Maximum tree depth for base learners.\n",
    "    \"learning_rate\": st.uniform(0.05, 0.4), #     Boosting learning rate (xgb’s “eta”)\n",
    "    \"colsample_bytree\": one_to_left, #     Subsample ratio of columns when constructing each tree.\n",
    "    \"subsample\": one_to_left,     # Subsample ratio of the training instance.\n",
    "    \"gamma\": st.uniform(0, 10), #     Minimum loss reduction required to make a further partition on a leaf node of the tree.\n",
    "    'reg_alpha': st.uniform(0.05,10),   # L1 regularization term on weights\n",
    "    \"min_child_weight\": st.uniform(1,20), #    Minimum sum of instance weight(hessian) needed in a child.\n",
    "}"
   ]
  },
  {
   "cell_type": "markdown",
   "metadata": {
    "colab_type": "text",
    "id": "YhuMPgwECfn3"
   },
   "source": [
    "Se puede consultar los parámetros <a = \"http://xgboost.readthedocs.io/en/latest/python/python_api.html\"> aquí </a> y <a = \"https://github.com/dmlc/xgboost/blob/master/doc/parameter.md\"> aquí </a>"
   ]
  },
  {
   "cell_type": "markdown",
   "metadata": {
    "colab_type": "text",
    "id": "o7uhuZDACfn4"
   },
   "source": [
    "Realizamos la búsqueda de hiperparámetrosRandomiezSearchCV con 25 iteraciones"
   ]
  },
  {
   "cell_type": "code",
   "execution_count": 52,
   "metadata": {
    "colab": {},
    "colab_type": "code",
    "id": "Oh4zsIulCfn6"
   },
   "outputs": [],
   "source": [
    "xgb = RandomizedSearchCV(model_xg,params, n_iter=25, verbose= True)"
   ]
  },
  {
   "cell_type": "markdown",
   "metadata": {
    "colab_type": "text",
    "id": "nR7UbFK-Cfn9"
   },
   "source": [
    "Busco el mejor set de hiperparámetros y calculamos el tiempo"
   ]
  },
  {
   "cell_type": "markdown",
   "metadata": {
    "colab_type": "text",
    "id": "AKgKeJf9maF8"
   },
   "source": [
    "¿Es necesario normalizar los features antes de aplicar XGBoost?"
   ]
  },
  {
   "cell_type": "code",
   "execution_count": 53,
   "metadata": {
    "colab": {},
    "colab_type": "code",
    "id": "IevW3viRCfn-",
    "outputId": "d1b30fc4-d0d6-4f87-fe2f-94ae5c424d28"
   },
   "outputs": [
    {
     "name": "stdout",
     "output_type": "stream",
     "text": [
      "Fitting 3 folds for each of 25 candidates, totalling 75 fits\n"
     ]
    },
    {
     "name": "stderr",
     "output_type": "stream",
     "text": [
      "C:\\Users\\Fran\\AppData\\Roaming\\Python\\Python36\\site-packages\\sklearn\\preprocessing\\label.py:151: DeprecationWarning: The truth value of an empty array is ambiguous. Returning False, but in future this will result in an error. Use `array.size > 0` to check that an array is not empty.\n",
      "  if diff:\n",
      "C:\\Users\\Fran\\AppData\\Roaming\\Python\\Python36\\site-packages\\sklearn\\preprocessing\\label.py:151: DeprecationWarning: The truth value of an empty array is ambiguous. Returning False, but in future this will result in an error. Use `array.size > 0` to check that an array is not empty.\n",
      "  if diff:\n",
      "C:\\Users\\Fran\\AppData\\Roaming\\Python\\Python36\\site-packages\\sklearn\\preprocessing\\label.py:151: DeprecationWarning: The truth value of an empty array is ambiguous. Returning False, but in future this will result in an error. Use `array.size > 0` to check that an array is not empty.\n",
      "  if diff:\n",
      "C:\\Users\\Fran\\AppData\\Roaming\\Python\\Python36\\site-packages\\sklearn\\preprocessing\\label.py:151: DeprecationWarning: The truth value of an empty array is ambiguous. Returning False, but in future this will result in an error. Use `array.size > 0` to check that an array is not empty.\n",
      "  if diff:\n",
      "C:\\Users\\Fran\\AppData\\Roaming\\Python\\Python36\\site-packages\\sklearn\\preprocessing\\label.py:151: DeprecationWarning: The truth value of an empty array is ambiguous. Returning False, but in future this will result in an error. Use `array.size > 0` to check that an array is not empty.\n",
      "  if diff:\n",
      "C:\\Users\\Fran\\AppData\\Roaming\\Python\\Python36\\site-packages\\sklearn\\preprocessing\\label.py:151: DeprecationWarning: The truth value of an empty array is ambiguous. Returning False, but in future this will result in an error. Use `array.size > 0` to check that an array is not empty.\n",
      "  if diff:\n",
      "C:\\Users\\Fran\\AppData\\Roaming\\Python\\Python36\\site-packages\\sklearn\\preprocessing\\label.py:151: DeprecationWarning: The truth value of an empty array is ambiguous. Returning False, but in future this will result in an error. Use `array.size > 0` to check that an array is not empty.\n",
      "  if diff:\n",
      "C:\\Users\\Fran\\AppData\\Roaming\\Python\\Python36\\site-packages\\sklearn\\preprocessing\\label.py:151: DeprecationWarning: The truth value of an empty array is ambiguous. Returning False, but in future this will result in an error. Use `array.size > 0` to check that an array is not empty.\n",
      "  if diff:\n",
      "C:\\Users\\Fran\\AppData\\Roaming\\Python\\Python36\\site-packages\\sklearn\\preprocessing\\label.py:151: DeprecationWarning: The truth value of an empty array is ambiguous. Returning False, but in future this will result in an error. Use `array.size > 0` to check that an array is not empty.\n",
      "  if diff:\n",
      "C:\\Users\\Fran\\AppData\\Roaming\\Python\\Python36\\site-packages\\sklearn\\preprocessing\\label.py:151: DeprecationWarning: The truth value of an empty array is ambiguous. Returning False, but in future this will result in an error. Use `array.size > 0` to check that an array is not empty.\n",
      "  if diff:\n",
      "C:\\Users\\Fran\\AppData\\Roaming\\Python\\Python36\\site-packages\\sklearn\\preprocessing\\label.py:151: DeprecationWarning: The truth value of an empty array is ambiguous. Returning False, but in future this will result in an error. Use `array.size > 0` to check that an array is not empty.\n",
      "  if diff:\n",
      "C:\\Users\\Fran\\AppData\\Roaming\\Python\\Python36\\site-packages\\sklearn\\preprocessing\\label.py:151: DeprecationWarning: The truth value of an empty array is ambiguous. Returning False, but in future this will result in an error. Use `array.size > 0` to check that an array is not empty.\n",
      "  if diff:\n",
      "C:\\Users\\Fran\\AppData\\Roaming\\Python\\Python36\\site-packages\\sklearn\\preprocessing\\label.py:151: DeprecationWarning: The truth value of an empty array is ambiguous. Returning False, but in future this will result in an error. Use `array.size > 0` to check that an array is not empty.\n",
      "  if diff:\n",
      "C:\\Users\\Fran\\AppData\\Roaming\\Python\\Python36\\site-packages\\sklearn\\preprocessing\\label.py:151: DeprecationWarning: The truth value of an empty array is ambiguous. Returning False, but in future this will result in an error. Use `array.size > 0` to check that an array is not empty.\n",
      "  if diff:\n",
      "C:\\Users\\Fran\\AppData\\Roaming\\Python\\Python36\\site-packages\\sklearn\\preprocessing\\label.py:151: DeprecationWarning: The truth value of an empty array is ambiguous. Returning False, but in future this will result in an error. Use `array.size > 0` to check that an array is not empty.\n",
      "  if diff:\n",
      "C:\\Users\\Fran\\AppData\\Roaming\\Python\\Python36\\site-packages\\sklearn\\preprocessing\\label.py:151: DeprecationWarning: The truth value of an empty array is ambiguous. Returning False, but in future this will result in an error. Use `array.size > 0` to check that an array is not empty.\n",
      "  if diff:\n",
      "C:\\Users\\Fran\\AppData\\Roaming\\Python\\Python36\\site-packages\\sklearn\\preprocessing\\label.py:151: DeprecationWarning: The truth value of an empty array is ambiguous. Returning False, but in future this will result in an error. Use `array.size > 0` to check that an array is not empty.\n",
      "  if diff:\n",
      "C:\\Users\\Fran\\AppData\\Roaming\\Python\\Python36\\site-packages\\sklearn\\preprocessing\\label.py:151: DeprecationWarning: The truth value of an empty array is ambiguous. Returning False, but in future this will result in an error. Use `array.size > 0` to check that an array is not empty.\n",
      "  if diff:\n",
      "C:\\Users\\Fran\\AppData\\Roaming\\Python\\Python36\\site-packages\\sklearn\\preprocessing\\label.py:151: DeprecationWarning: The truth value of an empty array is ambiguous. Returning False, but in future this will result in an error. Use `array.size > 0` to check that an array is not empty.\n",
      "  if diff:\n",
      "C:\\Users\\Fran\\AppData\\Roaming\\Python\\Python36\\site-packages\\sklearn\\preprocessing\\label.py:151: DeprecationWarning: The truth value of an empty array is ambiguous. Returning False, but in future this will result in an error. Use `array.size > 0` to check that an array is not empty.\n",
      "  if diff:\n",
      "C:\\Users\\Fran\\AppData\\Roaming\\Python\\Python36\\site-packages\\sklearn\\preprocessing\\label.py:151: DeprecationWarning: The truth value of an empty array is ambiguous. Returning False, but in future this will result in an error. Use `array.size > 0` to check that an array is not empty.\n",
      "  if diff:\n",
      "C:\\Users\\Fran\\AppData\\Roaming\\Python\\Python36\\site-packages\\sklearn\\preprocessing\\label.py:151: DeprecationWarning: The truth value of an empty array is ambiguous. Returning False, but in future this will result in an error. Use `array.size > 0` to check that an array is not empty.\n",
      "  if diff:\n",
      "C:\\Users\\Fran\\AppData\\Roaming\\Python\\Python36\\site-packages\\sklearn\\preprocessing\\label.py:151: DeprecationWarning: The truth value of an empty array is ambiguous. Returning False, but in future this will result in an error. Use `array.size > 0` to check that an array is not empty.\n",
      "  if diff:\n",
      "C:\\Users\\Fran\\AppData\\Roaming\\Python\\Python36\\site-packages\\sklearn\\preprocessing\\label.py:151: DeprecationWarning: The truth value of an empty array is ambiguous. Returning False, but in future this will result in an error. Use `array.size > 0` to check that an array is not empty.\n",
      "  if diff:\n",
      "C:\\Users\\Fran\\AppData\\Roaming\\Python\\Python36\\site-packages\\sklearn\\preprocessing\\label.py:151: DeprecationWarning: The truth value of an empty array is ambiguous. Returning False, but in future this will result in an error. Use `array.size > 0` to check that an array is not empty.\n",
      "  if diff:\n",
      "C:\\Users\\Fran\\AppData\\Roaming\\Python\\Python36\\site-packages\\sklearn\\preprocessing\\label.py:151: DeprecationWarning: The truth value of an empty array is ambiguous. Returning False, but in future this will result in an error. Use `array.size > 0` to check that an array is not empty.\n",
      "  if diff:\n",
      "C:\\Users\\Fran\\AppData\\Roaming\\Python\\Python36\\site-packages\\sklearn\\preprocessing\\label.py:151: DeprecationWarning: The truth value of an empty array is ambiguous. Returning False, but in future this will result in an error. Use `array.size > 0` to check that an array is not empty.\n",
      "  if diff:\n",
      "C:\\Users\\Fran\\AppData\\Roaming\\Python\\Python36\\site-packages\\sklearn\\preprocessing\\label.py:151: DeprecationWarning: The truth value of an empty array is ambiguous. Returning False, but in future this will result in an error. Use `array.size > 0` to check that an array is not empty.\n",
      "  if diff:\n"
     ]
    },
    {
     "name": "stderr",
     "output_type": "stream",
     "text": [
      "C:\\Users\\Fran\\AppData\\Roaming\\Python\\Python36\\site-packages\\sklearn\\preprocessing\\label.py:151: DeprecationWarning: The truth value of an empty array is ambiguous. Returning False, but in future this will result in an error. Use `array.size > 0` to check that an array is not empty.\n",
      "  if diff:\n",
      "C:\\Users\\Fran\\AppData\\Roaming\\Python\\Python36\\site-packages\\sklearn\\preprocessing\\label.py:151: DeprecationWarning: The truth value of an empty array is ambiguous. Returning False, but in future this will result in an error. Use `array.size > 0` to check that an array is not empty.\n",
      "  if diff:\n",
      "C:\\Users\\Fran\\AppData\\Roaming\\Python\\Python36\\site-packages\\sklearn\\preprocessing\\label.py:151: DeprecationWarning: The truth value of an empty array is ambiguous. Returning False, but in future this will result in an error. Use `array.size > 0` to check that an array is not empty.\n",
      "  if diff:\n",
      "C:\\Users\\Fran\\AppData\\Roaming\\Python\\Python36\\site-packages\\sklearn\\preprocessing\\label.py:151: DeprecationWarning: The truth value of an empty array is ambiguous. Returning False, but in future this will result in an error. Use `array.size > 0` to check that an array is not empty.\n",
      "  if diff:\n",
      "C:\\Users\\Fran\\AppData\\Roaming\\Python\\Python36\\site-packages\\sklearn\\preprocessing\\label.py:151: DeprecationWarning: The truth value of an empty array is ambiguous. Returning False, but in future this will result in an error. Use `array.size > 0` to check that an array is not empty.\n",
      "  if diff:\n",
      "C:\\Users\\Fran\\AppData\\Roaming\\Python\\Python36\\site-packages\\sklearn\\preprocessing\\label.py:151: DeprecationWarning: The truth value of an empty array is ambiguous. Returning False, but in future this will result in an error. Use `array.size > 0` to check that an array is not empty.\n",
      "  if diff:\n",
      "C:\\Users\\Fran\\AppData\\Roaming\\Python\\Python36\\site-packages\\sklearn\\preprocessing\\label.py:151: DeprecationWarning: The truth value of an empty array is ambiguous. Returning False, but in future this will result in an error. Use `array.size > 0` to check that an array is not empty.\n",
      "  if diff:\n",
      "C:\\Users\\Fran\\AppData\\Roaming\\Python\\Python36\\site-packages\\sklearn\\preprocessing\\label.py:151: DeprecationWarning: The truth value of an empty array is ambiguous. Returning False, but in future this will result in an error. Use `array.size > 0` to check that an array is not empty.\n",
      "  if diff:\n",
      "C:\\Users\\Fran\\AppData\\Roaming\\Python\\Python36\\site-packages\\sklearn\\preprocessing\\label.py:151: DeprecationWarning: The truth value of an empty array is ambiguous. Returning False, but in future this will result in an error. Use `array.size > 0` to check that an array is not empty.\n",
      "  if diff:\n",
      "C:\\Users\\Fran\\AppData\\Roaming\\Python\\Python36\\site-packages\\sklearn\\preprocessing\\label.py:151: DeprecationWarning: The truth value of an empty array is ambiguous. Returning False, but in future this will result in an error. Use `array.size > 0` to check that an array is not empty.\n",
      "  if diff:\n",
      "C:\\Users\\Fran\\AppData\\Roaming\\Python\\Python36\\site-packages\\sklearn\\preprocessing\\label.py:151: DeprecationWarning: The truth value of an empty array is ambiguous. Returning False, but in future this will result in an error. Use `array.size > 0` to check that an array is not empty.\n",
      "  if diff:\n",
      "C:\\Users\\Fran\\AppData\\Roaming\\Python\\Python36\\site-packages\\sklearn\\preprocessing\\label.py:151: DeprecationWarning: The truth value of an empty array is ambiguous. Returning False, but in future this will result in an error. Use `array.size > 0` to check that an array is not empty.\n",
      "  if diff:\n",
      "C:\\Users\\Fran\\AppData\\Roaming\\Python\\Python36\\site-packages\\sklearn\\preprocessing\\label.py:151: DeprecationWarning: The truth value of an empty array is ambiguous. Returning False, but in future this will result in an error. Use `array.size > 0` to check that an array is not empty.\n",
      "  if diff:\n",
      "C:\\Users\\Fran\\AppData\\Roaming\\Python\\Python36\\site-packages\\sklearn\\preprocessing\\label.py:151: DeprecationWarning: The truth value of an empty array is ambiguous. Returning False, but in future this will result in an error. Use `array.size > 0` to check that an array is not empty.\n",
      "  if diff:\n",
      "C:\\Users\\Fran\\AppData\\Roaming\\Python\\Python36\\site-packages\\sklearn\\preprocessing\\label.py:151: DeprecationWarning: The truth value of an empty array is ambiguous. Returning False, but in future this will result in an error. Use `array.size > 0` to check that an array is not empty.\n",
      "  if diff:\n",
      "C:\\Users\\Fran\\AppData\\Roaming\\Python\\Python36\\site-packages\\sklearn\\preprocessing\\label.py:151: DeprecationWarning: The truth value of an empty array is ambiguous. Returning False, but in future this will result in an error. Use `array.size > 0` to check that an array is not empty.\n",
      "  if diff:\n",
      "C:\\Users\\Fran\\AppData\\Roaming\\Python\\Python36\\site-packages\\sklearn\\preprocessing\\label.py:151: DeprecationWarning: The truth value of an empty array is ambiguous. Returning False, but in future this will result in an error. Use `array.size > 0` to check that an array is not empty.\n",
      "  if diff:\n",
      "C:\\Users\\Fran\\AppData\\Roaming\\Python\\Python36\\site-packages\\sklearn\\preprocessing\\label.py:151: DeprecationWarning: The truth value of an empty array is ambiguous. Returning False, but in future this will result in an error. Use `array.size > 0` to check that an array is not empty.\n",
      "  if diff:\n",
      "C:\\Users\\Fran\\AppData\\Roaming\\Python\\Python36\\site-packages\\sklearn\\preprocessing\\label.py:151: DeprecationWarning: The truth value of an empty array is ambiguous. Returning False, but in future this will result in an error. Use `array.size > 0` to check that an array is not empty.\n",
      "  if diff:\n",
      "C:\\Users\\Fran\\AppData\\Roaming\\Python\\Python36\\site-packages\\sklearn\\preprocessing\\label.py:151: DeprecationWarning: The truth value of an empty array is ambiguous. Returning False, but in future this will result in an error. Use `array.size > 0` to check that an array is not empty.\n",
      "  if diff:\n",
      "C:\\Users\\Fran\\AppData\\Roaming\\Python\\Python36\\site-packages\\sklearn\\preprocessing\\label.py:151: DeprecationWarning: The truth value of an empty array is ambiguous. Returning False, but in future this will result in an error. Use `array.size > 0` to check that an array is not empty.\n",
      "  if diff:\n",
      "C:\\Users\\Fran\\AppData\\Roaming\\Python\\Python36\\site-packages\\sklearn\\preprocessing\\label.py:151: DeprecationWarning: The truth value of an empty array is ambiguous. Returning False, but in future this will result in an error. Use `array.size > 0` to check that an array is not empty.\n",
      "  if diff:\n",
      "C:\\Users\\Fran\\AppData\\Roaming\\Python\\Python36\\site-packages\\sklearn\\preprocessing\\label.py:151: DeprecationWarning: The truth value of an empty array is ambiguous. Returning False, but in future this will result in an error. Use `array.size > 0` to check that an array is not empty.\n",
      "  if diff:\n",
      "C:\\Users\\Fran\\AppData\\Roaming\\Python\\Python36\\site-packages\\sklearn\\preprocessing\\label.py:151: DeprecationWarning: The truth value of an empty array is ambiguous. Returning False, but in future this will result in an error. Use `array.size > 0` to check that an array is not empty.\n",
      "  if diff:\n",
      "C:\\Users\\Fran\\AppData\\Roaming\\Python\\Python36\\site-packages\\sklearn\\preprocessing\\label.py:151: DeprecationWarning: The truth value of an empty array is ambiguous. Returning False, but in future this will result in an error. Use `array.size > 0` to check that an array is not empty.\n",
      "  if diff:\n",
      "C:\\Users\\Fran\\AppData\\Roaming\\Python\\Python36\\site-packages\\sklearn\\preprocessing\\label.py:151: DeprecationWarning: The truth value of an empty array is ambiguous. Returning False, but in future this will result in an error. Use `array.size > 0` to check that an array is not empty.\n",
      "  if diff:\n",
      "C:\\Users\\Fran\\AppData\\Roaming\\Python\\Python36\\site-packages\\sklearn\\preprocessing\\label.py:151: DeprecationWarning: The truth value of an empty array is ambiguous. Returning False, but in future this will result in an error. Use `array.size > 0` to check that an array is not empty.\n",
      "  if diff:\n",
      "C:\\Users\\Fran\\AppData\\Roaming\\Python\\Python36\\site-packages\\sklearn\\preprocessing\\label.py:151: DeprecationWarning: The truth value of an empty array is ambiguous. Returning False, but in future this will result in an error. Use `array.size > 0` to check that an array is not empty.\n",
      "  if diff:\n"
     ]
    },
    {
     "name": "stderr",
     "output_type": "stream",
     "text": [
      "C:\\Users\\Fran\\AppData\\Roaming\\Python\\Python36\\site-packages\\sklearn\\preprocessing\\label.py:151: DeprecationWarning: The truth value of an empty array is ambiguous. Returning False, but in future this will result in an error. Use `array.size > 0` to check that an array is not empty.\n",
      "  if diff:\n",
      "C:\\Users\\Fran\\AppData\\Roaming\\Python\\Python36\\site-packages\\sklearn\\preprocessing\\label.py:151: DeprecationWarning: The truth value of an empty array is ambiguous. Returning False, but in future this will result in an error. Use `array.size > 0` to check that an array is not empty.\n",
      "  if diff:\n",
      "C:\\Users\\Fran\\AppData\\Roaming\\Python\\Python36\\site-packages\\sklearn\\preprocessing\\label.py:151: DeprecationWarning: The truth value of an empty array is ambiguous. Returning False, but in future this will result in an error. Use `array.size > 0` to check that an array is not empty.\n",
      "  if diff:\n",
      "C:\\Users\\Fran\\AppData\\Roaming\\Python\\Python36\\site-packages\\sklearn\\preprocessing\\label.py:151: DeprecationWarning: The truth value of an empty array is ambiguous. Returning False, but in future this will result in an error. Use `array.size > 0` to check that an array is not empty.\n",
      "  if diff:\n",
      "C:\\Users\\Fran\\AppData\\Roaming\\Python\\Python36\\site-packages\\sklearn\\preprocessing\\label.py:151: DeprecationWarning: The truth value of an empty array is ambiguous. Returning False, but in future this will result in an error. Use `array.size > 0` to check that an array is not empty.\n",
      "  if diff:\n",
      "C:\\Users\\Fran\\AppData\\Roaming\\Python\\Python36\\site-packages\\sklearn\\preprocessing\\label.py:151: DeprecationWarning: The truth value of an empty array is ambiguous. Returning False, but in future this will result in an error. Use `array.size > 0` to check that an array is not empty.\n",
      "  if diff:\n",
      "C:\\Users\\Fran\\AppData\\Roaming\\Python\\Python36\\site-packages\\sklearn\\preprocessing\\label.py:151: DeprecationWarning: The truth value of an empty array is ambiguous. Returning False, but in future this will result in an error. Use `array.size > 0` to check that an array is not empty.\n",
      "  if diff:\n",
      "C:\\Users\\Fran\\AppData\\Roaming\\Python\\Python36\\site-packages\\sklearn\\preprocessing\\label.py:151: DeprecationWarning: The truth value of an empty array is ambiguous. Returning False, but in future this will result in an error. Use `array.size > 0` to check that an array is not empty.\n",
      "  if diff:\n",
      "C:\\Users\\Fran\\AppData\\Roaming\\Python\\Python36\\site-packages\\sklearn\\preprocessing\\label.py:151: DeprecationWarning: The truth value of an empty array is ambiguous. Returning False, but in future this will result in an error. Use `array.size > 0` to check that an array is not empty.\n",
      "  if diff:\n",
      "C:\\Users\\Fran\\AppData\\Roaming\\Python\\Python36\\site-packages\\sklearn\\preprocessing\\label.py:151: DeprecationWarning: The truth value of an empty array is ambiguous. Returning False, but in future this will result in an error. Use `array.size > 0` to check that an array is not empty.\n",
      "  if diff:\n",
      "C:\\Users\\Fran\\AppData\\Roaming\\Python\\Python36\\site-packages\\sklearn\\preprocessing\\label.py:151: DeprecationWarning: The truth value of an empty array is ambiguous. Returning False, but in future this will result in an error. Use `array.size > 0` to check that an array is not empty.\n",
      "  if diff:\n",
      "C:\\Users\\Fran\\AppData\\Roaming\\Python\\Python36\\site-packages\\sklearn\\preprocessing\\label.py:151: DeprecationWarning: The truth value of an empty array is ambiguous. Returning False, but in future this will result in an error. Use `array.size > 0` to check that an array is not empty.\n",
      "  if diff:\n",
      "C:\\Users\\Fran\\AppData\\Roaming\\Python\\Python36\\site-packages\\sklearn\\preprocessing\\label.py:151: DeprecationWarning: The truth value of an empty array is ambiguous. Returning False, but in future this will result in an error. Use `array.size > 0` to check that an array is not empty.\n",
      "  if diff:\n",
      "C:\\Users\\Fran\\AppData\\Roaming\\Python\\Python36\\site-packages\\sklearn\\preprocessing\\label.py:151: DeprecationWarning: The truth value of an empty array is ambiguous. Returning False, but in future this will result in an error. Use `array.size > 0` to check that an array is not empty.\n",
      "  if diff:\n",
      "C:\\Users\\Fran\\AppData\\Roaming\\Python\\Python36\\site-packages\\sklearn\\preprocessing\\label.py:151: DeprecationWarning: The truth value of an empty array is ambiguous. Returning False, but in future this will result in an error. Use `array.size > 0` to check that an array is not empty.\n",
      "  if diff:\n",
      "C:\\Users\\Fran\\AppData\\Roaming\\Python\\Python36\\site-packages\\sklearn\\preprocessing\\label.py:151: DeprecationWarning: The truth value of an empty array is ambiguous. Returning False, but in future this will result in an error. Use `array.size > 0` to check that an array is not empty.\n",
      "  if diff:\n",
      "C:\\Users\\Fran\\AppData\\Roaming\\Python\\Python36\\site-packages\\sklearn\\preprocessing\\label.py:151: DeprecationWarning: The truth value of an empty array is ambiguous. Returning False, but in future this will result in an error. Use `array.size > 0` to check that an array is not empty.\n",
      "  if diff:\n",
      "C:\\Users\\Fran\\AppData\\Roaming\\Python\\Python36\\site-packages\\sklearn\\preprocessing\\label.py:151: DeprecationWarning: The truth value of an empty array is ambiguous. Returning False, but in future this will result in an error. Use `array.size > 0` to check that an array is not empty.\n",
      "  if diff:\n",
      "C:\\Users\\Fran\\AppData\\Roaming\\Python\\Python36\\site-packages\\sklearn\\preprocessing\\label.py:151: DeprecationWarning: The truth value of an empty array is ambiguous. Returning False, but in future this will result in an error. Use `array.size > 0` to check that an array is not empty.\n",
      "  if diff:\n",
      "C:\\Users\\Fran\\AppData\\Roaming\\Python\\Python36\\site-packages\\sklearn\\preprocessing\\label.py:151: DeprecationWarning: The truth value of an empty array is ambiguous. Returning False, but in future this will result in an error. Use `array.size > 0` to check that an array is not empty.\n",
      "  if diff:\n",
      "C:\\Users\\Fran\\AppData\\Roaming\\Python\\Python36\\site-packages\\sklearn\\preprocessing\\label.py:151: DeprecationWarning: The truth value of an empty array is ambiguous. Returning False, but in future this will result in an error. Use `array.size > 0` to check that an array is not empty.\n",
      "  if diff:\n",
      "C:\\Users\\Fran\\AppData\\Roaming\\Python\\Python36\\site-packages\\sklearn\\preprocessing\\label.py:151: DeprecationWarning: The truth value of an empty array is ambiguous. Returning False, but in future this will result in an error. Use `array.size > 0` to check that an array is not empty.\n",
      "  if diff:\n",
      "C:\\Users\\Fran\\AppData\\Roaming\\Python\\Python36\\site-packages\\sklearn\\preprocessing\\label.py:151: DeprecationWarning: The truth value of an empty array is ambiguous. Returning False, but in future this will result in an error. Use `array.size > 0` to check that an array is not empty.\n",
      "  if diff:\n",
      "C:\\Users\\Fran\\AppData\\Roaming\\Python\\Python36\\site-packages\\sklearn\\preprocessing\\label.py:151: DeprecationWarning: The truth value of an empty array is ambiguous. Returning False, but in future this will result in an error. Use `array.size > 0` to check that an array is not empty.\n",
      "  if diff:\n",
      "C:\\Users\\Fran\\AppData\\Roaming\\Python\\Python36\\site-packages\\sklearn\\preprocessing\\label.py:151: DeprecationWarning: The truth value of an empty array is ambiguous. Returning False, but in future this will result in an error. Use `array.size > 0` to check that an array is not empty.\n",
      "  if diff:\n",
      "C:\\Users\\Fran\\AppData\\Roaming\\Python\\Python36\\site-packages\\sklearn\\preprocessing\\label.py:151: DeprecationWarning: The truth value of an empty array is ambiguous. Returning False, but in future this will result in an error. Use `array.size > 0` to check that an array is not empty.\n",
      "  if diff:\n",
      "C:\\Users\\Fran\\AppData\\Roaming\\Python\\Python36\\site-packages\\sklearn\\preprocessing\\label.py:151: DeprecationWarning: The truth value of an empty array is ambiguous. Returning False, but in future this will result in an error. Use `array.size > 0` to check that an array is not empty.\n",
      "  if diff:\n",
      "C:\\Users\\Fran\\AppData\\Roaming\\Python\\Python36\\site-packages\\sklearn\\preprocessing\\label.py:151: DeprecationWarning: The truth value of an empty array is ambiguous. Returning False, but in future this will result in an error. Use `array.size > 0` to check that an array is not empty.\n",
      "  if diff:\n"
     ]
    },
    {
     "name": "stderr",
     "output_type": "stream",
     "text": [
      "C:\\Users\\Fran\\AppData\\Roaming\\Python\\Python36\\site-packages\\sklearn\\preprocessing\\label.py:151: DeprecationWarning: The truth value of an empty array is ambiguous. Returning False, but in future this will result in an error. Use `array.size > 0` to check that an array is not empty.\n",
      "  if diff:\n",
      "C:\\Users\\Fran\\AppData\\Roaming\\Python\\Python36\\site-packages\\sklearn\\preprocessing\\label.py:151: DeprecationWarning: The truth value of an empty array is ambiguous. Returning False, but in future this will result in an error. Use `array.size > 0` to check that an array is not empty.\n",
      "  if diff:\n",
      "C:\\Users\\Fran\\AppData\\Roaming\\Python\\Python36\\site-packages\\sklearn\\preprocessing\\label.py:151: DeprecationWarning: The truth value of an empty array is ambiguous. Returning False, but in future this will result in an error. Use `array.size > 0` to check that an array is not empty.\n",
      "  if diff:\n",
      "C:\\Users\\Fran\\AppData\\Roaming\\Python\\Python36\\site-packages\\sklearn\\preprocessing\\label.py:151: DeprecationWarning: The truth value of an empty array is ambiguous. Returning False, but in future this will result in an error. Use `array.size > 0` to check that an array is not empty.\n",
      "  if diff:\n",
      "C:\\Users\\Fran\\AppData\\Roaming\\Python\\Python36\\site-packages\\sklearn\\preprocessing\\label.py:151: DeprecationWarning: The truth value of an empty array is ambiguous. Returning False, but in future this will result in an error. Use `array.size > 0` to check that an array is not empty.\n",
      "  if diff:\n",
      "C:\\Users\\Fran\\AppData\\Roaming\\Python\\Python36\\site-packages\\sklearn\\preprocessing\\label.py:151: DeprecationWarning: The truth value of an empty array is ambiguous. Returning False, but in future this will result in an error. Use `array.size > 0` to check that an array is not empty.\n",
      "  if diff:\n",
      "C:\\Users\\Fran\\AppData\\Roaming\\Python\\Python36\\site-packages\\sklearn\\preprocessing\\label.py:151: DeprecationWarning: The truth value of an empty array is ambiguous. Returning False, but in future this will result in an error. Use `array.size > 0` to check that an array is not empty.\n",
      "  if diff:\n",
      "C:\\Users\\Fran\\AppData\\Roaming\\Python\\Python36\\site-packages\\sklearn\\preprocessing\\label.py:151: DeprecationWarning: The truth value of an empty array is ambiguous. Returning False, but in future this will result in an error. Use `array.size > 0` to check that an array is not empty.\n",
      "  if diff:\n",
      "C:\\Users\\Fran\\AppData\\Roaming\\Python\\Python36\\site-packages\\sklearn\\preprocessing\\label.py:151: DeprecationWarning: The truth value of an empty array is ambiguous. Returning False, but in future this will result in an error. Use `array.size > 0` to check that an array is not empty.\n",
      "  if diff:\n",
      "C:\\Users\\Fran\\AppData\\Roaming\\Python\\Python36\\site-packages\\sklearn\\preprocessing\\label.py:151: DeprecationWarning: The truth value of an empty array is ambiguous. Returning False, but in future this will result in an error. Use `array.size > 0` to check that an array is not empty.\n",
      "  if diff:\n",
      "C:\\Users\\Fran\\AppData\\Roaming\\Python\\Python36\\site-packages\\sklearn\\preprocessing\\label.py:151: DeprecationWarning: The truth value of an empty array is ambiguous. Returning False, but in future this will result in an error. Use `array.size > 0` to check that an array is not empty.\n",
      "  if diff:\n",
      "C:\\Users\\Fran\\AppData\\Roaming\\Python\\Python36\\site-packages\\sklearn\\preprocessing\\label.py:151: DeprecationWarning: The truth value of an empty array is ambiguous. Returning False, but in future this will result in an error. Use `array.size > 0` to check that an array is not empty.\n",
      "  if diff:\n",
      "C:\\Users\\Fran\\AppData\\Roaming\\Python\\Python36\\site-packages\\sklearn\\preprocessing\\label.py:151: DeprecationWarning: The truth value of an empty array is ambiguous. Returning False, but in future this will result in an error. Use `array.size > 0` to check that an array is not empty.\n",
      "  if diff:\n",
      "C:\\Users\\Fran\\AppData\\Roaming\\Python\\Python36\\site-packages\\sklearn\\preprocessing\\label.py:151: DeprecationWarning: The truth value of an empty array is ambiguous. Returning False, but in future this will result in an error. Use `array.size > 0` to check that an array is not empty.\n",
      "  if diff:\n",
      "C:\\Users\\Fran\\AppData\\Roaming\\Python\\Python36\\site-packages\\sklearn\\preprocessing\\label.py:151: DeprecationWarning: The truth value of an empty array is ambiguous. Returning False, but in future this will result in an error. Use `array.size > 0` to check that an array is not empty.\n",
      "  if diff:\n",
      "C:\\Users\\Fran\\AppData\\Roaming\\Python\\Python36\\site-packages\\sklearn\\preprocessing\\label.py:151: DeprecationWarning: The truth value of an empty array is ambiguous. Returning False, but in future this will result in an error. Use `array.size > 0` to check that an array is not empty.\n",
      "  if diff:\n",
      "C:\\Users\\Fran\\AppData\\Roaming\\Python\\Python36\\site-packages\\sklearn\\preprocessing\\label.py:151: DeprecationWarning: The truth value of an empty array is ambiguous. Returning False, but in future this will result in an error. Use `array.size > 0` to check that an array is not empty.\n",
      "  if diff:\n",
      "C:\\Users\\Fran\\AppData\\Roaming\\Python\\Python36\\site-packages\\sklearn\\preprocessing\\label.py:151: DeprecationWarning: The truth value of an empty array is ambiguous. Returning False, but in future this will result in an error. Use `array.size > 0` to check that an array is not empty.\n",
      "  if diff:\n",
      "C:\\Users\\Fran\\AppData\\Roaming\\Python\\Python36\\site-packages\\sklearn\\preprocessing\\label.py:151: DeprecationWarning: The truth value of an empty array is ambiguous. Returning False, but in future this will result in an error. Use `array.size > 0` to check that an array is not empty.\n",
      "  if diff:\n",
      "C:\\Users\\Fran\\AppData\\Roaming\\Python\\Python36\\site-packages\\sklearn\\preprocessing\\label.py:151: DeprecationWarning: The truth value of an empty array is ambiguous. Returning False, but in future this will result in an error. Use `array.size > 0` to check that an array is not empty.\n",
      "  if diff:\n",
      "C:\\Users\\Fran\\AppData\\Roaming\\Python\\Python36\\site-packages\\sklearn\\preprocessing\\label.py:151: DeprecationWarning: The truth value of an empty array is ambiguous. Returning False, but in future this will result in an error. Use `array.size > 0` to check that an array is not empty.\n",
      "  if diff:\n",
      "C:\\Users\\Fran\\AppData\\Roaming\\Python\\Python36\\site-packages\\sklearn\\preprocessing\\label.py:151: DeprecationWarning: The truth value of an empty array is ambiguous. Returning False, but in future this will result in an error. Use `array.size > 0` to check that an array is not empty.\n",
      "  if diff:\n",
      "C:\\Users\\Fran\\AppData\\Roaming\\Python\\Python36\\site-packages\\sklearn\\preprocessing\\label.py:151: DeprecationWarning: The truth value of an empty array is ambiguous. Returning False, but in future this will result in an error. Use `array.size > 0` to check that an array is not empty.\n",
      "  if diff:\n",
      "C:\\Users\\Fran\\AppData\\Roaming\\Python\\Python36\\site-packages\\sklearn\\preprocessing\\label.py:151: DeprecationWarning: The truth value of an empty array is ambiguous. Returning False, but in future this will result in an error. Use `array.size > 0` to check that an array is not empty.\n",
      "  if diff:\n",
      "C:\\Users\\Fran\\AppData\\Roaming\\Python\\Python36\\site-packages\\sklearn\\preprocessing\\label.py:151: DeprecationWarning: The truth value of an empty array is ambiguous. Returning False, but in future this will result in an error. Use `array.size > 0` to check that an array is not empty.\n",
      "  if diff:\n",
      "C:\\Users\\Fran\\AppData\\Roaming\\Python\\Python36\\site-packages\\sklearn\\preprocessing\\label.py:151: DeprecationWarning: The truth value of an empty array is ambiguous. Returning False, but in future this will result in an error. Use `array.size > 0` to check that an array is not empty.\n",
      "  if diff:\n",
      "C:\\Users\\Fran\\AppData\\Roaming\\Python\\Python36\\site-packages\\sklearn\\preprocessing\\label.py:151: DeprecationWarning: The truth value of an empty array is ambiguous. Returning False, but in future this will result in an error. Use `array.size > 0` to check that an array is not empty.\n",
      "  if diff:\n",
      "C:\\Users\\Fran\\AppData\\Roaming\\Python\\Python36\\site-packages\\sklearn\\preprocessing\\label.py:151: DeprecationWarning: The truth value of an empty array is ambiguous. Returning False, but in future this will result in an error. Use `array.size > 0` to check that an array is not empty.\n",
      "  if diff:\n"
     ]
    },
    {
     "name": "stderr",
     "output_type": "stream",
     "text": [
      "C:\\Users\\Fran\\AppData\\Roaming\\Python\\Python36\\site-packages\\sklearn\\preprocessing\\label.py:151: DeprecationWarning: The truth value of an empty array is ambiguous. Returning False, but in future this will result in an error. Use `array.size > 0` to check that an array is not empty.\n",
      "  if diff:\n",
      "C:\\Users\\Fran\\AppData\\Roaming\\Python\\Python36\\site-packages\\sklearn\\preprocessing\\label.py:151: DeprecationWarning: The truth value of an empty array is ambiguous. Returning False, but in future this will result in an error. Use `array.size > 0` to check that an array is not empty.\n",
      "  if diff:\n",
      "C:\\Users\\Fran\\AppData\\Roaming\\Python\\Python36\\site-packages\\sklearn\\preprocessing\\label.py:151: DeprecationWarning: The truth value of an empty array is ambiguous. Returning False, but in future this will result in an error. Use `array.size > 0` to check that an array is not empty.\n",
      "  if diff:\n",
      "C:\\Users\\Fran\\AppData\\Roaming\\Python\\Python36\\site-packages\\sklearn\\preprocessing\\label.py:151: DeprecationWarning: The truth value of an empty array is ambiguous. Returning False, but in future this will result in an error. Use `array.size > 0` to check that an array is not empty.\n",
      "  if diff:\n",
      "C:\\Users\\Fran\\AppData\\Roaming\\Python\\Python36\\site-packages\\sklearn\\preprocessing\\label.py:151: DeprecationWarning: The truth value of an empty array is ambiguous. Returning False, but in future this will result in an error. Use `array.size > 0` to check that an array is not empty.\n",
      "  if diff:\n",
      "C:\\Users\\Fran\\AppData\\Roaming\\Python\\Python36\\site-packages\\sklearn\\preprocessing\\label.py:151: DeprecationWarning: The truth value of an empty array is ambiguous. Returning False, but in future this will result in an error. Use `array.size > 0` to check that an array is not empty.\n",
      "  if diff:\n",
      "C:\\Users\\Fran\\AppData\\Roaming\\Python\\Python36\\site-packages\\sklearn\\preprocessing\\label.py:151: DeprecationWarning: The truth value of an empty array is ambiguous. Returning False, but in future this will result in an error. Use `array.size > 0` to check that an array is not empty.\n",
      "  if diff:\n",
      "C:\\Users\\Fran\\AppData\\Roaming\\Python\\Python36\\site-packages\\sklearn\\preprocessing\\label.py:151: DeprecationWarning: The truth value of an empty array is ambiguous. Returning False, but in future this will result in an error. Use `array.size > 0` to check that an array is not empty.\n",
      "  if diff:\n",
      "C:\\Users\\Fran\\AppData\\Roaming\\Python\\Python36\\site-packages\\sklearn\\preprocessing\\label.py:151: DeprecationWarning: The truth value of an empty array is ambiguous. Returning False, but in future this will result in an error. Use `array.size > 0` to check that an array is not empty.\n",
      "  if diff:\n",
      "C:\\Users\\Fran\\AppData\\Roaming\\Python\\Python36\\site-packages\\sklearn\\preprocessing\\label.py:151: DeprecationWarning: The truth value of an empty array is ambiguous. Returning False, but in future this will result in an error. Use `array.size > 0` to check that an array is not empty.\n",
      "  if diff:\n",
      "C:\\Users\\Fran\\AppData\\Roaming\\Python\\Python36\\site-packages\\sklearn\\preprocessing\\label.py:151: DeprecationWarning: The truth value of an empty array is ambiguous. Returning False, but in future this will result in an error. Use `array.size > 0` to check that an array is not empty.\n",
      "  if diff:\n",
      "C:\\Users\\Fran\\AppData\\Roaming\\Python\\Python36\\site-packages\\sklearn\\preprocessing\\label.py:151: DeprecationWarning: The truth value of an empty array is ambiguous. Returning False, but in future this will result in an error. Use `array.size > 0` to check that an array is not empty.\n",
      "  if diff:\n",
      "C:\\Users\\Fran\\AppData\\Roaming\\Python\\Python36\\site-packages\\sklearn\\preprocessing\\label.py:151: DeprecationWarning: The truth value of an empty array is ambiguous. Returning False, but in future this will result in an error. Use `array.size > 0` to check that an array is not empty.\n",
      "  if diff:\n",
      "C:\\Users\\Fran\\AppData\\Roaming\\Python\\Python36\\site-packages\\sklearn\\preprocessing\\label.py:151: DeprecationWarning: The truth value of an empty array is ambiguous. Returning False, but in future this will result in an error. Use `array.size > 0` to check that an array is not empty.\n",
      "  if diff:\n",
      "C:\\Users\\Fran\\AppData\\Roaming\\Python\\Python36\\site-packages\\sklearn\\preprocessing\\label.py:151: DeprecationWarning: The truth value of an empty array is ambiguous. Returning False, but in future this will result in an error. Use `array.size > 0` to check that an array is not empty.\n",
      "  if diff:\n",
      "C:\\Users\\Fran\\AppData\\Roaming\\Python\\Python36\\site-packages\\sklearn\\preprocessing\\label.py:151: DeprecationWarning: The truth value of an empty array is ambiguous. Returning False, but in future this will result in an error. Use `array.size > 0` to check that an array is not empty.\n",
      "  if diff:\n",
      "C:\\Users\\Fran\\AppData\\Roaming\\Python\\Python36\\site-packages\\sklearn\\preprocessing\\label.py:151: DeprecationWarning: The truth value of an empty array is ambiguous. Returning False, but in future this will result in an error. Use `array.size > 0` to check that an array is not empty.\n",
      "  if diff:\n",
      "C:\\Users\\Fran\\AppData\\Roaming\\Python\\Python36\\site-packages\\sklearn\\preprocessing\\label.py:151: DeprecationWarning: The truth value of an empty array is ambiguous. Returning False, but in future this will result in an error. Use `array.size > 0` to check that an array is not empty.\n",
      "  if diff:\n",
      "C:\\Users\\Fran\\AppData\\Roaming\\Python\\Python36\\site-packages\\sklearn\\preprocessing\\label.py:151: DeprecationWarning: The truth value of an empty array is ambiguous. Returning False, but in future this will result in an error. Use `array.size > 0` to check that an array is not empty.\n",
      "  if diff:\n",
      "C:\\Users\\Fran\\AppData\\Roaming\\Python\\Python36\\site-packages\\sklearn\\preprocessing\\label.py:151: DeprecationWarning: The truth value of an empty array is ambiguous. Returning False, but in future this will result in an error. Use `array.size > 0` to check that an array is not empty.\n",
      "  if diff:\n",
      "C:\\Users\\Fran\\AppData\\Roaming\\Python\\Python36\\site-packages\\sklearn\\preprocessing\\label.py:151: DeprecationWarning: The truth value of an empty array is ambiguous. Returning False, but in future this will result in an error. Use `array.size > 0` to check that an array is not empty.\n",
      "  if diff:\n",
      "C:\\Users\\Fran\\AppData\\Roaming\\Python\\Python36\\site-packages\\sklearn\\preprocessing\\label.py:151: DeprecationWarning: The truth value of an empty array is ambiguous. Returning False, but in future this will result in an error. Use `array.size > 0` to check that an array is not empty.\n",
      "  if diff:\n",
      "C:\\Users\\Fran\\AppData\\Roaming\\Python\\Python36\\site-packages\\sklearn\\preprocessing\\label.py:151: DeprecationWarning: The truth value of an empty array is ambiguous. Returning False, but in future this will result in an error. Use `array.size > 0` to check that an array is not empty.\n",
      "  if diff:\n",
      "C:\\Users\\Fran\\AppData\\Roaming\\Python\\Python36\\site-packages\\sklearn\\preprocessing\\label.py:151: DeprecationWarning: The truth value of an empty array is ambiguous. Returning False, but in future this will result in an error. Use `array.size > 0` to check that an array is not empty.\n",
      "  if diff:\n",
      "C:\\Users\\Fran\\AppData\\Roaming\\Python\\Python36\\site-packages\\sklearn\\preprocessing\\label.py:151: DeprecationWarning: The truth value of an empty array is ambiguous. Returning False, but in future this will result in an error. Use `array.size > 0` to check that an array is not empty.\n",
      "  if diff:\n",
      "C:\\Users\\Fran\\AppData\\Roaming\\Python\\Python36\\site-packages\\sklearn\\preprocessing\\label.py:151: DeprecationWarning: The truth value of an empty array is ambiguous. Returning False, but in future this will result in an error. Use `array.size > 0` to check that an array is not empty.\n",
      "  if diff:\n",
      "C:\\Users\\Fran\\AppData\\Roaming\\Python\\Python36\\site-packages\\sklearn\\preprocessing\\label.py:151: DeprecationWarning: The truth value of an empty array is ambiguous. Returning False, but in future this will result in an error. Use `array.size > 0` to check that an array is not empty.\n",
      "  if diff:\n",
      "C:\\Users\\Fran\\AppData\\Roaming\\Python\\Python36\\site-packages\\sklearn\\preprocessing\\label.py:151: DeprecationWarning: The truth value of an empty array is ambiguous. Returning False, but in future this will result in an error. Use `array.size > 0` to check that an array is not empty.\n",
      "  if diff:\n"
     ]
    },
    {
     "name": "stderr",
     "output_type": "stream",
     "text": [
      "C:\\Users\\Fran\\AppData\\Roaming\\Python\\Python36\\site-packages\\sklearn\\preprocessing\\label.py:151: DeprecationWarning: The truth value of an empty array is ambiguous. Returning False, but in future this will result in an error. Use `array.size > 0` to check that an array is not empty.\n",
      "  if diff:\n",
      "C:\\Users\\Fran\\AppData\\Roaming\\Python\\Python36\\site-packages\\sklearn\\preprocessing\\label.py:151: DeprecationWarning: The truth value of an empty array is ambiguous. Returning False, but in future this will result in an error. Use `array.size > 0` to check that an array is not empty.\n",
      "  if diff:\n",
      "C:\\Users\\Fran\\AppData\\Roaming\\Python\\Python36\\site-packages\\sklearn\\preprocessing\\label.py:151: DeprecationWarning: The truth value of an empty array is ambiguous. Returning False, but in future this will result in an error. Use `array.size > 0` to check that an array is not empty.\n",
      "  if diff:\n",
      "C:\\Users\\Fran\\AppData\\Roaming\\Python\\Python36\\site-packages\\sklearn\\preprocessing\\label.py:151: DeprecationWarning: The truth value of an empty array is ambiguous. Returning False, but in future this will result in an error. Use `array.size > 0` to check that an array is not empty.\n",
      "  if diff:\n",
      "C:\\Users\\Fran\\AppData\\Roaming\\Python\\Python36\\site-packages\\sklearn\\preprocessing\\label.py:151: DeprecationWarning: The truth value of an empty array is ambiguous. Returning False, but in future this will result in an error. Use `array.size > 0` to check that an array is not empty.\n",
      "  if diff:\n",
      "C:\\Users\\Fran\\AppData\\Roaming\\Python\\Python36\\site-packages\\sklearn\\preprocessing\\label.py:151: DeprecationWarning: The truth value of an empty array is ambiguous. Returning False, but in future this will result in an error. Use `array.size > 0` to check that an array is not empty.\n",
      "  if diff:\n",
      "C:\\Users\\Fran\\AppData\\Roaming\\Python\\Python36\\site-packages\\sklearn\\preprocessing\\label.py:151: DeprecationWarning: The truth value of an empty array is ambiguous. Returning False, but in future this will result in an error. Use `array.size > 0` to check that an array is not empty.\n",
      "  if diff:\n",
      "C:\\Users\\Fran\\AppData\\Roaming\\Python\\Python36\\site-packages\\sklearn\\preprocessing\\label.py:151: DeprecationWarning: The truth value of an empty array is ambiguous. Returning False, but in future this will result in an error. Use `array.size > 0` to check that an array is not empty.\n",
      "  if diff:\n",
      "C:\\Users\\Fran\\AppData\\Roaming\\Python\\Python36\\site-packages\\sklearn\\preprocessing\\label.py:151: DeprecationWarning: The truth value of an empty array is ambiguous. Returning False, but in future this will result in an error. Use `array.size > 0` to check that an array is not empty.\n",
      "  if diff:\n",
      "C:\\Users\\Fran\\AppData\\Roaming\\Python\\Python36\\site-packages\\sklearn\\preprocessing\\label.py:151: DeprecationWarning: The truth value of an empty array is ambiguous. Returning False, but in future this will result in an error. Use `array.size > 0` to check that an array is not empty.\n",
      "  if diff:\n",
      "[Parallel(n_jobs=1)]: Done  75 out of  75 | elapsed:  1.1min finished\n"
     ]
    },
    {
     "name": "stdout",
     "output_type": "stream",
     "text": [
      "La búsqueda con XGBoost llevó:  72.17738151550293  segundos\n"
     ]
    }
   ],
   "source": [
    "start = time.time()\n",
    "xgb.fit(X_train,y_train)\n",
    "end = time.time()\n",
    "print(\"La búsqueda con XGBoost llevó: \", end - start, \" segundos\")"
   ]
  },
  {
   "cell_type": "code",
   "execution_count": 54,
   "metadata": {
    "colab": {},
    "colab_type": "code",
    "id": "TWN_SYVkCfoM"
   },
   "outputs": [],
   "source": [
    "y_predicted_xgb = xgb.predict_proba(X_test)"
   ]
  },
  {
   "cell_type": "code",
   "execution_count": 55,
   "metadata": {
    "colab": {},
    "colab_type": "code",
    "id": "CoC30kJgCfoW",
    "outputId": "32a88e44-2471-4b9a-96f7-8294535dd7dc"
   },
   "outputs": [
    {
     "data": {
      "text/plain": [
       "(9726,)"
      ]
     },
     "execution_count": 55,
     "metadata": {},
     "output_type": "execute_result"
    }
   ],
   "source": [
    "y_predicted_xgb[:,0].shape"
   ]
  },
  {
   "cell_type": "code",
   "execution_count": 56,
   "metadata": {
    "colab": {},
    "colab_type": "code",
    "id": "iSPh4BliCfob",
    "outputId": "bbcae194-4930-4247-85de-2a8dfa40e9b1"
   },
   "outputs": [
    {
     "name": "stdout",
     "output_type": "stream",
     "text": [
      "El valor del AUC es:  0.9638534996899473\n"
     ]
    }
   ],
   "source": [
    "xgb_auc = roc_auc_score(y_test,y_predicted_xgb[:,1])\n",
    "print(\"El valor del AUC es: \", xgb_auc)"
   ]
  },
  {
   "cell_type": "markdown",
   "metadata": {
    "colab_type": "text",
    "id": "9ccsI2ZnCfog"
   },
   "source": [
    "Graficamos la curva ROC por clase"
   ]
  },
  {
   "cell_type": "code",
   "execution_count": 57,
   "metadata": {
    "colab": {},
    "colab_type": "code",
    "id": "ttPIpN_iCfoj",
    "outputId": "bddf28c8-dc31-4df9-a2e2-4b79c73ae726"
   },
   "outputs": [
    {
     "data": {
      "image/png": "[encoded data removed]",
      "text/plain": [
       "<Figure size 432x288 with 1 Axes>"
      ]
     },
     "metadata": {},
     "output_type": "display_data"
    }
   ],
   "source": [
    "plot_roc(y_test,y_predicted_xgb, plot_micro = False, plot_macro= False);"
   ]
  },
  {
   "cell_type": "code",
   "execution_count": 58,
   "metadata": {
    "colab": {},
    "colab_type": "code",
    "id": "ZIV1v9ukCfor",
    "outputId": "d3530218-f0ce-46b4-8924-8a07665718d9"
   },
   "outputs": [
    {
     "data": {
      "image/png": "[encoded data removed]",
      "text/plain": [
       "<Figure size 432x288 with 1 Axes>"
      ]
     },
     "metadata": {},
     "output_type": "display_data"
    }
   ],
   "source": [
    "from xgboost import plot_importance\n",
    "plot_importance(xgb.best_estimator_, height = 0.8,max_num_features=5);"
   ]
  },
  {
   "cell_type": "markdown",
   "metadata": {
    "colab_type": "text",
    "id": "edXmEQ96Cfo_"
   },
   "source": [
    "Entonces, los principales atributos son:\n",
    "- profit on operating activities / financial expenses\n",
    "- (current assets - inventory) / short-term liabilities\n",
    "- sales (n) / sales (n-1)\n",
    "- operating expenses / total liabilities\n",
    "- logarithm of total assets"
   ]
  },
  {
   "cell_type": "markdown",
   "metadata": {
    "colab_type": "text",
    "id": "kVbm1chpCfpB"
   },
   "source": [
    "También se pueden acceder los valores directamente con el atributo feature_importances_"
   ]
  },
  {
   "cell_type": "code",
   "execution_count": 59,
   "metadata": {
    "colab": {},
    "colab_type": "code",
    "id": "egdxmzMUCfpD",
    "outputId": "120ff983-5aa0-4357-cacd-605e7718295d"
   },
   "outputs": [
    {
     "name": "stdout",
     "output_type": "stream",
     "text": [
      "[0.04663277 0.04898921 0.05134565 0.04464839 0.03838522 0.03714499\n",
      " 0.03354831 0.0462607  0.03423044 0.02939353 0.03286618 0.02970358\n",
      " 0.03919137 0.03007565 0.05351606 0.05364008 0.04458638 0.03088181\n",
      " 0.04402828 0.02585886 0.03088181 0.03695895 0.03633883 0.04502046\n",
      " 0.0558725 ]\n"
     ]
    }
   ],
   "source": [
    "print(xgb.best_estimator_.feature_importances_)"
   ]
  },
  {
   "cell_type": "markdown",
   "metadata": {
    "colab_type": "text",
    "id": "oPEjlew9CfpV"
   },
   "source": [
    "## LightGBM"
   ]
  },
  {
   "cell_type": "markdown",
   "metadata": {
    "colab_type": "text",
    "id": "qZrSv-AsCfpb"
   },
   "source": [
    "La librería lightgbm permite directamente interactuar con SciKitLearn"
   ]
  },
  {
   "cell_type": "code",
   "execution_count": 60,
   "metadata": {
    "colab": {},
    "colab_type": "code",
    "id": "BEQsZCsSCfpd"
   },
   "outputs": [],
   "source": [
    "import lightgbm as lgb"
   ]
  },
  {
   "cell_type": "code",
   "execution_count": 61,
   "metadata": {
    "colab": {},
    "colab_type": "code",
    "id": "9jWuKhk4Cfpi"
   },
   "outputs": [],
   "source": [
    "model_lgb = lgb.LGBMClassifier()"
   ]
  },
  {
   "cell_type": "markdown",
   "metadata": {
    "colab_type": "text",
    "id": "hgln7ACdlPPs"
   },
   "source": [
    " Usamos los mismos rangos de hiperparámetros que para XGBoost. La lista completa de hiperparámetros se puede consultar <a = \"https://github.com/Microsoft/LightGBM/blob/master/docs/Parameters.rst\"> aquí </a>"
   ]
  },
  {
   "cell_type": "markdown",
   "metadata": {
    "colab_type": "text",
    "id": "MEYvubeLmi6g"
   },
   "source": [
    "¿Es necesario normalizar los features antes de aplicar LightGBM?"
   ]
  },
  {
   "cell_type": "code",
   "execution_count": 62,
   "metadata": {
    "colab": {},
    "colab_type": "code",
    "id": "4h3wCHnRCfpq"
   },
   "outputs": [],
   "source": [
    "lgbm = RandomizedSearchCV(model_lgb, params, n_iter = 25, verbose= True)"
   ]
  },
  {
   "cell_type": "code",
   "execution_count": 63,
   "metadata": {
    "colab": {},
    "colab_type": "code",
    "id": "7KCPi2OXCfp1",
    "outputId": "e894107b-b848-4bc0-b764-2cd67da94cc5"
   },
   "outputs": [
    {
     "name": "stdout",
     "output_type": "stream",
     "text": [
      "Fitting 3 folds for each of 25 candidates, totalling 75 fits\n"
     ]
    },
    {
     "name": "stderr",
     "output_type": "stream",
     "text": [
      "C:\\Users\\Fran\\AppData\\Roaming\\Python\\Python36\\site-packages\\sklearn\\preprocessing\\label.py:151: DeprecationWarning: The truth value of an empty array is ambiguous. Returning False, but in future this will result in an error. Use `array.size > 0` to check that an array is not empty.\n",
      "  if diff:\n",
      "C:\\Users\\Fran\\AppData\\Roaming\\Python\\Python36\\site-packages\\sklearn\\preprocessing\\label.py:151: DeprecationWarning: The truth value of an empty array is ambiguous. Returning False, but in future this will result in an error. Use `array.size > 0` to check that an array is not empty.\n",
      "  if diff:\n",
      "C:\\Users\\Fran\\AppData\\Roaming\\Python\\Python36\\site-packages\\sklearn\\preprocessing\\label.py:151: DeprecationWarning: The truth value of an empty array is ambiguous. Returning False, but in future this will result in an error. Use `array.size > 0` to check that an array is not empty.\n",
      "  if diff:\n",
      "C:\\Users\\Fran\\AppData\\Roaming\\Python\\Python36\\site-packages\\sklearn\\preprocessing\\label.py:151: DeprecationWarning: The truth value of an empty array is ambiguous. Returning False, but in future this will result in an error. Use `array.size > 0` to check that an array is not empty.\n",
      "  if diff:\n",
      "C:\\Users\\Fran\\AppData\\Roaming\\Python\\Python36\\site-packages\\sklearn\\preprocessing\\label.py:151: DeprecationWarning: The truth value of an empty array is ambiguous. Returning False, but in future this will result in an error. Use `array.size > 0` to check that an array is not empty.\n",
      "  if diff:\n",
      "C:\\Users\\Fran\\AppData\\Roaming\\Python\\Python36\\site-packages\\sklearn\\preprocessing\\label.py:151: DeprecationWarning: The truth value of an empty array is ambiguous. Returning False, but in future this will result in an error. Use `array.size > 0` to check that an array is not empty.\n",
      "  if diff:\n",
      "C:\\Users\\Fran\\AppData\\Roaming\\Python\\Python36\\site-packages\\sklearn\\preprocessing\\label.py:151: DeprecationWarning: The truth value of an empty array is ambiguous. Returning False, but in future this will result in an error. Use `array.size > 0` to check that an array is not empty.\n",
      "  if diff:\n",
      "C:\\Users\\Fran\\AppData\\Roaming\\Python\\Python36\\site-packages\\sklearn\\preprocessing\\label.py:151: DeprecationWarning: The truth value of an empty array is ambiguous. Returning False, but in future this will result in an error. Use `array.size > 0` to check that an array is not empty.\n",
      "  if diff:\n",
      "C:\\Users\\Fran\\AppData\\Roaming\\Python\\Python36\\site-packages\\sklearn\\preprocessing\\label.py:151: DeprecationWarning: The truth value of an empty array is ambiguous. Returning False, but in future this will result in an error. Use `array.size > 0` to check that an array is not empty.\n",
      "  if diff:\n",
      "C:\\Users\\Fran\\AppData\\Roaming\\Python\\Python36\\site-packages\\sklearn\\preprocessing\\label.py:151: DeprecationWarning: The truth value of an empty array is ambiguous. Returning False, but in future this will result in an error. Use `array.size > 0` to check that an array is not empty.\n",
      "  if diff:\n",
      "C:\\Users\\Fran\\AppData\\Roaming\\Python\\Python36\\site-packages\\sklearn\\preprocessing\\label.py:151: DeprecationWarning: The truth value of an empty array is ambiguous. Returning False, but in future this will result in an error. Use `array.size > 0` to check that an array is not empty.\n",
      "  if diff:\n",
      "C:\\Users\\Fran\\AppData\\Roaming\\Python\\Python36\\site-packages\\sklearn\\preprocessing\\label.py:151: DeprecationWarning: The truth value of an empty array is ambiguous. Returning False, but in future this will result in an error. Use `array.size > 0` to check that an array is not empty.\n",
      "  if diff:\n",
      "C:\\Users\\Fran\\AppData\\Roaming\\Python\\Python36\\site-packages\\sklearn\\preprocessing\\label.py:151: DeprecationWarning: The truth value of an empty array is ambiguous. Returning False, but in future this will result in an error. Use `array.size > 0` to check that an array is not empty.\n",
      "  if diff:\n",
      "C:\\Users\\Fran\\AppData\\Roaming\\Python\\Python36\\site-packages\\sklearn\\preprocessing\\label.py:151: DeprecationWarning: The truth value of an empty array is ambiguous. Returning False, but in future this will result in an error. Use `array.size > 0` to check that an array is not empty.\n",
      "  if diff:\n",
      "C:\\Users\\Fran\\AppData\\Roaming\\Python\\Python36\\site-packages\\sklearn\\preprocessing\\label.py:151: DeprecationWarning: The truth value of an empty array is ambiguous. Returning False, but in future this will result in an error. Use `array.size > 0` to check that an array is not empty.\n",
      "  if diff:\n",
      "C:\\Users\\Fran\\AppData\\Roaming\\Python\\Python36\\site-packages\\sklearn\\preprocessing\\label.py:151: DeprecationWarning: The truth value of an empty array is ambiguous. Returning False, but in future this will result in an error. Use `array.size > 0` to check that an array is not empty.\n",
      "  if diff:\n",
      "C:\\Users\\Fran\\AppData\\Roaming\\Python\\Python36\\site-packages\\sklearn\\preprocessing\\label.py:151: DeprecationWarning: The truth value of an empty array is ambiguous. Returning False, but in future this will result in an error. Use `array.size > 0` to check that an array is not empty.\n",
      "  if diff:\n",
      "C:\\Users\\Fran\\AppData\\Roaming\\Python\\Python36\\site-packages\\sklearn\\preprocessing\\label.py:151: DeprecationWarning: The truth value of an empty array is ambiguous. Returning False, but in future this will result in an error. Use `array.size > 0` to check that an array is not empty.\n",
      "  if diff:\n",
      "C:\\Users\\Fran\\AppData\\Roaming\\Python\\Python36\\site-packages\\sklearn\\preprocessing\\label.py:151: DeprecationWarning: The truth value of an empty array is ambiguous. Returning False, but in future this will result in an error. Use `array.size > 0` to check that an array is not empty.\n",
      "  if diff:\n",
      "C:\\Users\\Fran\\AppData\\Roaming\\Python\\Python36\\site-packages\\sklearn\\preprocessing\\label.py:151: DeprecationWarning: The truth value of an empty array is ambiguous. Returning False, but in future this will result in an error. Use `array.size > 0` to check that an array is not empty.\n",
      "  if diff:\n",
      "C:\\Users\\Fran\\AppData\\Roaming\\Python\\Python36\\site-packages\\sklearn\\preprocessing\\label.py:151: DeprecationWarning: The truth value of an empty array is ambiguous. Returning False, but in future this will result in an error. Use `array.size > 0` to check that an array is not empty.\n",
      "  if diff:\n",
      "C:\\Users\\Fran\\AppData\\Roaming\\Python\\Python36\\site-packages\\sklearn\\preprocessing\\label.py:151: DeprecationWarning: The truth value of an empty array is ambiguous. Returning False, but in future this will result in an error. Use `array.size > 0` to check that an array is not empty.\n",
      "  if diff:\n",
      "C:\\Users\\Fran\\AppData\\Roaming\\Python\\Python36\\site-packages\\sklearn\\preprocessing\\label.py:151: DeprecationWarning: The truth value of an empty array is ambiguous. Returning False, but in future this will result in an error. Use `array.size > 0` to check that an array is not empty.\n",
      "  if diff:\n",
      "C:\\Users\\Fran\\AppData\\Roaming\\Python\\Python36\\site-packages\\sklearn\\preprocessing\\label.py:151: DeprecationWarning: The truth value of an empty array is ambiguous. Returning False, but in future this will result in an error. Use `array.size > 0` to check that an array is not empty.\n",
      "  if diff:\n",
      "C:\\Users\\Fran\\AppData\\Roaming\\Python\\Python36\\site-packages\\sklearn\\preprocessing\\label.py:151: DeprecationWarning: The truth value of an empty array is ambiguous. Returning False, but in future this will result in an error. Use `array.size > 0` to check that an array is not empty.\n",
      "  if diff:\n",
      "C:\\Users\\Fran\\AppData\\Roaming\\Python\\Python36\\site-packages\\sklearn\\preprocessing\\label.py:151: DeprecationWarning: The truth value of an empty array is ambiguous. Returning False, but in future this will result in an error. Use `array.size > 0` to check that an array is not empty.\n",
      "  if diff:\n",
      "C:\\Users\\Fran\\AppData\\Roaming\\Python\\Python36\\site-packages\\sklearn\\preprocessing\\label.py:151: DeprecationWarning: The truth value of an empty array is ambiguous. Returning False, but in future this will result in an error. Use `array.size > 0` to check that an array is not empty.\n",
      "  if diff:\n",
      "C:\\Users\\Fran\\AppData\\Roaming\\Python\\Python36\\site-packages\\sklearn\\preprocessing\\label.py:151: DeprecationWarning: The truth value of an empty array is ambiguous. Returning False, but in future this will result in an error. Use `array.size > 0` to check that an array is not empty.\n",
      "  if diff:\n",
      "C:\\Users\\Fran\\AppData\\Roaming\\Python\\Python36\\site-packages\\sklearn\\preprocessing\\label.py:151: DeprecationWarning: The truth value of an empty array is ambiguous. Returning False, but in future this will result in an error. Use `array.size > 0` to check that an array is not empty.\n",
      "  if diff:\n",
      "C:\\Users\\Fran\\AppData\\Roaming\\Python\\Python36\\site-packages\\sklearn\\preprocessing\\label.py:151: DeprecationWarning: The truth value of an empty array is ambiguous. Returning False, but in future this will result in an error. Use `array.size > 0` to check that an array is not empty.\n",
      "  if diff:\n"
     ]
    },
    {
     "name": "stderr",
     "output_type": "stream",
     "text": [
      "C:\\Users\\Fran\\AppData\\Roaming\\Python\\Python36\\site-packages\\sklearn\\preprocessing\\label.py:151: DeprecationWarning: The truth value of an empty array is ambiguous. Returning False, but in future this will result in an error. Use `array.size > 0` to check that an array is not empty.\n",
      "  if diff:\n",
      "C:\\Users\\Fran\\AppData\\Roaming\\Python\\Python36\\site-packages\\sklearn\\preprocessing\\label.py:151: DeprecationWarning: The truth value of an empty array is ambiguous. Returning False, but in future this will result in an error. Use `array.size > 0` to check that an array is not empty.\n",
      "  if diff:\n",
      "C:\\Users\\Fran\\AppData\\Roaming\\Python\\Python36\\site-packages\\sklearn\\preprocessing\\label.py:151: DeprecationWarning: The truth value of an empty array is ambiguous. Returning False, but in future this will result in an error. Use `array.size > 0` to check that an array is not empty.\n",
      "  if diff:\n",
      "C:\\Users\\Fran\\AppData\\Roaming\\Python\\Python36\\site-packages\\sklearn\\preprocessing\\label.py:151: DeprecationWarning: The truth value of an empty array is ambiguous. Returning False, but in future this will result in an error. Use `array.size > 0` to check that an array is not empty.\n",
      "  if diff:\n",
      "C:\\Users\\Fran\\AppData\\Roaming\\Python\\Python36\\site-packages\\sklearn\\preprocessing\\label.py:151: DeprecationWarning: The truth value of an empty array is ambiguous. Returning False, but in future this will result in an error. Use `array.size > 0` to check that an array is not empty.\n",
      "  if diff:\n",
      "C:\\Users\\Fran\\AppData\\Roaming\\Python\\Python36\\site-packages\\sklearn\\preprocessing\\label.py:151: DeprecationWarning: The truth value of an empty array is ambiguous. Returning False, but in future this will result in an error. Use `array.size > 0` to check that an array is not empty.\n",
      "  if diff:\n",
      "C:\\Users\\Fran\\AppData\\Roaming\\Python\\Python36\\site-packages\\sklearn\\preprocessing\\label.py:151: DeprecationWarning: The truth value of an empty array is ambiguous. Returning False, but in future this will result in an error. Use `array.size > 0` to check that an array is not empty.\n",
      "  if diff:\n",
      "C:\\Users\\Fran\\AppData\\Roaming\\Python\\Python36\\site-packages\\sklearn\\preprocessing\\label.py:151: DeprecationWarning: The truth value of an empty array is ambiguous. Returning False, but in future this will result in an error. Use `array.size > 0` to check that an array is not empty.\n",
      "  if diff:\n",
      "C:\\Users\\Fran\\AppData\\Roaming\\Python\\Python36\\site-packages\\sklearn\\preprocessing\\label.py:151: DeprecationWarning: The truth value of an empty array is ambiguous. Returning False, but in future this will result in an error. Use `array.size > 0` to check that an array is not empty.\n",
      "  if diff:\n",
      "C:\\Users\\Fran\\AppData\\Roaming\\Python\\Python36\\site-packages\\sklearn\\preprocessing\\label.py:151: DeprecationWarning: The truth value of an empty array is ambiguous. Returning False, but in future this will result in an error. Use `array.size > 0` to check that an array is not empty.\n",
      "  if diff:\n",
      "C:\\Users\\Fran\\AppData\\Roaming\\Python\\Python36\\site-packages\\sklearn\\preprocessing\\label.py:151: DeprecationWarning: The truth value of an empty array is ambiguous. Returning False, but in future this will result in an error. Use `array.size > 0` to check that an array is not empty.\n",
      "  if diff:\n",
      "C:\\Users\\Fran\\AppData\\Roaming\\Python\\Python36\\site-packages\\sklearn\\preprocessing\\label.py:151: DeprecationWarning: The truth value of an empty array is ambiguous. Returning False, but in future this will result in an error. Use `array.size > 0` to check that an array is not empty.\n",
      "  if diff:\n",
      "C:\\Users\\Fran\\AppData\\Roaming\\Python\\Python36\\site-packages\\sklearn\\preprocessing\\label.py:151: DeprecationWarning: The truth value of an empty array is ambiguous. Returning False, but in future this will result in an error. Use `array.size > 0` to check that an array is not empty.\n",
      "  if diff:\n",
      "C:\\Users\\Fran\\AppData\\Roaming\\Python\\Python36\\site-packages\\sklearn\\preprocessing\\label.py:151: DeprecationWarning: The truth value of an empty array is ambiguous. Returning False, but in future this will result in an error. Use `array.size > 0` to check that an array is not empty.\n",
      "  if diff:\n",
      "C:\\Users\\Fran\\AppData\\Roaming\\Python\\Python36\\site-packages\\sklearn\\preprocessing\\label.py:151: DeprecationWarning: The truth value of an empty array is ambiguous. Returning False, but in future this will result in an error. Use `array.size > 0` to check that an array is not empty.\n",
      "  if diff:\n",
      "C:\\Users\\Fran\\AppData\\Roaming\\Python\\Python36\\site-packages\\sklearn\\preprocessing\\label.py:151: DeprecationWarning: The truth value of an empty array is ambiguous. Returning False, but in future this will result in an error. Use `array.size > 0` to check that an array is not empty.\n",
      "  if diff:\n",
      "C:\\Users\\Fran\\AppData\\Roaming\\Python\\Python36\\site-packages\\sklearn\\preprocessing\\label.py:151: DeprecationWarning: The truth value of an empty array is ambiguous. Returning False, but in future this will result in an error. Use `array.size > 0` to check that an array is not empty.\n",
      "  if diff:\n",
      "C:\\Users\\Fran\\AppData\\Roaming\\Python\\Python36\\site-packages\\sklearn\\preprocessing\\label.py:151: DeprecationWarning: The truth value of an empty array is ambiguous. Returning False, but in future this will result in an error. Use `array.size > 0` to check that an array is not empty.\n",
      "  if diff:\n",
      "C:\\Users\\Fran\\AppData\\Roaming\\Python\\Python36\\site-packages\\sklearn\\preprocessing\\label.py:151: DeprecationWarning: The truth value of an empty array is ambiguous. Returning False, but in future this will result in an error. Use `array.size > 0` to check that an array is not empty.\n",
      "  if diff:\n",
      "C:\\Users\\Fran\\AppData\\Roaming\\Python\\Python36\\site-packages\\sklearn\\preprocessing\\label.py:151: DeprecationWarning: The truth value of an empty array is ambiguous. Returning False, but in future this will result in an error. Use `array.size > 0` to check that an array is not empty.\n",
      "  if diff:\n",
      "C:\\Users\\Fran\\AppData\\Roaming\\Python\\Python36\\site-packages\\sklearn\\preprocessing\\label.py:151: DeprecationWarning: The truth value of an empty array is ambiguous. Returning False, but in future this will result in an error. Use `array.size > 0` to check that an array is not empty.\n",
      "  if diff:\n",
      "C:\\Users\\Fran\\AppData\\Roaming\\Python\\Python36\\site-packages\\sklearn\\preprocessing\\label.py:151: DeprecationWarning: The truth value of an empty array is ambiguous. Returning False, but in future this will result in an error. Use `array.size > 0` to check that an array is not empty.\n",
      "  if diff:\n",
      "C:\\Users\\Fran\\AppData\\Roaming\\Python\\Python36\\site-packages\\sklearn\\preprocessing\\label.py:151: DeprecationWarning: The truth value of an empty array is ambiguous. Returning False, but in future this will result in an error. Use `array.size > 0` to check that an array is not empty.\n",
      "  if diff:\n",
      "C:\\Users\\Fran\\AppData\\Roaming\\Python\\Python36\\site-packages\\sklearn\\preprocessing\\label.py:151: DeprecationWarning: The truth value of an empty array is ambiguous. Returning False, but in future this will result in an error. Use `array.size > 0` to check that an array is not empty.\n",
      "  if diff:\n",
      "C:\\Users\\Fran\\AppData\\Roaming\\Python\\Python36\\site-packages\\sklearn\\preprocessing\\label.py:151: DeprecationWarning: The truth value of an empty array is ambiguous. Returning False, but in future this will result in an error. Use `array.size > 0` to check that an array is not empty.\n",
      "  if diff:\n",
      "C:\\Users\\Fran\\AppData\\Roaming\\Python\\Python36\\site-packages\\sklearn\\preprocessing\\label.py:151: DeprecationWarning: The truth value of an empty array is ambiguous. Returning False, but in future this will result in an error. Use `array.size > 0` to check that an array is not empty.\n",
      "  if diff:\n",
      "C:\\Users\\Fran\\AppData\\Roaming\\Python\\Python36\\site-packages\\sklearn\\preprocessing\\label.py:151: DeprecationWarning: The truth value of an empty array is ambiguous. Returning False, but in future this will result in an error. Use `array.size > 0` to check that an array is not empty.\n",
      "  if diff:\n",
      "C:\\Users\\Fran\\AppData\\Roaming\\Python\\Python36\\site-packages\\sklearn\\preprocessing\\label.py:151: DeprecationWarning: The truth value of an empty array is ambiguous. Returning False, but in future this will result in an error. Use `array.size > 0` to check that an array is not empty.\n",
      "  if diff:\n",
      "C:\\Users\\Fran\\AppData\\Roaming\\Python\\Python36\\site-packages\\sklearn\\preprocessing\\label.py:151: DeprecationWarning: The truth value of an empty array is ambiguous. Returning False, but in future this will result in an error. Use `array.size > 0` to check that an array is not empty.\n",
      "  if diff:\n"
     ]
    },
    {
     "name": "stderr",
     "output_type": "stream",
     "text": [
      "C:\\Users\\Fran\\AppData\\Roaming\\Python\\Python36\\site-packages\\sklearn\\preprocessing\\label.py:151: DeprecationWarning: The truth value of an empty array is ambiguous. Returning False, but in future this will result in an error. Use `array.size > 0` to check that an array is not empty.\n",
      "  if diff:\n",
      "C:\\Users\\Fran\\AppData\\Roaming\\Python\\Python36\\site-packages\\sklearn\\preprocessing\\label.py:151: DeprecationWarning: The truth value of an empty array is ambiguous. Returning False, but in future this will result in an error. Use `array.size > 0` to check that an array is not empty.\n",
      "  if diff:\n",
      "C:\\Users\\Fran\\AppData\\Roaming\\Python\\Python36\\site-packages\\sklearn\\preprocessing\\label.py:151: DeprecationWarning: The truth value of an empty array is ambiguous. Returning False, but in future this will result in an error. Use `array.size > 0` to check that an array is not empty.\n",
      "  if diff:\n",
      "C:\\Users\\Fran\\AppData\\Roaming\\Python\\Python36\\site-packages\\sklearn\\preprocessing\\label.py:151: DeprecationWarning: The truth value of an empty array is ambiguous. Returning False, but in future this will result in an error. Use `array.size > 0` to check that an array is not empty.\n",
      "  if diff:\n",
      "C:\\Users\\Fran\\AppData\\Roaming\\Python\\Python36\\site-packages\\sklearn\\preprocessing\\label.py:151: DeprecationWarning: The truth value of an empty array is ambiguous. Returning False, but in future this will result in an error. Use `array.size > 0` to check that an array is not empty.\n",
      "  if diff:\n",
      "C:\\Users\\Fran\\AppData\\Roaming\\Python\\Python36\\site-packages\\sklearn\\preprocessing\\label.py:151: DeprecationWarning: The truth value of an empty array is ambiguous. Returning False, but in future this will result in an error. Use `array.size > 0` to check that an array is not empty.\n",
      "  if diff:\n",
      "C:\\Users\\Fran\\AppData\\Roaming\\Python\\Python36\\site-packages\\sklearn\\preprocessing\\label.py:151: DeprecationWarning: The truth value of an empty array is ambiguous. Returning False, but in future this will result in an error. Use `array.size > 0` to check that an array is not empty.\n",
      "  if diff:\n",
      "C:\\Users\\Fran\\AppData\\Roaming\\Python\\Python36\\site-packages\\sklearn\\preprocessing\\label.py:151: DeprecationWarning: The truth value of an empty array is ambiguous. Returning False, but in future this will result in an error. Use `array.size > 0` to check that an array is not empty.\n",
      "  if diff:\n",
      "C:\\Users\\Fran\\AppData\\Roaming\\Python\\Python36\\site-packages\\sklearn\\preprocessing\\label.py:151: DeprecationWarning: The truth value of an empty array is ambiguous. Returning False, but in future this will result in an error. Use `array.size > 0` to check that an array is not empty.\n",
      "  if diff:\n",
      "C:\\Users\\Fran\\AppData\\Roaming\\Python\\Python36\\site-packages\\sklearn\\preprocessing\\label.py:151: DeprecationWarning: The truth value of an empty array is ambiguous. Returning False, but in future this will result in an error. Use `array.size > 0` to check that an array is not empty.\n",
      "  if diff:\n",
      "C:\\Users\\Fran\\AppData\\Roaming\\Python\\Python36\\site-packages\\sklearn\\preprocessing\\label.py:151: DeprecationWarning: The truth value of an empty array is ambiguous. Returning False, but in future this will result in an error. Use `array.size > 0` to check that an array is not empty.\n",
      "  if diff:\n",
      "C:\\Users\\Fran\\AppData\\Roaming\\Python\\Python36\\site-packages\\sklearn\\preprocessing\\label.py:151: DeprecationWarning: The truth value of an empty array is ambiguous. Returning False, but in future this will result in an error. Use `array.size > 0` to check that an array is not empty.\n",
      "  if diff:\n",
      "C:\\Users\\Fran\\AppData\\Roaming\\Python\\Python36\\site-packages\\sklearn\\preprocessing\\label.py:151: DeprecationWarning: The truth value of an empty array is ambiguous. Returning False, but in future this will result in an error. Use `array.size > 0` to check that an array is not empty.\n",
      "  if diff:\n",
      "C:\\Users\\Fran\\AppData\\Roaming\\Python\\Python36\\site-packages\\sklearn\\preprocessing\\label.py:151: DeprecationWarning: The truth value of an empty array is ambiguous. Returning False, but in future this will result in an error. Use `array.size > 0` to check that an array is not empty.\n",
      "  if diff:\n",
      "C:\\Users\\Fran\\AppData\\Roaming\\Python\\Python36\\site-packages\\sklearn\\preprocessing\\label.py:151: DeprecationWarning: The truth value of an empty array is ambiguous. Returning False, but in future this will result in an error. Use `array.size > 0` to check that an array is not empty.\n",
      "  if diff:\n",
      "C:\\Users\\Fran\\AppData\\Roaming\\Python\\Python36\\site-packages\\sklearn\\preprocessing\\label.py:151: DeprecationWarning: The truth value of an empty array is ambiguous. Returning False, but in future this will result in an error. Use `array.size > 0` to check that an array is not empty.\n",
      "  if diff:\n",
      "C:\\Users\\Fran\\AppData\\Roaming\\Python\\Python36\\site-packages\\sklearn\\preprocessing\\label.py:151: DeprecationWarning: The truth value of an empty array is ambiguous. Returning False, but in future this will result in an error. Use `array.size > 0` to check that an array is not empty.\n",
      "  if diff:\n",
      "C:\\Users\\Fran\\AppData\\Roaming\\Python\\Python36\\site-packages\\sklearn\\preprocessing\\label.py:151: DeprecationWarning: The truth value of an empty array is ambiguous. Returning False, but in future this will result in an error. Use `array.size > 0` to check that an array is not empty.\n",
      "  if diff:\n",
      "C:\\Users\\Fran\\AppData\\Roaming\\Python\\Python36\\site-packages\\sklearn\\preprocessing\\label.py:151: DeprecationWarning: The truth value of an empty array is ambiguous. Returning False, but in future this will result in an error. Use `array.size > 0` to check that an array is not empty.\n",
      "  if diff:\n",
      "C:\\Users\\Fran\\AppData\\Roaming\\Python\\Python36\\site-packages\\sklearn\\preprocessing\\label.py:151: DeprecationWarning: The truth value of an empty array is ambiguous. Returning False, but in future this will result in an error. Use `array.size > 0` to check that an array is not empty.\n",
      "  if diff:\n",
      "C:\\Users\\Fran\\AppData\\Roaming\\Python\\Python36\\site-packages\\sklearn\\preprocessing\\label.py:151: DeprecationWarning: The truth value of an empty array is ambiguous. Returning False, but in future this will result in an error. Use `array.size > 0` to check that an array is not empty.\n",
      "  if diff:\n",
      "C:\\Users\\Fran\\AppData\\Roaming\\Python\\Python36\\site-packages\\sklearn\\preprocessing\\label.py:151: DeprecationWarning: The truth value of an empty array is ambiguous. Returning False, but in future this will result in an error. Use `array.size > 0` to check that an array is not empty.\n",
      "  if diff:\n",
      "C:\\Users\\Fran\\AppData\\Roaming\\Python\\Python36\\site-packages\\sklearn\\preprocessing\\label.py:151: DeprecationWarning: The truth value of an empty array is ambiguous. Returning False, but in future this will result in an error. Use `array.size > 0` to check that an array is not empty.\n",
      "  if diff:\n",
      "C:\\Users\\Fran\\AppData\\Roaming\\Python\\Python36\\site-packages\\sklearn\\preprocessing\\label.py:151: DeprecationWarning: The truth value of an empty array is ambiguous. Returning False, but in future this will result in an error. Use `array.size > 0` to check that an array is not empty.\n",
      "  if diff:\n",
      "C:\\Users\\Fran\\AppData\\Roaming\\Python\\Python36\\site-packages\\sklearn\\preprocessing\\label.py:151: DeprecationWarning: The truth value of an empty array is ambiguous. Returning False, but in future this will result in an error. Use `array.size > 0` to check that an array is not empty.\n",
      "  if diff:\n",
      "C:\\Users\\Fran\\AppData\\Roaming\\Python\\Python36\\site-packages\\sklearn\\preprocessing\\label.py:151: DeprecationWarning: The truth value of an empty array is ambiguous. Returning False, but in future this will result in an error. Use `array.size > 0` to check that an array is not empty.\n",
      "  if diff:\n",
      "C:\\Users\\Fran\\AppData\\Roaming\\Python\\Python36\\site-packages\\sklearn\\preprocessing\\label.py:151: DeprecationWarning: The truth value of an empty array is ambiguous. Returning False, but in future this will result in an error. Use `array.size > 0` to check that an array is not empty.\n",
      "  if diff:\n",
      "C:\\Users\\Fran\\AppData\\Roaming\\Python\\Python36\\site-packages\\sklearn\\preprocessing\\label.py:151: DeprecationWarning: The truth value of an empty array is ambiguous. Returning False, but in future this will result in an error. Use `array.size > 0` to check that an array is not empty.\n",
      "  if diff:\n",
      "C:\\Users\\Fran\\AppData\\Roaming\\Python\\Python36\\site-packages\\sklearn\\preprocessing\\label.py:151: DeprecationWarning: The truth value of an empty array is ambiguous. Returning False, but in future this will result in an error. Use `array.size > 0` to check that an array is not empty.\n",
      "  if diff:\n",
      "C:\\Users\\Fran\\AppData\\Roaming\\Python\\Python36\\site-packages\\sklearn\\preprocessing\\label.py:151: DeprecationWarning: The truth value of an empty array is ambiguous. Returning False, but in future this will result in an error. Use `array.size > 0` to check that an array is not empty.\n",
      "  if diff:\n",
      "C:\\Users\\Fran\\AppData\\Roaming\\Python\\Python36\\site-packages\\sklearn\\preprocessing\\label.py:151: DeprecationWarning: The truth value of an empty array is ambiguous. Returning False, but in future this will result in an error. Use `array.size > 0` to check that an array is not empty.\n",
      "  if diff:\n"
     ]
    },
    {
     "name": "stderr",
     "output_type": "stream",
     "text": [
      "C:\\Users\\Fran\\AppData\\Roaming\\Python\\Python36\\site-packages\\sklearn\\preprocessing\\label.py:151: DeprecationWarning: The truth value of an empty array is ambiguous. Returning False, but in future this will result in an error. Use `array.size > 0` to check that an array is not empty.\n",
      "  if diff:\n",
      "C:\\Users\\Fran\\AppData\\Roaming\\Python\\Python36\\site-packages\\sklearn\\preprocessing\\label.py:151: DeprecationWarning: The truth value of an empty array is ambiguous. Returning False, but in future this will result in an error. Use `array.size > 0` to check that an array is not empty.\n",
      "  if diff:\n",
      "C:\\Users\\Fran\\AppData\\Roaming\\Python\\Python36\\site-packages\\sklearn\\preprocessing\\label.py:151: DeprecationWarning: The truth value of an empty array is ambiguous. Returning False, but in future this will result in an error. Use `array.size > 0` to check that an array is not empty.\n",
      "  if diff:\n",
      "C:\\Users\\Fran\\AppData\\Roaming\\Python\\Python36\\site-packages\\sklearn\\preprocessing\\label.py:151: DeprecationWarning: The truth value of an empty array is ambiguous. Returning False, but in future this will result in an error. Use `array.size > 0` to check that an array is not empty.\n",
      "  if diff:\n",
      "C:\\Users\\Fran\\AppData\\Roaming\\Python\\Python36\\site-packages\\sklearn\\preprocessing\\label.py:151: DeprecationWarning: The truth value of an empty array is ambiguous. Returning False, but in future this will result in an error. Use `array.size > 0` to check that an array is not empty.\n",
      "  if diff:\n",
      "C:\\Users\\Fran\\AppData\\Roaming\\Python\\Python36\\site-packages\\sklearn\\preprocessing\\label.py:151: DeprecationWarning: The truth value of an empty array is ambiguous. Returning False, but in future this will result in an error. Use `array.size > 0` to check that an array is not empty.\n",
      "  if diff:\n",
      "C:\\Users\\Fran\\AppData\\Roaming\\Python\\Python36\\site-packages\\sklearn\\preprocessing\\label.py:151: DeprecationWarning: The truth value of an empty array is ambiguous. Returning False, but in future this will result in an error. Use `array.size > 0` to check that an array is not empty.\n",
      "  if diff:\n",
      "C:\\Users\\Fran\\AppData\\Roaming\\Python\\Python36\\site-packages\\sklearn\\preprocessing\\label.py:151: DeprecationWarning: The truth value of an empty array is ambiguous. Returning False, but in future this will result in an error. Use `array.size > 0` to check that an array is not empty.\n",
      "  if diff:\n",
      "C:\\Users\\Fran\\AppData\\Roaming\\Python\\Python36\\site-packages\\sklearn\\preprocessing\\label.py:151: DeprecationWarning: The truth value of an empty array is ambiguous. Returning False, but in future this will result in an error. Use `array.size > 0` to check that an array is not empty.\n",
      "  if diff:\n",
      "C:\\Users\\Fran\\AppData\\Roaming\\Python\\Python36\\site-packages\\sklearn\\preprocessing\\label.py:151: DeprecationWarning: The truth value of an empty array is ambiguous. Returning False, but in future this will result in an error. Use `array.size > 0` to check that an array is not empty.\n",
      "  if diff:\n",
      "C:\\Users\\Fran\\AppData\\Roaming\\Python\\Python36\\site-packages\\sklearn\\preprocessing\\label.py:151: DeprecationWarning: The truth value of an empty array is ambiguous. Returning False, but in future this will result in an error. Use `array.size > 0` to check that an array is not empty.\n",
      "  if diff:\n",
      "C:\\Users\\Fran\\AppData\\Roaming\\Python\\Python36\\site-packages\\sklearn\\preprocessing\\label.py:151: DeprecationWarning: The truth value of an empty array is ambiguous. Returning False, but in future this will result in an error. Use `array.size > 0` to check that an array is not empty.\n",
      "  if diff:\n",
      "C:\\Users\\Fran\\AppData\\Roaming\\Python\\Python36\\site-packages\\sklearn\\preprocessing\\label.py:151: DeprecationWarning: The truth value of an empty array is ambiguous. Returning False, but in future this will result in an error. Use `array.size > 0` to check that an array is not empty.\n",
      "  if diff:\n",
      "C:\\Users\\Fran\\AppData\\Roaming\\Python\\Python36\\site-packages\\sklearn\\preprocessing\\label.py:151: DeprecationWarning: The truth value of an empty array is ambiguous. Returning False, but in future this will result in an error. Use `array.size > 0` to check that an array is not empty.\n",
      "  if diff:\n",
      "C:\\Users\\Fran\\AppData\\Roaming\\Python\\Python36\\site-packages\\sklearn\\preprocessing\\label.py:151: DeprecationWarning: The truth value of an empty array is ambiguous. Returning False, but in future this will result in an error. Use `array.size > 0` to check that an array is not empty.\n",
      "  if diff:\n",
      "C:\\Users\\Fran\\AppData\\Roaming\\Python\\Python36\\site-packages\\sklearn\\preprocessing\\label.py:151: DeprecationWarning: The truth value of an empty array is ambiguous. Returning False, but in future this will result in an error. Use `array.size > 0` to check that an array is not empty.\n",
      "  if diff:\n",
      "C:\\Users\\Fran\\AppData\\Roaming\\Python\\Python36\\site-packages\\sklearn\\preprocessing\\label.py:151: DeprecationWarning: The truth value of an empty array is ambiguous. Returning False, but in future this will result in an error. Use `array.size > 0` to check that an array is not empty.\n",
      "  if diff:\n",
      "C:\\Users\\Fran\\AppData\\Roaming\\Python\\Python36\\site-packages\\sklearn\\preprocessing\\label.py:151: DeprecationWarning: The truth value of an empty array is ambiguous. Returning False, but in future this will result in an error. Use `array.size > 0` to check that an array is not empty.\n",
      "  if diff:\n",
      "C:\\Users\\Fran\\AppData\\Roaming\\Python\\Python36\\site-packages\\sklearn\\preprocessing\\label.py:151: DeprecationWarning: The truth value of an empty array is ambiguous. Returning False, but in future this will result in an error. Use `array.size > 0` to check that an array is not empty.\n",
      "  if diff:\n",
      "C:\\Users\\Fran\\AppData\\Roaming\\Python\\Python36\\site-packages\\sklearn\\preprocessing\\label.py:151: DeprecationWarning: The truth value of an empty array is ambiguous. Returning False, but in future this will result in an error. Use `array.size > 0` to check that an array is not empty.\n",
      "  if diff:\n",
      "C:\\Users\\Fran\\AppData\\Roaming\\Python\\Python36\\site-packages\\sklearn\\preprocessing\\label.py:151: DeprecationWarning: The truth value of an empty array is ambiguous. Returning False, but in future this will result in an error. Use `array.size > 0` to check that an array is not empty.\n",
      "  if diff:\n",
      "C:\\Users\\Fran\\AppData\\Roaming\\Python\\Python36\\site-packages\\sklearn\\preprocessing\\label.py:151: DeprecationWarning: The truth value of an empty array is ambiguous. Returning False, but in future this will result in an error. Use `array.size > 0` to check that an array is not empty.\n",
      "  if diff:\n",
      "C:\\Users\\Fran\\AppData\\Roaming\\Python\\Python36\\site-packages\\sklearn\\preprocessing\\label.py:151: DeprecationWarning: The truth value of an empty array is ambiguous. Returning False, but in future this will result in an error. Use `array.size > 0` to check that an array is not empty.\n",
      "  if diff:\n",
      "C:\\Users\\Fran\\AppData\\Roaming\\Python\\Python36\\site-packages\\sklearn\\preprocessing\\label.py:151: DeprecationWarning: The truth value of an empty array is ambiguous. Returning False, but in future this will result in an error. Use `array.size > 0` to check that an array is not empty.\n",
      "  if diff:\n",
      "C:\\Users\\Fran\\AppData\\Roaming\\Python\\Python36\\site-packages\\sklearn\\preprocessing\\label.py:151: DeprecationWarning: The truth value of an empty array is ambiguous. Returning False, but in future this will result in an error. Use `array.size > 0` to check that an array is not empty.\n",
      "  if diff:\n",
      "C:\\Users\\Fran\\AppData\\Roaming\\Python\\Python36\\site-packages\\sklearn\\preprocessing\\label.py:151: DeprecationWarning: The truth value of an empty array is ambiguous. Returning False, but in future this will result in an error. Use `array.size > 0` to check that an array is not empty.\n",
      "  if diff:\n",
      "C:\\Users\\Fran\\AppData\\Roaming\\Python\\Python36\\site-packages\\sklearn\\preprocessing\\label.py:151: DeprecationWarning: The truth value of an empty array is ambiguous. Returning False, but in future this will result in an error. Use `array.size > 0` to check that an array is not empty.\n",
      "  if diff:\n",
      "C:\\Users\\Fran\\AppData\\Roaming\\Python\\Python36\\site-packages\\sklearn\\preprocessing\\label.py:151: DeprecationWarning: The truth value of an empty array is ambiguous. Returning False, but in future this will result in an error. Use `array.size > 0` to check that an array is not empty.\n",
      "  if diff:\n",
      "C:\\Users\\Fran\\AppData\\Roaming\\Python\\Python36\\site-packages\\sklearn\\preprocessing\\label.py:151: DeprecationWarning: The truth value of an empty array is ambiguous. Returning False, but in future this will result in an error. Use `array.size > 0` to check that an array is not empty.\n",
      "  if diff:\n",
      "C:\\Users\\Fran\\AppData\\Roaming\\Python\\Python36\\site-packages\\sklearn\\preprocessing\\label.py:151: DeprecationWarning: The truth value of an empty array is ambiguous. Returning False, but in future this will result in an error. Use `array.size > 0` to check that an array is not empty.\n",
      "  if diff:\n"
     ]
    },
    {
     "name": "stderr",
     "output_type": "stream",
     "text": [
      "C:\\Users\\Fran\\AppData\\Roaming\\Python\\Python36\\site-packages\\sklearn\\preprocessing\\label.py:151: DeprecationWarning: The truth value of an empty array is ambiguous. Returning False, but in future this will result in an error. Use `array.size > 0` to check that an array is not empty.\n",
      "  if diff:\n",
      "C:\\Users\\Fran\\AppData\\Roaming\\Python\\Python36\\site-packages\\sklearn\\preprocessing\\label.py:151: DeprecationWarning: The truth value of an empty array is ambiguous. Returning False, but in future this will result in an error. Use `array.size > 0` to check that an array is not empty.\n",
      "  if diff:\n",
      "C:\\Users\\Fran\\AppData\\Roaming\\Python\\Python36\\site-packages\\sklearn\\preprocessing\\label.py:151: DeprecationWarning: The truth value of an empty array is ambiguous. Returning False, but in future this will result in an error. Use `array.size > 0` to check that an array is not empty.\n",
      "  if diff:\n",
      "C:\\Users\\Fran\\AppData\\Roaming\\Python\\Python36\\site-packages\\sklearn\\preprocessing\\label.py:151: DeprecationWarning: The truth value of an empty array is ambiguous. Returning False, but in future this will result in an error. Use `array.size > 0` to check that an array is not empty.\n",
      "  if diff:\n",
      "C:\\Users\\Fran\\AppData\\Roaming\\Python\\Python36\\site-packages\\sklearn\\preprocessing\\label.py:151: DeprecationWarning: The truth value of an empty array is ambiguous. Returning False, but in future this will result in an error. Use `array.size > 0` to check that an array is not empty.\n",
      "  if diff:\n",
      "C:\\Users\\Fran\\AppData\\Roaming\\Python\\Python36\\site-packages\\sklearn\\preprocessing\\label.py:151: DeprecationWarning: The truth value of an empty array is ambiguous. Returning False, but in future this will result in an error. Use `array.size > 0` to check that an array is not empty.\n",
      "  if diff:\n",
      "C:\\Users\\Fran\\AppData\\Roaming\\Python\\Python36\\site-packages\\sklearn\\preprocessing\\label.py:151: DeprecationWarning: The truth value of an empty array is ambiguous. Returning False, but in future this will result in an error. Use `array.size > 0` to check that an array is not empty.\n",
      "  if diff:\n",
      "C:\\Users\\Fran\\AppData\\Roaming\\Python\\Python36\\site-packages\\sklearn\\preprocessing\\label.py:151: DeprecationWarning: The truth value of an empty array is ambiguous. Returning False, but in future this will result in an error. Use `array.size > 0` to check that an array is not empty.\n",
      "  if diff:\n",
      "C:\\Users\\Fran\\AppData\\Roaming\\Python\\Python36\\site-packages\\sklearn\\preprocessing\\label.py:151: DeprecationWarning: The truth value of an empty array is ambiguous. Returning False, but in future this will result in an error. Use `array.size > 0` to check that an array is not empty.\n",
      "  if diff:\n",
      "C:\\Users\\Fran\\AppData\\Roaming\\Python\\Python36\\site-packages\\sklearn\\preprocessing\\label.py:151: DeprecationWarning: The truth value of an empty array is ambiguous. Returning False, but in future this will result in an error. Use `array.size > 0` to check that an array is not empty.\n",
      "  if diff:\n",
      "C:\\Users\\Fran\\AppData\\Roaming\\Python\\Python36\\site-packages\\sklearn\\preprocessing\\label.py:151: DeprecationWarning: The truth value of an empty array is ambiguous. Returning False, but in future this will result in an error. Use `array.size > 0` to check that an array is not empty.\n",
      "  if diff:\n",
      "C:\\Users\\Fran\\AppData\\Roaming\\Python\\Python36\\site-packages\\sklearn\\preprocessing\\label.py:151: DeprecationWarning: The truth value of an empty array is ambiguous. Returning False, but in future this will result in an error. Use `array.size > 0` to check that an array is not empty.\n",
      "  if diff:\n",
      "C:\\Users\\Fran\\AppData\\Roaming\\Python\\Python36\\site-packages\\sklearn\\preprocessing\\label.py:151: DeprecationWarning: The truth value of an empty array is ambiguous. Returning False, but in future this will result in an error. Use `array.size > 0` to check that an array is not empty.\n",
      "  if diff:\n",
      "C:\\Users\\Fran\\AppData\\Roaming\\Python\\Python36\\site-packages\\sklearn\\preprocessing\\label.py:151: DeprecationWarning: The truth value of an empty array is ambiguous. Returning False, but in future this will result in an error. Use `array.size > 0` to check that an array is not empty.\n",
      "  if diff:\n",
      "C:\\Users\\Fran\\AppData\\Roaming\\Python\\Python36\\site-packages\\sklearn\\preprocessing\\label.py:151: DeprecationWarning: The truth value of an empty array is ambiguous. Returning False, but in future this will result in an error. Use `array.size > 0` to check that an array is not empty.\n",
      "  if diff:\n",
      "C:\\Users\\Fran\\AppData\\Roaming\\Python\\Python36\\site-packages\\sklearn\\preprocessing\\label.py:151: DeprecationWarning: The truth value of an empty array is ambiguous. Returning False, but in future this will result in an error. Use `array.size > 0` to check that an array is not empty.\n",
      "  if diff:\n",
      "C:\\Users\\Fran\\AppData\\Roaming\\Python\\Python36\\site-packages\\sklearn\\preprocessing\\label.py:151: DeprecationWarning: The truth value of an empty array is ambiguous. Returning False, but in future this will result in an error. Use `array.size > 0` to check that an array is not empty.\n",
      "  if diff:\n",
      "C:\\Users\\Fran\\AppData\\Roaming\\Python\\Python36\\site-packages\\sklearn\\preprocessing\\label.py:151: DeprecationWarning: The truth value of an empty array is ambiguous. Returning False, but in future this will result in an error. Use `array.size > 0` to check that an array is not empty.\n",
      "  if diff:\n",
      "C:\\Users\\Fran\\AppData\\Roaming\\Python\\Python36\\site-packages\\sklearn\\preprocessing\\label.py:151: DeprecationWarning: The truth value of an empty array is ambiguous. Returning False, but in future this will result in an error. Use `array.size > 0` to check that an array is not empty.\n",
      "  if diff:\n",
      "C:\\Users\\Fran\\AppData\\Roaming\\Python\\Python36\\site-packages\\sklearn\\preprocessing\\label.py:151: DeprecationWarning: The truth value of an empty array is ambiguous. Returning False, but in future this will result in an error. Use `array.size > 0` to check that an array is not empty.\n",
      "  if diff:\n",
      "C:\\Users\\Fran\\AppData\\Roaming\\Python\\Python36\\site-packages\\sklearn\\preprocessing\\label.py:151: DeprecationWarning: The truth value of an empty array is ambiguous. Returning False, but in future this will result in an error. Use `array.size > 0` to check that an array is not empty.\n",
      "  if diff:\n",
      "C:\\Users\\Fran\\AppData\\Roaming\\Python\\Python36\\site-packages\\sklearn\\preprocessing\\label.py:151: DeprecationWarning: The truth value of an empty array is ambiguous. Returning False, but in future this will result in an error. Use `array.size > 0` to check that an array is not empty.\n",
      "  if diff:\n",
      "C:\\Users\\Fran\\AppData\\Roaming\\Python\\Python36\\site-packages\\sklearn\\preprocessing\\label.py:151: DeprecationWarning: The truth value of an empty array is ambiguous. Returning False, but in future this will result in an error. Use `array.size > 0` to check that an array is not empty.\n",
      "  if diff:\n",
      "C:\\Users\\Fran\\AppData\\Roaming\\Python\\Python36\\site-packages\\sklearn\\preprocessing\\label.py:151: DeprecationWarning: The truth value of an empty array is ambiguous. Returning False, but in future this will result in an error. Use `array.size > 0` to check that an array is not empty.\n",
      "  if diff:\n",
      "C:\\Users\\Fran\\AppData\\Roaming\\Python\\Python36\\site-packages\\sklearn\\preprocessing\\label.py:151: DeprecationWarning: The truth value of an empty array is ambiguous. Returning False, but in future this will result in an error. Use `array.size > 0` to check that an array is not empty.\n",
      "  if diff:\n",
      "C:\\Users\\Fran\\AppData\\Roaming\\Python\\Python36\\site-packages\\sklearn\\preprocessing\\label.py:151: DeprecationWarning: The truth value of an empty array is ambiguous. Returning False, but in future this will result in an error. Use `array.size > 0` to check that an array is not empty.\n",
      "  if diff:\n",
      "C:\\Users\\Fran\\AppData\\Roaming\\Python\\Python36\\site-packages\\sklearn\\preprocessing\\label.py:151: DeprecationWarning: The truth value of an empty array is ambiguous. Returning False, but in future this will result in an error. Use `array.size > 0` to check that an array is not empty.\n",
      "  if diff:\n",
      "C:\\Users\\Fran\\AppData\\Roaming\\Python\\Python36\\site-packages\\sklearn\\preprocessing\\label.py:151: DeprecationWarning: The truth value of an empty array is ambiguous. Returning False, but in future this will result in an error. Use `array.size > 0` to check that an array is not empty.\n",
      "  if diff:\n"
     ]
    },
    {
     "name": "stderr",
     "output_type": "stream",
     "text": [
      "C:\\Users\\Fran\\AppData\\Roaming\\Python\\Python36\\site-packages\\sklearn\\preprocessing\\label.py:151: DeprecationWarning: The truth value of an empty array is ambiguous. Returning False, but in future this will result in an error. Use `array.size > 0` to check that an array is not empty.\n",
      "  if diff:\n",
      "C:\\Users\\Fran\\AppData\\Roaming\\Python\\Python36\\site-packages\\sklearn\\preprocessing\\label.py:151: DeprecationWarning: The truth value of an empty array is ambiguous. Returning False, but in future this will result in an error. Use `array.size > 0` to check that an array is not empty.\n",
      "  if diff:\n",
      "[Parallel(n_jobs=1)]: Done  75 out of  75 | elapsed:   12.4s finished\n"
     ]
    },
    {
     "name": "stdout",
     "output_type": "stream",
     "text": [
      "La búsqueda con LightGBM llevó:  12.70495867729187  segundos\n"
     ]
    }
   ],
   "source": [
    "start = time.time()\n",
    "lgbm.fit(X_train, y_train)\n",
    "end = time.time()\n",
    "print(\"La búsqueda con LightGBM llevó: \", end - start, \" segundos\")"
   ]
  },
  {
   "cell_type": "code",
   "execution_count": 64,
   "metadata": {
    "colab": {},
    "colab_type": "code",
    "id": "wUUDAp94Cfp_",
    "outputId": "f0305c43-1663-434a-b5ef-f53f2c3dea70"
   },
   "outputs": [
    {
     "name": "stdout",
     "output_type": "stream",
     "text": [
      "Best parameters found by grid search are: {'colsample_bytree': 0.929998759065463, 'gamma': 1.297746390295036, 'learning_rate': 0.4296621604990945, 'max_depth': 7, 'min_child_weight': 6.766116564307495, 'n_estimators': 36, 'reg_alpha': 5.283157978011741, 'subsample': 0.8998933134191378}\n"
     ]
    }
   ],
   "source": [
    "print('Best parameters found by grid search are:', lgbm.best_params_)"
   ]
  },
  {
   "cell_type": "code",
   "execution_count": 65,
   "metadata": {
    "colab": {},
    "colab_type": "code",
    "id": "lhdX_Zl0CfqT"
   },
   "outputs": [],
   "source": [
    "y_predicted_lgbm = lgbm.predict_proba(X_test)"
   ]
  },
  {
   "cell_type": "code",
   "execution_count": 66,
   "metadata": {
    "colab": {},
    "colab_type": "code",
    "id": "OVeY3f68CfqY",
    "outputId": "ab63fcde-8ab5-4c9e-daf3-52c935b9bdb0"
   },
   "outputs": [
    {
     "name": "stdout",
     "output_type": "stream",
     "text": [
      "El valor del AUC es:  0.9565669114119606\n"
     ]
    }
   ],
   "source": [
    "lgbm_auc = roc_auc_score(y_test,y_predicted_lgbm[:,1])\n",
    "print(\"El valor del AUC es: \", lgbm_auc)"
   ]
  },
  {
   "cell_type": "code",
   "execution_count": 67,
   "metadata": {
    "colab": {},
    "colab_type": "code",
    "id": "VqwFGD2CCfqf",
    "outputId": "a2effc79-716a-48cd-e319-04e66c3ab8e8"
   },
   "outputs": [
    {
     "data": {
      "image/png": "[encoded data removed]",
      "text/plain": [
       "<Figure size 432x288 with 1 Axes>"
      ]
     },
     "metadata": {},
     "output_type": "display_data"
    }
   ],
   "source": [
    "plot_roc(y_test,y_predicted_lgbm, plot_micro = False, plot_macro= False);"
   ]
  },
  {
   "cell_type": "code",
   "execution_count": 68,
   "metadata": {
    "colab": {},
    "colab_type": "code",
    "id": "qIqifpCOCfqm",
    "outputId": "2827dbcc-0b61-4a52-e812-a8e86708786d"
   },
   "outputs": [
    {
     "data": {
      "image/png": "[encoded data removed]",
      "text/plain": [
       "<Figure size 432x288 with 1 Axes>"
      ]
     },
     "metadata": {},
     "output_type": "display_data"
    }
   ],
   "source": [
    "lgb.plot_importance(lgbm.best_estimator_, max_num_features=5);"
   ]
  },
  {
   "cell_type": "code",
   "execution_count": 69,
   "metadata": {},
   "outputs": [
    {
     "data": {
      "text/plain": [
       "array([69, 75, 61, 43, 30, 37, 32, 44, 22, 22, 27, 21, 37, 31, 70, 75, 64,\n",
       "       23, 48, 19, 34, 38, 37, 49, 72])"
      ]
     },
     "execution_count": 69,
     "metadata": {},
     "output_type": "execute_result"
    }
   ],
   "source": [
    "lgbm.best_estimator_.feature_importances_"
   ]
  },
  {
   "cell_type": "markdown",
   "metadata": {
    "colab_type": "text",
    "id": "w7VFD-_5Cfqx"
   },
   "source": [
    "## CatBoost"
   ]
  },
  {
   "cell_type": "code",
   "execution_count": 70,
   "metadata": {
    "colab": {},
    "colab_type": "code",
    "id": "2dSTH5_8Cfqy"
   },
   "outputs": [],
   "source": [
    "from catboost import CatBoostClassifier"
   ]
  },
  {
   "cell_type": "code",
   "execution_count": 71,
   "metadata": {
    "colab": {},
    "colab_type": "code",
    "id": "McipTqbpCfq2"
   },
   "outputs": [],
   "source": [
    "model_cat = CatBoostClassifier()"
   ]
  },
  {
   "cell_type": "markdown",
   "metadata": {
    "colab_type": "text",
    "id": "upFaEVuBmq-E"
   },
   "source": [
    "¿Es necesario normalizar los features antes de aplicar CatBoost?"
   ]
  },
  {
   "cell_type": "markdown",
   "metadata": {
    "colab_type": "text",
    "id": "5fz2fRrZCfq5"
   },
   "source": [
    "Con CatBoost los resultados sin hacer una búsqueda de hiperparámetros ya son... ¡excelentes!"
   ]
  },
  {
   "cell_type": "code",
   "execution_count": 72,
   "metadata": {
    "colab": {},
    "colab_type": "code",
    "id": "Ots7C9sWCfq6",
    "outputId": "efdd7f68-733c-4069-a241-e27d24469913"
   },
   "outputs": [
    {
     "name": "stdout",
     "output_type": "stream",
     "text": [
      "0:\tlearn: 0.6673033\ttotal: 206ms\tremaining: 3m 26s\n",
      "1:\tlearn: 0.6424790\ttotal: 245ms\tremaining: 2m 2s\n",
      "2:\tlearn: 0.6214143\ttotal: 283ms\tremaining: 1m 34s\n",
      "3:\tlearn: 0.6002612\ttotal: 320ms\tremaining: 1m 19s\n",
      "4:\tlearn: 0.5829271\ttotal: 357ms\tremaining: 1m 11s\n",
      "5:\tlearn: 0.5658755\ttotal: 396ms\tremaining: 1m 5s\n",
      "6:\tlearn: 0.5515610\ttotal: 435ms\tremaining: 1m 1s\n",
      "7:\tlearn: 0.5382504\ttotal: 472ms\tremaining: 58.5s\n",
      "8:\tlearn: 0.5259086\ttotal: 507ms\tremaining: 55.8s\n",
      "9:\tlearn: 0.5131726\ttotal: 549ms\tremaining: 54.3s\n",
      "10:\tlearn: 0.5018400\ttotal: 585ms\tremaining: 52.6s\n",
      "11:\tlearn: 0.4918276\ttotal: 626ms\tremaining: 51.5s\n",
      "12:\tlearn: 0.4822900\ttotal: 668ms\tremaining: 50.7s\n",
      "13:\tlearn: 0.4740745\ttotal: 706ms\tremaining: 49.7s\n",
      "14:\tlearn: 0.4666212\ttotal: 747ms\tremaining: 49s\n",
      "15:\tlearn: 0.4596741\ttotal: 784ms\tremaining: 48.2s\n",
      "16:\tlearn: 0.4523864\ttotal: 821ms\tremaining: 47.5s\n",
      "17:\tlearn: 0.4469308\ttotal: 858ms\tremaining: 46.8s\n",
      "18:\tlearn: 0.4418324\ttotal: 894ms\tremaining: 46.1s\n",
      "19:\tlearn: 0.4364126\ttotal: 936ms\tremaining: 45.9s\n",
      "20:\tlearn: 0.4305820\ttotal: 975ms\tremaining: 45.5s\n",
      "21:\tlearn: 0.4258981\ttotal: 1.01s\tremaining: 45s\n",
      "22:\tlearn: 0.4217902\ttotal: 1.05s\tremaining: 44.5s\n",
      "23:\tlearn: 0.4181361\ttotal: 1.08s\tremaining: 44s\n",
      "24:\tlearn: 0.4140646\ttotal: 1.12s\tremaining: 43.6s\n",
      "25:\tlearn: 0.4101249\ttotal: 1.16s\tremaining: 43.3s\n",
      "26:\tlearn: 0.4061361\ttotal: 1.2s\tremaining: 43.2s\n",
      "27:\tlearn: 0.4030022\ttotal: 1.24s\tremaining: 42.9s\n",
      "28:\tlearn: 0.4003344\ttotal: 1.27s\tremaining: 42.6s\n",
      "29:\tlearn: 0.3965329\ttotal: 1.31s\tremaining: 42.4s\n",
      "30:\tlearn: 0.3933131\ttotal: 1.35s\tremaining: 42.2s\n",
      "31:\tlearn: 0.3912013\ttotal: 1.39s\tremaining: 41.9s\n",
      "32:\tlearn: 0.3880151\ttotal: 1.42s\tremaining: 41.6s\n",
      "33:\tlearn: 0.3862618\ttotal: 1.46s\tremaining: 41.4s\n",
      "34:\tlearn: 0.3840303\ttotal: 1.5s\tremaining: 41.3s\n",
      "35:\tlearn: 0.3818609\ttotal: 1.54s\tremaining: 41.3s\n",
      "36:\tlearn: 0.3798723\ttotal: 1.58s\tremaining: 41s\n",
      "37:\tlearn: 0.3781905\ttotal: 1.61s\tremaining: 40.8s\n",
      "38:\tlearn: 0.3766346\ttotal: 1.65s\tremaining: 40.7s\n",
      "39:\tlearn: 0.3748526\ttotal: 1.69s\tremaining: 40.5s\n",
      "40:\tlearn: 0.3728556\ttotal: 1.72s\tremaining: 40.3s\n",
      "41:\tlearn: 0.3710688\ttotal: 1.76s\tremaining: 40.2s\n",
      "42:\tlearn: 0.3690191\ttotal: 1.8s\tremaining: 40.1s\n",
      "43:\tlearn: 0.3666011\ttotal: 1.84s\tremaining: 40.1s\n",
      "44:\tlearn: 0.3646108\ttotal: 1.88s\tremaining: 39.9s\n",
      "45:\tlearn: 0.3627763\ttotal: 1.92s\tremaining: 39.8s\n",
      "46:\tlearn: 0.3609897\ttotal: 1.96s\tremaining: 39.8s\n",
      "47:\tlearn: 0.3593181\ttotal: 2s\tremaining: 39.6s\n",
      "48:\tlearn: 0.3575959\ttotal: 2.03s\tremaining: 39.5s\n",
      "49:\tlearn: 0.3559460\ttotal: 2.07s\tremaining: 39.4s\n",
      "50:\tlearn: 0.3543378\ttotal: 2.11s\tremaining: 39.2s\n",
      "51:\tlearn: 0.3524887\ttotal: 2.15s\tremaining: 39.2s\n",
      "52:\tlearn: 0.3508970\ttotal: 2.19s\tremaining: 39.1s\n",
      "53:\tlearn: 0.3495712\ttotal: 2.22s\tremaining: 38.9s\n",
      "54:\tlearn: 0.3483401\ttotal: 2.26s\tremaining: 38.8s\n",
      "55:\tlearn: 0.3471640\ttotal: 2.29s\tremaining: 38.7s\n",
      "56:\tlearn: 0.3456361\ttotal: 2.33s\tremaining: 38.6s\n",
      "57:\tlearn: 0.3442237\ttotal: 2.37s\tremaining: 38.5s\n",
      "58:\tlearn: 0.3427747\ttotal: 2.41s\tremaining: 38.4s\n",
      "59:\tlearn: 0.3407616\ttotal: 2.44s\tremaining: 38.3s\n",
      "60:\tlearn: 0.3396858\ttotal: 2.48s\tremaining: 38.2s\n",
      "61:\tlearn: 0.3381872\ttotal: 2.52s\tremaining: 38.1s\n",
      "62:\tlearn: 0.3369653\ttotal: 2.56s\tremaining: 38s\n",
      "63:\tlearn: 0.3357816\ttotal: 2.59s\tremaining: 37.9s\n",
      "64:\tlearn: 0.3345478\ttotal: 2.63s\tremaining: 37.9s\n",
      "65:\tlearn: 0.3331169\ttotal: 2.67s\tremaining: 37.8s\n",
      "66:\tlearn: 0.3321515\ttotal: 2.71s\tremaining: 37.7s\n",
      "67:\tlearn: 0.3308367\ttotal: 2.75s\tremaining: 37.6s\n",
      "68:\tlearn: 0.3296520\ttotal: 2.79s\tremaining: 37.6s\n",
      "69:\tlearn: 0.3285573\ttotal: 2.82s\tremaining: 37.5s\n",
      "70:\tlearn: 0.3273164\ttotal: 2.86s\tremaining: 37.4s\n",
      "71:\tlearn: 0.3261608\ttotal: 2.9s\tremaining: 37.3s\n",
      "72:\tlearn: 0.3251408\ttotal: 2.93s\tremaining: 37.2s\n",
      "73:\tlearn: 0.3241250\ttotal: 2.97s\tremaining: 37.2s\n",
      "74:\tlearn: 0.3231171\ttotal: 3.01s\tremaining: 37.1s\n",
      "75:\tlearn: 0.3219216\ttotal: 3.04s\tremaining: 37s\n",
      "76:\tlearn: 0.3211196\ttotal: 3.08s\tremaining: 36.9s\n",
      "77:\tlearn: 0.3200134\ttotal: 3.12s\tremaining: 36.9s\n",
      "78:\tlearn: 0.3191447\ttotal: 3.15s\tremaining: 36.8s\n",
      "79:\tlearn: 0.3181118\ttotal: 3.19s\tremaining: 36.7s\n",
      "80:\tlearn: 0.3175097\ttotal: 3.23s\tremaining: 36.6s\n",
      "81:\tlearn: 0.3167076\ttotal: 3.27s\tremaining: 36.6s\n",
      "82:\tlearn: 0.3158425\ttotal: 3.3s\tremaining: 36.5s\n",
      "83:\tlearn: 0.3150188\ttotal: 3.34s\tremaining: 36.4s\n",
      "84:\tlearn: 0.3143980\ttotal: 3.38s\tremaining: 36.4s\n",
      "85:\tlearn: 0.3133929\ttotal: 3.42s\tremaining: 36.3s\n",
      "86:\tlearn: 0.3124548\ttotal: 3.45s\tremaining: 36.3s\n",
      "87:\tlearn: 0.3118704\ttotal: 3.49s\tremaining: 36.2s\n",
      "88:\tlearn: 0.3109599\ttotal: 3.54s\tremaining: 36.2s\n",
      "89:\tlearn: 0.3103131\ttotal: 3.58s\tremaining: 36.2s\n",
      "90:\tlearn: 0.3095002\ttotal: 3.62s\tremaining: 36.1s\n",
      "91:\tlearn: 0.3087629\ttotal: 3.65s\tremaining: 36s\n",
      "92:\tlearn: 0.3077374\ttotal: 3.7s\tremaining: 36.1s\n",
      "93:\tlearn: 0.3068863\ttotal: 3.73s\tremaining: 36s\n",
      "94:\tlearn: 0.3061186\ttotal: 3.77s\tremaining: 36s\n",
      "95:\tlearn: 0.3054205\ttotal: 3.81s\tremaining: 35.9s\n",
      "96:\tlearn: 0.3048104\ttotal: 3.85s\tremaining: 35.8s\n",
      "97:\tlearn: 0.3042797\ttotal: 3.88s\tremaining: 35.7s\n",
      "98:\tlearn: 0.3034873\ttotal: 3.92s\tremaining: 35.7s\n",
      "99:\tlearn: 0.3026360\ttotal: 3.96s\tremaining: 35.7s\n",
      "100:\tlearn: 0.3017685\ttotal: 4s\tremaining: 35.6s\n",
      "101:\tlearn: 0.3008661\ttotal: 4.04s\tremaining: 35.5s\n",
      "102:\tlearn: 0.2999659\ttotal: 4.08s\tremaining: 35.5s\n",
      "103:\tlearn: 0.2993830\ttotal: 4.11s\tremaining: 35.4s\n",
      "104:\tlearn: 0.2987621\ttotal: 4.15s\tremaining: 35.4s\n",
      "105:\tlearn: 0.2981062\ttotal: 4.19s\tremaining: 35.3s\n",
      "106:\tlearn: 0.2973009\ttotal: 4.22s\tremaining: 35.2s\n",
      "107:\tlearn: 0.2967531\ttotal: 4.26s\tremaining: 35.2s\n",
      "108:\tlearn: 0.2960972\ttotal: 4.3s\tremaining: 35.1s\n",
      "109:\tlearn: 0.2954808\ttotal: 4.34s\tremaining: 35.1s\n",
      "110:\tlearn: 0.2949937\ttotal: 4.37s\tremaining: 35s\n",
      "111:\tlearn: 0.2942199\ttotal: 4.41s\tremaining: 35s\n",
      "112:\tlearn: 0.2936008\ttotal: 4.45s\tremaining: 34.9s\n",
      "113:\tlearn: 0.2929265\ttotal: 4.48s\tremaining: 34.9s\n",
      "114:\tlearn: 0.2924177\ttotal: 4.52s\tremaining: 34.8s\n",
      "115:\tlearn: 0.2919006\ttotal: 4.56s\tremaining: 34.7s\n",
      "116:\tlearn: 0.2913071\ttotal: 4.6s\tremaining: 34.7s\n",
      "117:\tlearn: 0.2907203\ttotal: 4.63s\tremaining: 34.6s\n",
      "118:\tlearn: 0.2901234\ttotal: 4.67s\tremaining: 34.6s\n",
      "119:\tlearn: 0.2897036\ttotal: 4.71s\tremaining: 34.5s\n",
      "120:\tlearn: 0.2890647\ttotal: 4.75s\tremaining: 34.5s\n",
      "121:\tlearn: 0.2884640\ttotal: 4.78s\tremaining: 34.4s\n",
      "122:\tlearn: 0.2879038\ttotal: 4.82s\tremaining: 34.4s\n",
      "123:\tlearn: 0.2872794\ttotal: 4.86s\tremaining: 34.3s\n",
      "124:\tlearn: 0.2867162\ttotal: 4.9s\tremaining: 34.3s\n",
      "125:\tlearn: 0.2860662\ttotal: 4.93s\tremaining: 34.2s\n",
      "126:\tlearn: 0.2856113\ttotal: 4.97s\tremaining: 34.2s\n",
      "127:\tlearn: 0.2851112\ttotal: 5s\tremaining: 34.1s\n",
      "128:\tlearn: 0.2846446\ttotal: 5.04s\tremaining: 34s\n",
      "129:\tlearn: 0.2839673\ttotal: 5.08s\tremaining: 34s\n",
      "130:\tlearn: 0.2829858\ttotal: 5.12s\tremaining: 34s\n",
      "131:\tlearn: 0.2823291\ttotal: 5.16s\tremaining: 33.9s\n",
      "132:\tlearn: 0.2818140\ttotal: 5.19s\tremaining: 33.9s\n",
      "133:\tlearn: 0.2814111\ttotal: 5.23s\tremaining: 33.8s\n",
      "134:\tlearn: 0.2809746\ttotal: 5.27s\tremaining: 33.7s\n",
      "135:\tlearn: 0.2805242\ttotal: 5.3s\tremaining: 33.7s\n",
      "136:\tlearn: 0.2800134\ttotal: 5.34s\tremaining: 33.6s\n",
      "137:\tlearn: 0.2795497\ttotal: 5.38s\tremaining: 33.6s\n",
      "138:\tlearn: 0.2790939\ttotal: 5.41s\tremaining: 33.5s\n",
      "139:\tlearn: 0.2786675\ttotal: 5.45s\tremaining: 33.5s\n",
      "140:\tlearn: 0.2783128\ttotal: 5.48s\tremaining: 33.4s\n",
      "141:\tlearn: 0.2779245\ttotal: 5.52s\tremaining: 33.4s\n",
      "142:\tlearn: 0.2772479\ttotal: 5.56s\tremaining: 33.3s\n",
      "143:\tlearn: 0.2764431\ttotal: 5.6s\tremaining: 33.3s\n",
      "144:\tlearn: 0.2761756\ttotal: 5.63s\tremaining: 33.2s\n",
      "145:\tlearn: 0.2757494\ttotal: 5.67s\tremaining: 33.2s\n",
      "146:\tlearn: 0.2752443\ttotal: 5.71s\tremaining: 33.1s\n",
      "147:\tlearn: 0.2748641\ttotal: 5.75s\tremaining: 33.1s\n",
      "148:\tlearn: 0.2743732\ttotal: 5.78s\tremaining: 33s\n",
      "149:\tlearn: 0.2740958\ttotal: 5.82s\tremaining: 33s\n",
      "150:\tlearn: 0.2737172\ttotal: 5.85s\tremaining: 32.9s\n",
      "151:\tlearn: 0.2733463\ttotal: 5.89s\tremaining: 32.8s\n",
      "152:\tlearn: 0.2728367\ttotal: 5.94s\tremaining: 32.9s\n",
      "153:\tlearn: 0.2724704\ttotal: 5.97s\tremaining: 32.8s\n",
      "154:\tlearn: 0.2721229\ttotal: 6.01s\tremaining: 32.8s\n",
      "155:\tlearn: 0.2716178\ttotal: 6.05s\tremaining: 32.7s\n",
      "156:\tlearn: 0.2712151\ttotal: 6.09s\tremaining: 32.7s\n",
      "157:\tlearn: 0.2708402\ttotal: 6.13s\tremaining: 32.7s\n",
      "158:\tlearn: 0.2703947\ttotal: 6.17s\tremaining: 32.6s\n",
      "159:\tlearn: 0.2696227\ttotal: 6.21s\tremaining: 32.6s\n",
      "160:\tlearn: 0.2692154\ttotal: 6.24s\tremaining: 32.5s\n",
      "161:\tlearn: 0.2688562\ttotal: 6.28s\tremaining: 32.5s\n",
      "162:\tlearn: 0.2686109\ttotal: 6.32s\tremaining: 32.4s\n",
      "163:\tlearn: 0.2681712\ttotal: 6.35s\tremaining: 32.4s\n",
      "164:\tlearn: 0.2678070\ttotal: 6.39s\tremaining: 32.3s\n"
     ]
    },
    {
     "name": "stdout",
     "output_type": "stream",
     "text": [
      "165:\tlearn: 0.2673771\ttotal: 6.42s\tremaining: 32.3s\n",
      "166:\tlearn: 0.2669626\ttotal: 6.46s\tremaining: 32.2s\n",
      "167:\tlearn: 0.2664020\ttotal: 6.49s\tremaining: 32.2s\n",
      "168:\tlearn: 0.2659694\ttotal: 6.53s\tremaining: 32.1s\n",
      "169:\tlearn: 0.2654476\ttotal: 6.57s\tremaining: 32.1s\n",
      "170:\tlearn: 0.2651031\ttotal: 6.6s\tremaining: 32s\n",
      "171:\tlearn: 0.2648800\ttotal: 6.64s\tremaining: 32s\n",
      "172:\tlearn: 0.2645270\ttotal: 6.67s\tremaining: 31.9s\n",
      "173:\tlearn: 0.2641427\ttotal: 6.71s\tremaining: 31.9s\n",
      "174:\tlearn: 0.2638365\ttotal: 6.75s\tremaining: 31.8s\n",
      "175:\tlearn: 0.2635974\ttotal: 6.79s\tremaining: 31.8s\n",
      "176:\tlearn: 0.2633046\ttotal: 6.82s\tremaining: 31.7s\n",
      "177:\tlearn: 0.2628928\ttotal: 6.86s\tremaining: 31.7s\n",
      "178:\tlearn: 0.2625692\ttotal: 6.9s\tremaining: 31.6s\n",
      "179:\tlearn: 0.2623158\ttotal: 6.93s\tremaining: 31.6s\n",
      "180:\tlearn: 0.2619089\ttotal: 6.97s\tremaining: 31.5s\n",
      "181:\tlearn: 0.2615266\ttotal: 7s\tremaining: 31.5s\n",
      "182:\tlearn: 0.2607949\ttotal: 7.04s\tremaining: 31.4s\n",
      "183:\tlearn: 0.2604155\ttotal: 7.08s\tremaining: 31.4s\n",
      "184:\tlearn: 0.2600486\ttotal: 7.12s\tremaining: 31.4s\n",
      "185:\tlearn: 0.2598087\ttotal: 7.15s\tremaining: 31.3s\n",
      "186:\tlearn: 0.2594683\ttotal: 7.19s\tremaining: 31.2s\n",
      "187:\tlearn: 0.2588367\ttotal: 7.22s\tremaining: 31.2s\n",
      "188:\tlearn: 0.2584603\ttotal: 7.26s\tremaining: 31.2s\n",
      "189:\tlearn: 0.2579979\ttotal: 7.3s\tremaining: 31.1s\n",
      "190:\tlearn: 0.2576950\ttotal: 7.33s\tremaining: 31.1s\n",
      "191:\tlearn: 0.2573996\ttotal: 7.37s\tremaining: 31s\n",
      "192:\tlearn: 0.2570284\ttotal: 7.41s\tremaining: 31s\n",
      "193:\tlearn: 0.2567213\ttotal: 7.44s\tremaining: 30.9s\n",
      "194:\tlearn: 0.2563397\ttotal: 7.48s\tremaining: 30.9s\n",
      "195:\tlearn: 0.2560401\ttotal: 7.52s\tremaining: 30.8s\n",
      "196:\tlearn: 0.2557134\ttotal: 7.55s\tremaining: 30.8s\n",
      "197:\tlearn: 0.2554253\ttotal: 7.59s\tremaining: 30.7s\n",
      "198:\tlearn: 0.2551364\ttotal: 7.63s\tremaining: 30.7s\n",
      "199:\tlearn: 0.2548320\ttotal: 7.67s\tremaining: 30.7s\n",
      "200:\tlearn: 0.2544791\ttotal: 7.71s\tremaining: 30.6s\n",
      "201:\tlearn: 0.2542635\ttotal: 7.74s\tremaining: 30.6s\n",
      "202:\tlearn: 0.2538405\ttotal: 7.78s\tremaining: 30.5s\n",
      "203:\tlearn: 0.2537043\ttotal: 7.81s\tremaining: 30.5s\n",
      "204:\tlearn: 0.2532126\ttotal: 7.85s\tremaining: 30.5s\n",
      "205:\tlearn: 0.2528604\ttotal: 7.89s\tremaining: 30.4s\n",
      "206:\tlearn: 0.2525393\ttotal: 7.93s\tremaining: 30.4s\n",
      "207:\tlearn: 0.2521580\ttotal: 7.97s\tremaining: 30.3s\n",
      "208:\tlearn: 0.2519164\ttotal: 8s\tremaining: 30.3s\n",
      "209:\tlearn: 0.2516821\ttotal: 8.04s\tremaining: 30.2s\n",
      "210:\tlearn: 0.2514318\ttotal: 8.08s\tremaining: 30.2s\n",
      "211:\tlearn: 0.2512106\ttotal: 8.12s\tremaining: 30.2s\n",
      "212:\tlearn: 0.2509592\ttotal: 8.15s\tremaining: 30.1s\n",
      "213:\tlearn: 0.2506048\ttotal: 8.2s\tremaining: 30.1s\n",
      "214:\tlearn: 0.2502029\ttotal: 8.23s\tremaining: 30.1s\n",
      "215:\tlearn: 0.2499032\ttotal: 8.27s\tremaining: 30s\n",
      "216:\tlearn: 0.2495228\ttotal: 8.31s\tremaining: 30s\n",
      "217:\tlearn: 0.2492354\ttotal: 8.34s\tremaining: 29.9s\n",
      "218:\tlearn: 0.2489803\ttotal: 8.38s\tremaining: 29.9s\n",
      "219:\tlearn: 0.2487376\ttotal: 8.41s\tremaining: 29.8s\n",
      "220:\tlearn: 0.2484157\ttotal: 8.45s\tremaining: 29.8s\n",
      "221:\tlearn: 0.2479646\ttotal: 8.49s\tremaining: 29.7s\n",
      "222:\tlearn: 0.2476823\ttotal: 8.52s\tremaining: 29.7s\n",
      "223:\tlearn: 0.2474227\ttotal: 8.57s\tremaining: 29.7s\n",
      "224:\tlearn: 0.2470164\ttotal: 8.6s\tremaining: 29.6s\n",
      "225:\tlearn: 0.2464974\ttotal: 8.64s\tremaining: 29.6s\n",
      "226:\tlearn: 0.2463360\ttotal: 8.68s\tremaining: 29.6s\n",
      "227:\tlearn: 0.2460316\ttotal: 8.72s\tremaining: 29.5s\n",
      "228:\tlearn: 0.2458084\ttotal: 8.75s\tremaining: 29.5s\n",
      "229:\tlearn: 0.2454306\ttotal: 8.79s\tremaining: 29.4s\n",
      "230:\tlearn: 0.2451534\ttotal: 8.83s\tremaining: 29.4s\n",
      "231:\tlearn: 0.2449702\ttotal: 8.87s\tremaining: 29.4s\n",
      "232:\tlearn: 0.2444278\ttotal: 8.9s\tremaining: 29.3s\n",
      "233:\tlearn: 0.2442047\ttotal: 8.94s\tremaining: 29.3s\n",
      "234:\tlearn: 0.2439647\ttotal: 8.98s\tremaining: 29.2s\n",
      "235:\tlearn: 0.2436994\ttotal: 9.02s\tremaining: 29.2s\n",
      "236:\tlearn: 0.2435862\ttotal: 9.05s\tremaining: 29.1s\n",
      "237:\tlearn: 0.2432730\ttotal: 9.09s\tremaining: 29.1s\n",
      "238:\tlearn: 0.2430499\ttotal: 9.13s\tremaining: 29.1s\n",
      "239:\tlearn: 0.2426689\ttotal: 9.17s\tremaining: 29s\n",
      "240:\tlearn: 0.2422240\ttotal: 9.2s\tremaining: 29s\n",
      "241:\tlearn: 0.2419402\ttotal: 9.24s\tremaining: 28.9s\n",
      "242:\tlearn: 0.2416316\ttotal: 9.28s\tremaining: 28.9s\n",
      "243:\tlearn: 0.2413537\ttotal: 9.31s\tremaining: 28.9s\n",
      "244:\tlearn: 0.2410282\ttotal: 9.35s\tremaining: 28.8s\n",
      "245:\tlearn: 0.2407971\ttotal: 9.39s\tremaining: 28.8s\n",
      "246:\tlearn: 0.2405272\ttotal: 9.43s\tremaining: 28.7s\n",
      "247:\tlearn: 0.2403243\ttotal: 9.47s\tremaining: 28.7s\n",
      "248:\tlearn: 0.2401496\ttotal: 9.51s\tremaining: 28.7s\n",
      "249:\tlearn: 0.2399175\ttotal: 9.54s\tremaining: 28.6s\n",
      "250:\tlearn: 0.2395986\ttotal: 9.58s\tremaining: 28.6s\n",
      "251:\tlearn: 0.2392233\ttotal: 9.62s\tremaining: 28.6s\n",
      "252:\tlearn: 0.2390224\ttotal: 9.66s\tremaining: 28.5s\n",
      "253:\tlearn: 0.2388260\ttotal: 9.7s\tremaining: 28.5s\n",
      "254:\tlearn: 0.2385213\ttotal: 9.73s\tremaining: 28.4s\n",
      "255:\tlearn: 0.2382930\ttotal: 9.77s\tremaining: 28.4s\n",
      "256:\tlearn: 0.2380151\ttotal: 9.81s\tremaining: 28.4s\n",
      "257:\tlearn: 0.2377476\ttotal: 9.85s\tremaining: 28.3s\n",
      "258:\tlearn: 0.2375186\ttotal: 9.88s\tremaining: 28.3s\n",
      "259:\tlearn: 0.2372158\ttotal: 9.92s\tremaining: 28.2s\n",
      "260:\tlearn: 0.2370447\ttotal: 9.96s\tremaining: 28.2s\n",
      "261:\tlearn: 0.2368225\ttotal: 10s\tremaining: 28.2s\n",
      "262:\tlearn: 0.2366916\ttotal: 10s\tremaining: 28.1s\n",
      "263:\tlearn: 0.2364868\ttotal: 10.1s\tremaining: 28.1s\n",
      "264:\tlearn: 0.2361884\ttotal: 10.1s\tremaining: 28s\n",
      "265:\tlearn: 0.2358663\ttotal: 10.1s\tremaining: 28s\n",
      "266:\tlearn: 0.2356928\ttotal: 10.2s\tremaining: 28s\n",
      "267:\tlearn: 0.2355282\ttotal: 10.2s\tremaining: 27.9s\n",
      "268:\tlearn: 0.2351708\ttotal: 10.3s\tremaining: 27.9s\n",
      "269:\tlearn: 0.2347097\ttotal: 10.3s\tremaining: 27.8s\n",
      "270:\tlearn: 0.2344451\ttotal: 10.3s\tremaining: 27.8s\n",
      "271:\tlearn: 0.2342590\ttotal: 10.4s\tremaining: 27.7s\n",
      "272:\tlearn: 0.2340210\ttotal: 10.4s\tremaining: 27.7s\n",
      "273:\tlearn: 0.2334815\ttotal: 10.4s\tremaining: 27.7s\n",
      "274:\tlearn: 0.2332899\ttotal: 10.5s\tremaining: 27.6s\n",
      "275:\tlearn: 0.2331779\ttotal: 10.5s\tremaining: 27.6s\n",
      "276:\tlearn: 0.2329815\ttotal: 10.6s\tremaining: 27.6s\n",
      "277:\tlearn: 0.2328046\ttotal: 10.6s\tremaining: 27.5s\n",
      "278:\tlearn: 0.2326375\ttotal: 10.6s\tremaining: 27.5s\n",
      "279:\tlearn: 0.2323693\ttotal: 10.7s\tremaining: 27.5s\n",
      "280:\tlearn: 0.2320233\ttotal: 10.7s\tremaining: 27.4s\n",
      "281:\tlearn: 0.2318478\ttotal: 10.8s\tremaining: 27.4s\n",
      "282:\tlearn: 0.2316514\ttotal: 10.8s\tremaining: 27.3s\n",
      "283:\tlearn: 0.2313555\ttotal: 10.8s\tremaining: 27.3s\n",
      "284:\tlearn: 0.2310786\ttotal: 10.9s\tremaining: 27.2s\n",
      "285:\tlearn: 0.2308724\ttotal: 10.9s\tremaining: 27.2s\n",
      "286:\tlearn: 0.2306237\ttotal: 10.9s\tremaining: 27.2s\n",
      "287:\tlearn: 0.2303163\ttotal: 11s\tremaining: 27.1s\n",
      "288:\tlearn: 0.2301579\ttotal: 11s\tremaining: 27.1s\n",
      "289:\tlearn: 0.2299243\ttotal: 11.1s\tremaining: 27.1s\n",
      "290:\tlearn: 0.2295849\ttotal: 11.1s\tremaining: 27s\n",
      "291:\tlearn: 0.2293732\ttotal: 11.1s\tremaining: 27s\n",
      "292:\tlearn: 0.2291589\ttotal: 11.2s\tremaining: 26.9s\n",
      "293:\tlearn: 0.2289724\ttotal: 11.2s\tremaining: 26.9s\n",
      "294:\tlearn: 0.2287859\ttotal: 11.2s\tremaining: 26.8s\n",
      "295:\tlearn: 0.2285554\ttotal: 11.3s\tremaining: 26.8s\n",
      "296:\tlearn: 0.2282505\ttotal: 11.3s\tremaining: 26.8s\n",
      "297:\tlearn: 0.2280899\ttotal: 11.3s\tremaining: 26.7s\n",
      "298:\tlearn: 0.2278872\ttotal: 11.4s\tremaining: 26.7s\n",
      "299:\tlearn: 0.2277828\ttotal: 11.4s\tremaining: 26.6s\n",
      "300:\tlearn: 0.2275410\ttotal: 11.5s\tremaining: 26.6s\n",
      "301:\tlearn: 0.2272878\ttotal: 11.5s\tremaining: 26.6s\n",
      "302:\tlearn: 0.2270744\ttotal: 11.5s\tremaining: 26.5s\n",
      "303:\tlearn: 0.2268893\ttotal: 11.6s\tremaining: 26.5s\n",
      "304:\tlearn: 0.2266962\ttotal: 11.6s\tremaining: 26.4s\n",
      "305:\tlearn: 0.2265910\ttotal: 11.6s\tremaining: 26.4s\n",
      "306:\tlearn: 0.2263287\ttotal: 11.7s\tremaining: 26.4s\n",
      "307:\tlearn: 0.2261548\ttotal: 11.7s\tremaining: 26.3s\n",
      "308:\tlearn: 0.2258932\ttotal: 11.8s\tremaining: 26.3s\n",
      "309:\tlearn: 0.2254861\ttotal: 11.8s\tremaining: 26.3s\n",
      "310:\tlearn: 0.2253058\ttotal: 11.8s\tremaining: 26.3s\n",
      "311:\tlearn: 0.2251209\ttotal: 11.9s\tremaining: 26.2s\n",
      "312:\tlearn: 0.2247003\ttotal: 11.9s\tremaining: 26.2s\n",
      "313:\tlearn: 0.2244475\ttotal: 12s\tremaining: 26.2s\n",
      "314:\tlearn: 0.2242734\ttotal: 12s\tremaining: 26.1s\n",
      "315:\tlearn: 0.2240940\ttotal: 12s\tremaining: 26.1s\n",
      "316:\tlearn: 0.2239516\ttotal: 12.1s\tremaining: 26s\n",
      "317:\tlearn: 0.2237003\ttotal: 12.1s\tremaining: 26s\n",
      "318:\tlearn: 0.2234675\ttotal: 12.2s\tremaining: 26s\n",
      "319:\tlearn: 0.2233003\ttotal: 12.2s\tremaining: 25.9s\n",
      "320:\tlearn: 0.2230601\ttotal: 12.2s\tremaining: 25.9s\n",
      "321:\tlearn: 0.2228691\ttotal: 12.3s\tremaining: 25.8s\n",
      "322:\tlearn: 0.2227448\ttotal: 12.3s\tremaining: 25.8s\n",
      "323:\tlearn: 0.2225922\ttotal: 12.3s\tremaining: 25.8s\n"
     ]
    },
    {
     "name": "stdout",
     "output_type": "stream",
     "text": [
      "324:\tlearn: 0.2223567\ttotal: 12.4s\tremaining: 25.7s\n",
      "325:\tlearn: 0.2222047\ttotal: 12.4s\tremaining: 25.7s\n",
      "326:\tlearn: 0.2220659\ttotal: 12.5s\tremaining: 25.7s\n",
      "327:\tlearn: 0.2218693\ttotal: 12.5s\tremaining: 25.7s\n",
      "328:\tlearn: 0.2217097\ttotal: 12.6s\tremaining: 25.6s\n",
      "329:\tlearn: 0.2214283\ttotal: 12.6s\tremaining: 25.6s\n",
      "330:\tlearn: 0.2213519\ttotal: 12.6s\tremaining: 25.6s\n",
      "331:\tlearn: 0.2211586\ttotal: 12.7s\tremaining: 25.5s\n",
      "332:\tlearn: 0.2209974\ttotal: 12.7s\tremaining: 25.5s\n",
      "333:\tlearn: 0.2208075\ttotal: 12.8s\tremaining: 25.5s\n",
      "334:\tlearn: 0.2205636\ttotal: 12.8s\tremaining: 25.4s\n",
      "335:\tlearn: 0.2202793\ttotal: 12.8s\tremaining: 25.4s\n",
      "336:\tlearn: 0.2200964\ttotal: 12.9s\tremaining: 25.3s\n",
      "337:\tlearn: 0.2198822\ttotal: 12.9s\tremaining: 25.3s\n",
      "338:\tlearn: 0.2195365\ttotal: 13s\tremaining: 25.3s\n",
      "339:\tlearn: 0.2193988\ttotal: 13s\tremaining: 25.3s\n",
      "340:\tlearn: 0.2192405\ttotal: 13.1s\tremaining: 25.2s\n",
      "341:\tlearn: 0.2190456\ttotal: 13.1s\tremaining: 25.2s\n",
      "342:\tlearn: 0.2188856\ttotal: 13.1s\tremaining: 25.2s\n",
      "343:\tlearn: 0.2186976\ttotal: 13.2s\tremaining: 25.1s\n",
      "344:\tlearn: 0.2183473\ttotal: 13.2s\tremaining: 25.1s\n",
      "345:\tlearn: 0.2182054\ttotal: 13.2s\tremaining: 25s\n",
      "346:\tlearn: 0.2180109\ttotal: 13.3s\tremaining: 25s\n",
      "347:\tlearn: 0.2178493\ttotal: 13.3s\tremaining: 25s\n",
      "348:\tlearn: 0.2177224\ttotal: 13.4s\tremaining: 24.9s\n",
      "349:\tlearn: 0.2175451\ttotal: 13.4s\tremaining: 24.9s\n",
      "350:\tlearn: 0.2171892\ttotal: 13.4s\tremaining: 24.9s\n",
      "351:\tlearn: 0.2170085\ttotal: 13.5s\tremaining: 24.8s\n",
      "352:\tlearn: 0.2168193\ttotal: 13.5s\tremaining: 24.8s\n",
      "353:\tlearn: 0.2167021\ttotal: 13.6s\tremaining: 24.8s\n",
      "354:\tlearn: 0.2165297\ttotal: 13.6s\tremaining: 24.7s\n",
      "355:\tlearn: 0.2164447\ttotal: 13.6s\tremaining: 24.7s\n",
      "356:\tlearn: 0.2162045\ttotal: 13.7s\tremaining: 24.6s\n",
      "357:\tlearn: 0.2159877\ttotal: 13.7s\tremaining: 24.6s\n",
      "358:\tlearn: 0.2158335\ttotal: 13.8s\tremaining: 24.6s\n",
      "359:\tlearn: 0.2156923\ttotal: 13.8s\tremaining: 24.5s\n",
      "360:\tlearn: 0.2155960\ttotal: 13.8s\tremaining: 24.5s\n",
      "361:\tlearn: 0.2154280\ttotal: 13.9s\tremaining: 24.4s\n",
      "362:\tlearn: 0.2152548\ttotal: 13.9s\tremaining: 24.4s\n",
      "363:\tlearn: 0.2151691\ttotal: 13.9s\tremaining: 24.4s\n",
      "364:\tlearn: 0.2149479\ttotal: 14s\tremaining: 24.3s\n",
      "365:\tlearn: 0.2148148\ttotal: 14s\tremaining: 24.3s\n",
      "366:\tlearn: 0.2146028\ttotal: 14.1s\tremaining: 24.3s\n",
      "367:\tlearn: 0.2144066\ttotal: 14.1s\tremaining: 24.2s\n",
      "368:\tlearn: 0.2143187\ttotal: 14.1s\tremaining: 24.2s\n",
      "369:\tlearn: 0.2142042\ttotal: 14.2s\tremaining: 24.1s\n",
      "370:\tlearn: 0.2140823\ttotal: 14.2s\tremaining: 24.1s\n",
      "371:\tlearn: 0.2139297\ttotal: 14.3s\tremaining: 24.1s\n",
      "372:\tlearn: 0.2135745\ttotal: 14.3s\tremaining: 24.1s\n",
      "373:\tlearn: 0.2134308\ttotal: 14.4s\tremaining: 24s\n",
      "374:\tlearn: 0.2133131\ttotal: 14.4s\tremaining: 24s\n",
      "375:\tlearn: 0.2131495\ttotal: 14.4s\tremaining: 23.9s\n",
      "376:\tlearn: 0.2129826\ttotal: 14.5s\tremaining: 23.9s\n",
      "377:\tlearn: 0.2128018\ttotal: 14.5s\tremaining: 23.9s\n",
      "378:\tlearn: 0.2126955\ttotal: 14.5s\tremaining: 23.8s\n",
      "379:\tlearn: 0.2124935\ttotal: 14.6s\tremaining: 23.8s\n",
      "380:\tlearn: 0.2123873\ttotal: 14.6s\tremaining: 23.8s\n",
      "381:\tlearn: 0.2122291\ttotal: 14.7s\tremaining: 23.7s\n",
      "382:\tlearn: 0.2119887\ttotal: 14.7s\tremaining: 23.7s\n",
      "383:\tlearn: 0.2118464\ttotal: 14.7s\tremaining: 23.6s\n",
      "384:\tlearn: 0.2117321\ttotal: 14.8s\tremaining: 23.6s\n",
      "385:\tlearn: 0.2115496\ttotal: 14.8s\tremaining: 23.6s\n",
      "386:\tlearn: 0.2114597\ttotal: 14.8s\tremaining: 23.5s\n",
      "387:\tlearn: 0.2114597\ttotal: 14.9s\tremaining: 23.4s\n",
      "388:\tlearn: 0.2113654\ttotal: 14.9s\tremaining: 23.4s\n",
      "389:\tlearn: 0.2112548\ttotal: 14.9s\tremaining: 23.4s\n",
      "390:\tlearn: 0.2111071\ttotal: 15s\tremaining: 23.3s\n",
      "391:\tlearn: 0.2109345\ttotal: 15s\tremaining: 23.3s\n",
      "392:\tlearn: 0.2107980\ttotal: 15.1s\tremaining: 23.3s\n",
      "393:\tlearn: 0.2105758\ttotal: 15.1s\tremaining: 23.2s\n",
      "394:\tlearn: 0.2104840\ttotal: 15.1s\tremaining: 23.2s\n",
      "395:\tlearn: 0.2103775\ttotal: 15.2s\tremaining: 23.1s\n",
      "396:\tlearn: 0.2100376\ttotal: 15.2s\tremaining: 23.1s\n",
      "397:\tlearn: 0.2099407\ttotal: 15.2s\tremaining: 23.1s\n",
      "398:\tlearn: 0.2097954\ttotal: 15.3s\tremaining: 23s\n",
      "399:\tlearn: 0.2095232\ttotal: 15.3s\tremaining: 23s\n",
      "400:\tlearn: 0.2093832\ttotal: 15.4s\tremaining: 22.9s\n",
      "401:\tlearn: 0.2093058\ttotal: 15.4s\tremaining: 22.9s\n",
      "402:\tlearn: 0.2091588\ttotal: 15.4s\tremaining: 22.9s\n",
      "403:\tlearn: 0.2089684\ttotal: 15.5s\tremaining: 22.8s\n",
      "404:\tlearn: 0.2087910\ttotal: 15.5s\tremaining: 22.8s\n",
      "405:\tlearn: 0.2085247\ttotal: 15.6s\tremaining: 22.8s\n",
      "406:\tlearn: 0.2084101\ttotal: 15.6s\tremaining: 22.7s\n",
      "407:\tlearn: 0.2082417\ttotal: 15.6s\tremaining: 22.7s\n",
      "408:\tlearn: 0.2081129\ttotal: 15.7s\tremaining: 22.7s\n",
      "409:\tlearn: 0.2079812\ttotal: 15.7s\tremaining: 22.6s\n",
      "410:\tlearn: 0.2078528\ttotal: 15.8s\tremaining: 22.6s\n",
      "411:\tlearn: 0.2076427\ttotal: 15.8s\tremaining: 22.6s\n",
      "412:\tlearn: 0.2074271\ttotal: 15.8s\tremaining: 22.5s\n",
      "413:\tlearn: 0.2072851\ttotal: 15.9s\tremaining: 22.5s\n",
      "414:\tlearn: 0.2070878\ttotal: 15.9s\tremaining: 22.5s\n",
      "415:\tlearn: 0.2069654\ttotal: 16s\tremaining: 22.4s\n",
      "416:\tlearn: 0.2069225\ttotal: 16s\tremaining: 22.4s\n",
      "417:\tlearn: 0.2068337\ttotal: 16.1s\tremaining: 22.3s\n",
      "418:\tlearn: 0.2067341\ttotal: 16.1s\tremaining: 22.3s\n",
      "419:\tlearn: 0.2065272\ttotal: 16.1s\tremaining: 22.3s\n",
      "420:\tlearn: 0.2064274\ttotal: 16.2s\tremaining: 22.2s\n",
      "421:\tlearn: 0.2062545\ttotal: 16.2s\tremaining: 22.2s\n",
      "422:\tlearn: 0.2061685\ttotal: 16.2s\tremaining: 22.2s\n",
      "423:\tlearn: 0.2060759\ttotal: 16.3s\tremaining: 22.1s\n",
      "424:\tlearn: 0.2057952\ttotal: 16.3s\tremaining: 22.1s\n",
      "425:\tlearn: 0.2056205\ttotal: 16.4s\tremaining: 22s\n",
      "426:\tlearn: 0.2053116\ttotal: 16.4s\tremaining: 22s\n",
      "427:\tlearn: 0.2051287\ttotal: 16.4s\tremaining: 22s\n",
      "428:\tlearn: 0.2049670\ttotal: 16.5s\tremaining: 21.9s\n",
      "429:\tlearn: 0.2047131\ttotal: 16.5s\tremaining: 21.9s\n",
      "430:\tlearn: 0.2045053\ttotal: 16.6s\tremaining: 21.9s\n",
      "431:\tlearn: 0.2043443\ttotal: 16.6s\tremaining: 21.8s\n",
      "432:\tlearn: 0.2041650\ttotal: 16.6s\tremaining: 21.8s\n",
      "433:\tlearn: 0.2040553\ttotal: 16.7s\tremaining: 21.8s\n",
      "434:\tlearn: 0.2039682\ttotal: 16.7s\tremaining: 21.7s\n",
      "435:\tlearn: 0.2038675\ttotal: 16.8s\tremaining: 21.7s\n",
      "436:\tlearn: 0.2036879\ttotal: 16.8s\tremaining: 21.7s\n",
      "437:\tlearn: 0.2034643\ttotal: 16.8s\tremaining: 21.6s\n",
      "438:\tlearn: 0.2033320\ttotal: 16.9s\tremaining: 21.6s\n",
      "439:\tlearn: 0.2031426\ttotal: 16.9s\tremaining: 21.5s\n",
      "440:\tlearn: 0.2030559\ttotal: 17s\tremaining: 21.5s\n",
      "441:\tlearn: 0.2029297\ttotal: 17s\tremaining: 21.5s\n",
      "442:\tlearn: 0.2027310\ttotal: 17s\tremaining: 21.4s\n",
      "443:\tlearn: 0.2025268\ttotal: 17.1s\tremaining: 21.4s\n",
      "444:\tlearn: 0.2024270\ttotal: 17.1s\tremaining: 21.4s\n",
      "445:\tlearn: 0.2022547\ttotal: 17.2s\tremaining: 21.3s\n",
      "446:\tlearn: 0.2020800\ttotal: 17.2s\tremaining: 21.3s\n",
      "447:\tlearn: 0.2019024\ttotal: 17.2s\tremaining: 21.3s\n",
      "448:\tlearn: 0.2017859\ttotal: 17.3s\tremaining: 21.2s\n",
      "449:\tlearn: 0.2017319\ttotal: 17.3s\tremaining: 21.2s\n",
      "450:\tlearn: 0.2015979\ttotal: 17.4s\tremaining: 21.1s\n",
      "451:\tlearn: 0.2015279\ttotal: 17.4s\tremaining: 21.1s\n",
      "452:\tlearn: 0.2013515\ttotal: 17.4s\tremaining: 21.1s\n",
      "453:\tlearn: 0.2012905\ttotal: 17.5s\tremaining: 21s\n",
      "454:\tlearn: 0.2011805\ttotal: 17.5s\tremaining: 21s\n",
      "455:\tlearn: 0.2011081\ttotal: 17.6s\tremaining: 21s\n",
      "456:\tlearn: 0.2009343\ttotal: 17.6s\tremaining: 20.9s\n",
      "457:\tlearn: 0.2008230\ttotal: 17.6s\tremaining: 20.9s\n",
      "458:\tlearn: 0.2006548\ttotal: 17.7s\tremaining: 20.8s\n",
      "459:\tlearn: 0.2004442\ttotal: 17.7s\tremaining: 20.8s\n",
      "460:\tlearn: 0.2003474\ttotal: 17.8s\tremaining: 20.8s\n",
      "461:\tlearn: 0.2002829\ttotal: 17.8s\tremaining: 20.7s\n",
      "462:\tlearn: 0.2000225\ttotal: 17.8s\tremaining: 20.7s\n",
      "463:\tlearn: 0.1999222\ttotal: 17.9s\tremaining: 20.7s\n",
      "464:\tlearn: 0.1998709\ttotal: 17.9s\tremaining: 20.6s\n",
      "465:\tlearn: 0.1997613\ttotal: 18s\tremaining: 20.6s\n",
      "466:\tlearn: 0.1996979\ttotal: 18s\tremaining: 20.5s\n",
      "467:\tlearn: 0.1996145\ttotal: 18s\tremaining: 20.5s\n",
      "468:\tlearn: 0.1994322\ttotal: 18.1s\tremaining: 20.5s\n",
      "469:\tlearn: 0.1993072\ttotal: 18.1s\tremaining: 20.4s\n",
      "470:\tlearn: 0.1992351\ttotal: 18.2s\tremaining: 20.4s\n",
      "471:\tlearn: 0.1990805\ttotal: 18.2s\tremaining: 20.4s\n",
      "472:\tlearn: 0.1989821\ttotal: 18.2s\tremaining: 20.3s\n",
      "473:\tlearn: 0.1989148\ttotal: 18.3s\tremaining: 20.3s\n",
      "474:\tlearn: 0.1987566\ttotal: 18.3s\tremaining: 20.2s\n",
      "475:\tlearn: 0.1986487\ttotal: 18.4s\tremaining: 20.2s\n",
      "476:\tlearn: 0.1983832\ttotal: 18.4s\tremaining: 20.2s\n",
      "477:\tlearn: 0.1982641\ttotal: 18.4s\tremaining: 20.1s\n",
      "478:\tlearn: 0.1979855\ttotal: 18.5s\tremaining: 20.1s\n",
      "479:\tlearn: 0.1979212\ttotal: 18.5s\tremaining: 20.1s\n",
      "480:\tlearn: 0.1978053\ttotal: 18.6s\tremaining: 20s\n",
      "481:\tlearn: 0.1976789\ttotal: 18.6s\tremaining: 20s\n",
      "482:\tlearn: 0.1974905\ttotal: 18.6s\tremaining: 20s\n",
      "483:\tlearn: 0.1974014\ttotal: 18.7s\tremaining: 19.9s\n",
      "484:\tlearn: 0.1972906\ttotal: 18.7s\tremaining: 19.9s\n",
      "485:\tlearn: 0.1971262\ttotal: 18.8s\tremaining: 19.8s\n"
     ]
    },
    {
     "name": "stdout",
     "output_type": "stream",
     "text": [
      "486:\tlearn: 0.1970687\ttotal: 18.8s\tremaining: 19.8s\n",
      "487:\tlearn: 0.1970186\ttotal: 18.8s\tremaining: 19.8s\n",
      "488:\tlearn: 0.1969105\ttotal: 18.9s\tremaining: 19.7s\n",
      "489:\tlearn: 0.1968148\ttotal: 18.9s\tremaining: 19.7s\n",
      "490:\tlearn: 0.1967026\ttotal: 18.9s\tremaining: 19.6s\n",
      "491:\tlearn: 0.1965967\ttotal: 19s\tremaining: 19.6s\n",
      "492:\tlearn: 0.1964753\ttotal: 19s\tremaining: 19.6s\n",
      "493:\tlearn: 0.1963566\ttotal: 19.1s\tremaining: 19.5s\n",
      "494:\tlearn: 0.1960751\ttotal: 19.1s\tremaining: 19.5s\n",
      "495:\tlearn: 0.1959724\ttotal: 19.1s\tremaining: 19.4s\n",
      "496:\tlearn: 0.1958674\ttotal: 19.2s\tremaining: 19.4s\n",
      "497:\tlearn: 0.1957664\ttotal: 19.2s\tremaining: 19.4s\n",
      "498:\tlearn: 0.1955251\ttotal: 19.3s\tremaining: 19.3s\n",
      "499:\tlearn: 0.1954152\ttotal: 19.3s\tremaining: 19.3s\n",
      "500:\tlearn: 0.1953282\ttotal: 19.3s\tremaining: 19.3s\n",
      "501:\tlearn: 0.1952012\ttotal: 19.4s\tremaining: 19.2s\n",
      "502:\tlearn: 0.1951400\ttotal: 19.4s\tremaining: 19.2s\n",
      "503:\tlearn: 0.1950784\ttotal: 19.5s\tremaining: 19.2s\n",
      "504:\tlearn: 0.1950280\ttotal: 19.5s\tremaining: 19.1s\n",
      "505:\tlearn: 0.1948990\ttotal: 19.5s\tremaining: 19.1s\n",
      "506:\tlearn: 0.1948059\ttotal: 19.6s\tremaining: 19s\n",
      "507:\tlearn: 0.1946006\ttotal: 19.6s\tremaining: 19s\n",
      "508:\tlearn: 0.1944869\ttotal: 19.7s\tremaining: 19s\n",
      "509:\tlearn: 0.1944219\ttotal: 19.7s\tremaining: 18.9s\n",
      "510:\tlearn: 0.1944219\ttotal: 19.7s\tremaining: 18.9s\n",
      "511:\tlearn: 0.1943053\ttotal: 19.8s\tremaining: 18.8s\n",
      "512:\tlearn: 0.1941523\ttotal: 19.8s\tremaining: 18.8s\n",
      "513:\tlearn: 0.1940508\ttotal: 19.8s\tremaining: 18.8s\n",
      "514:\tlearn: 0.1939698\ttotal: 19.9s\tremaining: 18.7s\n",
      "515:\tlearn: 0.1938239\ttotal: 19.9s\tremaining: 18.7s\n",
      "516:\tlearn: 0.1937293\ttotal: 20s\tremaining: 18.6s\n",
      "517:\tlearn: 0.1936270\ttotal: 20s\tremaining: 18.6s\n",
      "518:\tlearn: 0.1935325\ttotal: 20s\tremaining: 18.6s\n",
      "519:\tlearn: 0.1933368\ttotal: 20.1s\tremaining: 18.5s\n",
      "520:\tlearn: 0.1932211\ttotal: 20.1s\tremaining: 18.5s\n",
      "521:\tlearn: 0.1931101\ttotal: 20.2s\tremaining: 18.5s\n",
      "522:\tlearn: 0.1930310\ttotal: 20.2s\tremaining: 18.4s\n",
      "523:\tlearn: 0.1929495\ttotal: 20.2s\tremaining: 18.4s\n",
      "524:\tlearn: 0.1928312\ttotal: 20.3s\tremaining: 18.3s\n",
      "525:\tlearn: 0.1927403\ttotal: 20.3s\tremaining: 18.3s\n",
      "526:\tlearn: 0.1927403\ttotal: 20.3s\tremaining: 18.2s\n",
      "527:\tlearn: 0.1926439\ttotal: 20.4s\tremaining: 18.2s\n",
      "528:\tlearn: 0.1925925\ttotal: 20.4s\tremaining: 18.2s\n",
      "529:\tlearn: 0.1924849\ttotal: 20.4s\tremaining: 18.1s\n",
      "530:\tlearn: 0.1924520\ttotal: 20.5s\tremaining: 18.1s\n",
      "531:\tlearn: 0.1922901\ttotal: 20.5s\tremaining: 18s\n",
      "532:\tlearn: 0.1922233\ttotal: 20.5s\tremaining: 18s\n",
      "533:\tlearn: 0.1920961\ttotal: 20.6s\tremaining: 18s\n",
      "534:\tlearn: 0.1919482\ttotal: 20.6s\tremaining: 17.9s\n",
      "535:\tlearn: 0.1918717\ttotal: 20.7s\tremaining: 17.9s\n",
      "536:\tlearn: 0.1917561\ttotal: 20.7s\tremaining: 17.8s\n",
      "537:\tlearn: 0.1916499\ttotal: 20.7s\tremaining: 17.8s\n",
      "538:\tlearn: 0.1916139\ttotal: 20.8s\tremaining: 17.8s\n",
      "539:\tlearn: 0.1914837\ttotal: 20.8s\tremaining: 17.7s\n",
      "540:\tlearn: 0.1913953\ttotal: 20.9s\tremaining: 17.7s\n",
      "541:\tlearn: 0.1913032\ttotal: 20.9s\tremaining: 17.7s\n",
      "542:\tlearn: 0.1911721\ttotal: 20.9s\tremaining: 17.6s\n",
      "543:\tlearn: 0.1911010\ttotal: 21s\tremaining: 17.6s\n",
      "544:\tlearn: 0.1910500\ttotal: 21s\tremaining: 17.5s\n",
      "545:\tlearn: 0.1909966\ttotal: 21s\tremaining: 17.5s\n",
      "546:\tlearn: 0.1908572\ttotal: 21.1s\tremaining: 17.5s\n",
      "547:\tlearn: 0.1907618\ttotal: 21.1s\tremaining: 17.4s\n",
      "548:\tlearn: 0.1906134\ttotal: 21.2s\tremaining: 17.4s\n",
      "549:\tlearn: 0.1904990\ttotal: 21.2s\tremaining: 17.3s\n",
      "550:\tlearn: 0.1903329\ttotal: 21.2s\tremaining: 17.3s\n",
      "551:\tlearn: 0.1902225\ttotal: 21.3s\tremaining: 17.3s\n",
      "552:\tlearn: 0.1902043\ttotal: 21.3s\tremaining: 17.2s\n",
      "553:\tlearn: 0.1900835\ttotal: 21.4s\tremaining: 17.2s\n",
      "554:\tlearn: 0.1899803\ttotal: 21.4s\tremaining: 17.2s\n",
      "555:\tlearn: 0.1898965\ttotal: 21.4s\tremaining: 17.1s\n",
      "556:\tlearn: 0.1898343\ttotal: 21.5s\tremaining: 17.1s\n",
      "557:\tlearn: 0.1897582\ttotal: 21.5s\tremaining: 17s\n",
      "558:\tlearn: 0.1896786\ttotal: 21.5s\tremaining: 17s\n",
      "559:\tlearn: 0.1896102\ttotal: 21.6s\tremaining: 17s\n",
      "560:\tlearn: 0.1894408\ttotal: 21.6s\tremaining: 16.9s\n",
      "561:\tlearn: 0.1893519\ttotal: 21.7s\tremaining: 16.9s\n",
      "562:\tlearn: 0.1892631\ttotal: 21.7s\tremaining: 16.8s\n",
      "563:\tlearn: 0.1892075\ttotal: 21.7s\tremaining: 16.8s\n",
      "564:\tlearn: 0.1891181\ttotal: 21.8s\tremaining: 16.8s\n",
      "565:\tlearn: 0.1890321\ttotal: 21.8s\tremaining: 16.7s\n",
      "566:\tlearn: 0.1889181\ttotal: 21.8s\tremaining: 16.7s\n",
      "567:\tlearn: 0.1888578\ttotal: 21.9s\tremaining: 16.6s\n",
      "568:\tlearn: 0.1887618\ttotal: 21.9s\tremaining: 16.6s\n",
      "569:\tlearn: 0.1887008\ttotal: 22s\tremaining: 16.6s\n",
      "570:\tlearn: 0.1886233\ttotal: 22s\tremaining: 16.5s\n",
      "571:\tlearn: 0.1885377\ttotal: 22.1s\tremaining: 16.5s\n",
      "572:\tlearn: 0.1884142\ttotal: 22.1s\tremaining: 16.5s\n",
      "573:\tlearn: 0.1883557\ttotal: 22.1s\tremaining: 16.4s\n",
      "574:\tlearn: 0.1882960\ttotal: 22.2s\tremaining: 16.4s\n",
      "575:\tlearn: 0.1882077\ttotal: 22.2s\tremaining: 16.4s\n",
      "576:\tlearn: 0.1881471\ttotal: 22.3s\tremaining: 16.3s\n",
      "577:\tlearn: 0.1881072\ttotal: 22.3s\tremaining: 16.3s\n",
      "578:\tlearn: 0.1879647\ttotal: 22.3s\tremaining: 16.2s\n",
      "579:\tlearn: 0.1879015\ttotal: 22.4s\tremaining: 16.2s\n",
      "580:\tlearn: 0.1877488\ttotal: 22.4s\tremaining: 16.1s\n",
      "581:\tlearn: 0.1876401\ttotal: 22.4s\tremaining: 16.1s\n",
      "582:\tlearn: 0.1875430\ttotal: 22.5s\tremaining: 16.1s\n",
      "583:\tlearn: 0.1874219\ttotal: 22.5s\tremaining: 16s\n",
      "584:\tlearn: 0.1873710\ttotal: 22.5s\tremaining: 16s\n",
      "585:\tlearn: 0.1872451\ttotal: 22.6s\tremaining: 16s\n",
      "586:\tlearn: 0.1872028\ttotal: 22.6s\tremaining: 15.9s\n",
      "587:\tlearn: 0.1870746\ttotal: 22.7s\tremaining: 15.9s\n",
      "588:\tlearn: 0.1869117\ttotal: 22.7s\tremaining: 15.8s\n",
      "589:\tlearn: 0.1868618\ttotal: 22.7s\tremaining: 15.8s\n",
      "590:\tlearn: 0.1867756\ttotal: 22.8s\tremaining: 15.8s\n",
      "591:\tlearn: 0.1867016\ttotal: 22.8s\tremaining: 15.7s\n",
      "592:\tlearn: 0.1866350\ttotal: 22.9s\tremaining: 15.7s\n",
      "593:\tlearn: 0.1865021\ttotal: 22.9s\tremaining: 15.6s\n",
      "594:\tlearn: 0.1863930\ttotal: 22.9s\tremaining: 15.6s\n",
      "595:\tlearn: 0.1863039\ttotal: 23s\tremaining: 15.6s\n",
      "596:\tlearn: 0.1862091\ttotal: 23s\tremaining: 15.5s\n",
      "597:\tlearn: 0.1860140\ttotal: 23.1s\tremaining: 15.5s\n",
      "598:\tlearn: 0.1859526\ttotal: 23.1s\tremaining: 15.5s\n",
      "599:\tlearn: 0.1858048\ttotal: 23.1s\tremaining: 15.4s\n",
      "600:\tlearn: 0.1857294\ttotal: 23.2s\tremaining: 15.4s\n",
      "601:\tlearn: 0.1856401\ttotal: 23.2s\tremaining: 15.3s\n",
      "602:\tlearn: 0.1856044\ttotal: 23.2s\tremaining: 15.3s\n",
      "603:\tlearn: 0.1855614\ttotal: 23.3s\tremaining: 15.3s\n",
      "604:\tlearn: 0.1855142\ttotal: 23.3s\tremaining: 15.2s\n",
      "605:\tlearn: 0.1854226\ttotal: 23.4s\tremaining: 15.2s\n",
      "606:\tlearn: 0.1852462\ttotal: 23.4s\tremaining: 15.1s\n",
      "607:\tlearn: 0.1851346\ttotal: 23.4s\tremaining: 15.1s\n",
      "608:\tlearn: 0.1850474\ttotal: 23.5s\tremaining: 15.1s\n",
      "609:\tlearn: 0.1850149\ttotal: 23.5s\tremaining: 15s\n",
      "610:\tlearn: 0.1849600\ttotal: 23.6s\tremaining: 15s\n",
      "611:\tlearn: 0.1847722\ttotal: 23.6s\tremaining: 15s\n",
      "612:\tlearn: 0.1846320\ttotal: 23.6s\tremaining: 14.9s\n",
      "613:\tlearn: 0.1845617\ttotal: 23.7s\tremaining: 14.9s\n",
      "614:\tlearn: 0.1845617\ttotal: 23.7s\tremaining: 14.8s\n",
      "615:\tlearn: 0.1845616\ttotal: 23.7s\tremaining: 14.8s\n",
      "616:\tlearn: 0.1845143\ttotal: 23.7s\tremaining: 14.7s\n",
      "617:\tlearn: 0.1844849\ttotal: 23.8s\tremaining: 14.7s\n",
      "618:\tlearn: 0.1844167\ttotal: 23.8s\tremaining: 14.7s\n",
      "619:\tlearn: 0.1843079\ttotal: 23.9s\tremaining: 14.6s\n",
      "620:\tlearn: 0.1842517\ttotal: 23.9s\tremaining: 14.6s\n",
      "621:\tlearn: 0.1839878\ttotal: 24s\tremaining: 14.6s\n",
      "622:\tlearn: 0.1839593\ttotal: 24s\tremaining: 14.5s\n",
      "623:\tlearn: 0.1838434\ttotal: 24s\tremaining: 14.5s\n",
      "624:\tlearn: 0.1836631\ttotal: 24.1s\tremaining: 14.4s\n",
      "625:\tlearn: 0.1835863\ttotal: 24.1s\tremaining: 14.4s\n",
      "626:\tlearn: 0.1834561\ttotal: 24.1s\tremaining: 14.4s\n",
      "627:\tlearn: 0.1833214\ttotal: 24.2s\tremaining: 14.3s\n",
      "628:\tlearn: 0.1832850\ttotal: 24.2s\tremaining: 14.3s\n",
      "629:\tlearn: 0.1832132\ttotal: 24.3s\tremaining: 14.2s\n",
      "630:\tlearn: 0.1832132\ttotal: 24.3s\tremaining: 14.2s\n",
      "631:\tlearn: 0.1830955\ttotal: 24.3s\tremaining: 14.2s\n",
      "632:\tlearn: 0.1829831\ttotal: 24.3s\tremaining: 14.1s\n",
      "633:\tlearn: 0.1829040\ttotal: 24.4s\tremaining: 14.1s\n",
      "634:\tlearn: 0.1828519\ttotal: 24.4s\tremaining: 14s\n",
      "635:\tlearn: 0.1827697\ttotal: 24.5s\tremaining: 14s\n",
      "636:\tlearn: 0.1827153\ttotal: 24.5s\tremaining: 14s\n",
      "637:\tlearn: 0.1826158\ttotal: 24.5s\tremaining: 13.9s\n",
      "638:\tlearn: 0.1825181\ttotal: 24.6s\tremaining: 13.9s\n",
      "639:\tlearn: 0.1823939\ttotal: 24.6s\tremaining: 13.8s\n",
      "640:\tlearn: 0.1822423\ttotal: 24.6s\tremaining: 13.8s\n",
      "641:\tlearn: 0.1821804\ttotal: 24.7s\tremaining: 13.8s\n",
      "642:\tlearn: 0.1820791\ttotal: 24.7s\tremaining: 13.7s\n",
      "643:\tlearn: 0.1819490\ttotal: 24.8s\tremaining: 13.7s\n",
      "644:\tlearn: 0.1818318\ttotal: 24.8s\tremaining: 13.6s\n"
     ]
    },
    {
     "name": "stdout",
     "output_type": "stream",
     "text": [
      "645:\tlearn: 0.1817926\ttotal: 24.8s\tremaining: 13.6s\n",
      "646:\tlearn: 0.1817443\ttotal: 24.9s\tremaining: 13.6s\n",
      "647:\tlearn: 0.1816645\ttotal: 24.9s\tremaining: 13.5s\n",
      "648:\tlearn: 0.1814554\ttotal: 24.9s\tremaining: 13.5s\n",
      "649:\tlearn: 0.1812867\ttotal: 25s\tremaining: 13.5s\n",
      "650:\tlearn: 0.1811957\ttotal: 25s\tremaining: 13.4s\n",
      "651:\tlearn: 0.1810629\ttotal: 25.1s\tremaining: 13.4s\n",
      "652:\tlearn: 0.1809772\ttotal: 25.1s\tremaining: 13.3s\n",
      "653:\tlearn: 0.1808632\ttotal: 25.1s\tremaining: 13.3s\n",
      "654:\tlearn: 0.1807587\ttotal: 25.2s\tremaining: 13.3s\n",
      "655:\tlearn: 0.1806232\ttotal: 25.2s\tremaining: 13.2s\n",
      "656:\tlearn: 0.1805213\ttotal: 25.3s\tremaining: 13.2s\n",
      "657:\tlearn: 0.1804410\ttotal: 25.3s\tremaining: 13.1s\n",
      "658:\tlearn: 0.1803297\ttotal: 25.3s\tremaining: 13.1s\n",
      "659:\tlearn: 0.1802025\ttotal: 25.4s\tremaining: 13.1s\n",
      "660:\tlearn: 0.1801747\ttotal: 25.4s\tremaining: 13s\n",
      "661:\tlearn: 0.1801327\ttotal: 25.4s\tremaining: 13s\n",
      "662:\tlearn: 0.1800675\ttotal: 25.5s\tremaining: 13s\n",
      "663:\tlearn: 0.1799934\ttotal: 25.5s\tremaining: 12.9s\n",
      "664:\tlearn: 0.1798878\ttotal: 25.6s\tremaining: 12.9s\n",
      "665:\tlearn: 0.1797947\ttotal: 25.6s\tremaining: 12.8s\n",
      "666:\tlearn: 0.1797806\ttotal: 25.6s\tremaining: 12.8s\n",
      "667:\tlearn: 0.1796747\ttotal: 25.7s\tremaining: 12.8s\n",
      "668:\tlearn: 0.1796741\ttotal: 25.7s\tremaining: 12.7s\n",
      "669:\tlearn: 0.1795182\ttotal: 25.7s\tremaining: 12.7s\n",
      "670:\tlearn: 0.1794133\ttotal: 25.8s\tremaining: 12.6s\n",
      "671:\tlearn: 0.1793334\ttotal: 25.8s\tremaining: 12.6s\n",
      "672:\tlearn: 0.1792620\ttotal: 25.8s\tremaining: 12.6s\n",
      "673:\tlearn: 0.1791735\ttotal: 25.9s\tremaining: 12.5s\n",
      "674:\tlearn: 0.1791020\ttotal: 25.9s\tremaining: 12.5s\n",
      "675:\tlearn: 0.1790320\ttotal: 25.9s\tremaining: 12.4s\n",
      "676:\tlearn: 0.1789827\ttotal: 26s\tremaining: 12.4s\n",
      "677:\tlearn: 0.1789265\ttotal: 26s\tremaining: 12.4s\n",
      "678:\tlearn: 0.1788288\ttotal: 26s\tremaining: 12.3s\n",
      "679:\tlearn: 0.1787656\ttotal: 26.1s\tremaining: 12.3s\n",
      "680:\tlearn: 0.1787437\ttotal: 26.1s\tremaining: 12.2s\n",
      "681:\tlearn: 0.1786439\ttotal: 26.2s\tremaining: 12.2s\n",
      "682:\tlearn: 0.1785099\ttotal: 26.2s\tremaining: 12.2s\n",
      "683:\tlearn: 0.1783697\ttotal: 26.2s\tremaining: 12.1s\n",
      "684:\tlearn: 0.1783497\ttotal: 26.3s\tremaining: 12.1s\n",
      "685:\tlearn: 0.1783056\ttotal: 26.3s\tremaining: 12s\n",
      "686:\tlearn: 0.1782265\ttotal: 26.4s\tremaining: 12s\n",
      "687:\tlearn: 0.1781253\ttotal: 26.4s\tremaining: 12s\n",
      "688:\tlearn: 0.1780705\ttotal: 26.4s\tremaining: 11.9s\n",
      "689:\tlearn: 0.1779984\ttotal: 26.5s\tremaining: 11.9s\n",
      "690:\tlearn: 0.1779146\ttotal: 26.5s\tremaining: 11.9s\n",
      "691:\tlearn: 0.1777773\ttotal: 26.5s\tremaining: 11.8s\n",
      "692:\tlearn: 0.1777346\ttotal: 26.6s\tremaining: 11.8s\n",
      "693:\tlearn: 0.1776261\ttotal: 26.6s\tremaining: 11.7s\n",
      "694:\tlearn: 0.1774668\ttotal: 26.7s\tremaining: 11.7s\n",
      "695:\tlearn: 0.1773528\ttotal: 26.7s\tremaining: 11.7s\n",
      "696:\tlearn: 0.1772174\ttotal: 26.7s\tremaining: 11.6s\n",
      "697:\tlearn: 0.1771575\ttotal: 26.8s\tremaining: 11.6s\n",
      "698:\tlearn: 0.1770562\ttotal: 26.8s\tremaining: 11.5s\n",
      "699:\tlearn: 0.1770063\ttotal: 26.8s\tremaining: 11.5s\n",
      "700:\tlearn: 0.1769426\ttotal: 26.9s\tremaining: 11.5s\n",
      "701:\tlearn: 0.1767638\ttotal: 26.9s\tremaining: 11.4s\n",
      "702:\tlearn: 0.1767147\ttotal: 27s\tremaining: 11.4s\n",
      "703:\tlearn: 0.1766277\ttotal: 27s\tremaining: 11.3s\n",
      "704:\tlearn: 0.1764805\ttotal: 27s\tremaining: 11.3s\n",
      "705:\tlearn: 0.1764796\ttotal: 27s\tremaining: 11.3s\n",
      "706:\tlearn: 0.1764365\ttotal: 27.1s\tremaining: 11.2s\n",
      "707:\tlearn: 0.1763675\ttotal: 27.1s\tremaining: 11.2s\n",
      "708:\tlearn: 0.1762216\ttotal: 27.2s\tremaining: 11.2s\n",
      "709:\tlearn: 0.1761418\ttotal: 27.2s\tremaining: 11.1s\n",
      "710:\tlearn: 0.1760673\ttotal: 27.2s\tremaining: 11.1s\n",
      "711:\tlearn: 0.1759665\ttotal: 27.3s\tremaining: 11s\n",
      "712:\tlearn: 0.1758957\ttotal: 27.3s\tremaining: 11s\n",
      "713:\tlearn: 0.1758418\ttotal: 27.4s\tremaining: 11s\n",
      "714:\tlearn: 0.1757851\ttotal: 27.4s\tremaining: 10.9s\n",
      "715:\tlearn: 0.1757154\ttotal: 27.4s\tremaining: 10.9s\n",
      "716:\tlearn: 0.1756617\ttotal: 27.5s\tremaining: 10.8s\n",
      "717:\tlearn: 0.1756167\ttotal: 27.5s\tremaining: 10.8s\n",
      "718:\tlearn: 0.1755566\ttotal: 27.5s\tremaining: 10.8s\n",
      "719:\tlearn: 0.1755093\ttotal: 27.6s\tremaining: 10.7s\n",
      "720:\tlearn: 0.1754042\ttotal: 27.6s\tremaining: 10.7s\n",
      "721:\tlearn: 0.1752679\ttotal: 27.7s\tremaining: 10.7s\n",
      "722:\tlearn: 0.1751530\ttotal: 27.7s\tremaining: 10.6s\n",
      "723:\tlearn: 0.1750541\ttotal: 27.8s\tremaining: 10.6s\n",
      "724:\tlearn: 0.1749399\ttotal: 27.8s\tremaining: 10.5s\n",
      "725:\tlearn: 0.1749000\ttotal: 27.8s\tremaining: 10.5s\n",
      "726:\tlearn: 0.1747840\ttotal: 27.9s\tremaining: 10.5s\n",
      "727:\tlearn: 0.1745977\ttotal: 27.9s\tremaining: 10.4s\n",
      "728:\tlearn: 0.1745030\ttotal: 28s\tremaining: 10.4s\n",
      "729:\tlearn: 0.1744136\ttotal: 28s\tremaining: 10.4s\n",
      "730:\tlearn: 0.1743463\ttotal: 28s\tremaining: 10.3s\n",
      "731:\tlearn: 0.1742545\ttotal: 28.1s\tremaining: 10.3s\n",
      "732:\tlearn: 0.1741896\ttotal: 28.1s\tremaining: 10.2s\n",
      "733:\tlearn: 0.1741322\ttotal: 28.2s\tremaining: 10.2s\n",
      "734:\tlearn: 0.1739825\ttotal: 28.2s\tremaining: 10.2s\n",
      "735:\tlearn: 0.1739822\ttotal: 28.2s\tremaining: 10.1s\n",
      "736:\tlearn: 0.1738821\ttotal: 28.3s\tremaining: 10.1s\n",
      "737:\tlearn: 0.1738267\ttotal: 28.3s\tremaining: 10s\n",
      "738:\tlearn: 0.1737895\ttotal: 28.3s\tremaining: 10s\n",
      "739:\tlearn: 0.1737403\ttotal: 28.4s\tremaining: 9.97s\n",
      "740:\tlearn: 0.1736615\ttotal: 28.4s\tremaining: 9.93s\n",
      "741:\tlearn: 0.1735338\ttotal: 28.5s\tremaining: 9.9s\n",
      "742:\tlearn: 0.1734696\ttotal: 28.5s\tremaining: 9.86s\n",
      "743:\tlearn: 0.1734007\ttotal: 28.5s\tremaining: 9.82s\n",
      "744:\tlearn: 0.1733534\ttotal: 28.6s\tremaining: 9.78s\n",
      "745:\tlearn: 0.1732280\ttotal: 28.6s\tremaining: 9.74s\n",
      "746:\tlearn: 0.1731376\ttotal: 28.6s\tremaining: 9.7s\n",
      "747:\tlearn: 0.1730982\ttotal: 28.7s\tremaining: 9.66s\n",
      "748:\tlearn: 0.1730198\ttotal: 28.7s\tremaining: 9.62s\n",
      "749:\tlearn: 0.1729848\ttotal: 28.8s\tremaining: 9.59s\n",
      "750:\tlearn: 0.1728960\ttotal: 28.8s\tremaining: 9.55s\n",
      "751:\tlearn: 0.1728484\ttotal: 28.8s\tremaining: 9.51s\n",
      "752:\tlearn: 0.1727567\ttotal: 28.9s\tremaining: 9.47s\n",
      "753:\tlearn: 0.1727430\ttotal: 28.9s\tremaining: 9.44s\n",
      "754:\tlearn: 0.1726484\ttotal: 29s\tremaining: 9.4s\n",
      "755:\tlearn: 0.1725171\ttotal: 29s\tremaining: 9.36s\n",
      "756:\tlearn: 0.1724038\ttotal: 29s\tremaining: 9.32s\n",
      "757:\tlearn: 0.1722748\ttotal: 29.1s\tremaining: 9.29s\n",
      "758:\tlearn: 0.1721553\ttotal: 29.1s\tremaining: 9.25s\n",
      "759:\tlearn: 0.1720693\ttotal: 29.2s\tremaining: 9.21s\n",
      "760:\tlearn: 0.1720130\ttotal: 29.2s\tremaining: 9.17s\n",
      "761:\tlearn: 0.1719746\ttotal: 29.2s\tremaining: 9.13s\n",
      "762:\tlearn: 0.1718575\ttotal: 29.3s\tremaining: 9.1s\n",
      "763:\tlearn: 0.1717382\ttotal: 29.3s\tremaining: 9.06s\n",
      "764:\tlearn: 0.1717037\ttotal: 29.4s\tremaining: 9.02s\n",
      "765:\tlearn: 0.1716559\ttotal: 29.4s\tremaining: 8.98s\n",
      "766:\tlearn: 0.1716131\ttotal: 29.5s\tremaining: 8.95s\n",
      "767:\tlearn: 0.1715743\ttotal: 29.5s\tremaining: 8.91s\n",
      "768:\tlearn: 0.1714856\ttotal: 29.5s\tremaining: 8.87s\n",
      "769:\tlearn: 0.1714644\ttotal: 29.6s\tremaining: 8.83s\n",
      "770:\tlearn: 0.1713127\ttotal: 29.6s\tremaining: 8.79s\n",
      "771:\tlearn: 0.1712507\ttotal: 29.6s\tremaining: 8.76s\n",
      "772:\tlearn: 0.1712210\ttotal: 29.7s\tremaining: 8.72s\n",
      "773:\tlearn: 0.1711172\ttotal: 29.7s\tremaining: 8.68s\n",
      "774:\tlearn: 0.1710505\ttotal: 29.8s\tremaining: 8.64s\n",
      "775:\tlearn: 0.1710032\ttotal: 29.8s\tremaining: 8.61s\n",
      "776:\tlearn: 0.1709178\ttotal: 29.8s\tremaining: 8.57s\n",
      "777:\tlearn: 0.1708579\ttotal: 29.9s\tremaining: 8.53s\n",
      "778:\tlearn: 0.1707854\ttotal: 29.9s\tremaining: 8.49s\n",
      "779:\tlearn: 0.1706873\ttotal: 30s\tremaining: 8.45s\n",
      "780:\tlearn: 0.1706225\ttotal: 30s\tremaining: 8.42s\n",
      "781:\tlearn: 0.1705551\ttotal: 30.1s\tremaining: 8.38s\n",
      "782:\tlearn: 0.1704829\ttotal: 30.1s\tremaining: 8.34s\n",
      "783:\tlearn: 0.1704399\ttotal: 30.1s\tremaining: 8.3s\n",
      "784:\tlearn: 0.1703796\ttotal: 30.2s\tremaining: 8.26s\n",
      "785:\tlearn: 0.1703167\ttotal: 30.2s\tremaining: 8.22s\n",
      "786:\tlearn: 0.1703166\ttotal: 30.2s\tremaining: 8.18s\n",
      "787:\tlearn: 0.1702522\ttotal: 30.3s\tremaining: 8.14s\n",
      "788:\tlearn: 0.1701679\ttotal: 30.3s\tremaining: 8.11s\n",
      "789:\tlearn: 0.1700713\ttotal: 30.4s\tremaining: 8.07s\n",
      "790:\tlearn: 0.1700175\ttotal: 30.4s\tremaining: 8.03s\n",
      "791:\tlearn: 0.1699684\ttotal: 30.4s\tremaining: 7.99s\n",
      "792:\tlearn: 0.1698816\ttotal: 30.5s\tremaining: 7.96s\n",
      "793:\tlearn: 0.1698816\ttotal: 30.5s\tremaining: 7.91s\n",
      "794:\tlearn: 0.1697728\ttotal: 30.5s\tremaining: 7.87s\n",
      "795:\tlearn: 0.1697300\ttotal: 30.6s\tremaining: 7.83s\n",
      "796:\tlearn: 0.1696987\ttotal: 30.6s\tremaining: 7.8s\n",
      "797:\tlearn: 0.1696205\ttotal: 30.6s\tremaining: 7.76s\n",
      "798:\tlearn: 0.1695321\ttotal: 30.7s\tremaining: 7.72s\n",
      "799:\tlearn: 0.1693822\ttotal: 30.7s\tremaining: 7.68s\n",
      "800:\tlearn: 0.1693319\ttotal: 30.8s\tremaining: 7.65s\n",
      "801:\tlearn: 0.1693106\ttotal: 30.8s\tremaining: 7.61s\n",
      "802:\tlearn: 0.1692399\ttotal: 30.9s\tremaining: 7.57s\n",
      "803:\tlearn: 0.1691979\ttotal: 30.9s\tremaining: 7.53s\n",
      "804:\tlearn: 0.1691788\ttotal: 30.9s\tremaining: 7.49s\n",
      "805:\tlearn: 0.1691294\ttotal: 31s\tremaining: 7.46s\n",
      "806:\tlearn: 0.1690709\ttotal: 31s\tremaining: 7.42s\n"
     ]
    },
    {
     "name": "stdout",
     "output_type": "stream",
     "text": [
      "807:\tlearn: 0.1689824\ttotal: 31.1s\tremaining: 7.38s\n",
      "808:\tlearn: 0.1689327\ttotal: 31.1s\tremaining: 7.34s\n",
      "809:\tlearn: 0.1689037\ttotal: 31.1s\tremaining: 7.31s\n",
      "810:\tlearn: 0.1688562\ttotal: 31.2s\tremaining: 7.27s\n",
      "811:\tlearn: 0.1687365\ttotal: 31.2s\tremaining: 7.23s\n",
      "812:\tlearn: 0.1687365\ttotal: 31.2s\tremaining: 7.19s\n",
      "813:\tlearn: 0.1686986\ttotal: 31.3s\tremaining: 7.15s\n",
      "814:\tlearn: 0.1686554\ttotal: 31.3s\tremaining: 7.11s\n",
      "815:\tlearn: 0.1686418\ttotal: 31.4s\tremaining: 7.07s\n",
      "816:\tlearn: 0.1685705\ttotal: 31.4s\tremaining: 7.03s\n",
      "817:\tlearn: 0.1684571\ttotal: 31.4s\tremaining: 7s\n",
      "818:\tlearn: 0.1683763\ttotal: 31.5s\tremaining: 6.96s\n",
      "819:\tlearn: 0.1683125\ttotal: 31.5s\tremaining: 6.92s\n",
      "820:\tlearn: 0.1683125\ttotal: 31.5s\tremaining: 6.88s\n",
      "821:\tlearn: 0.1682534\ttotal: 31.6s\tremaining: 6.84s\n",
      "822:\tlearn: 0.1682298\ttotal: 31.6s\tremaining: 6.8s\n",
      "823:\tlearn: 0.1681464\ttotal: 31.7s\tremaining: 6.76s\n",
      "824:\tlearn: 0.1680246\ttotal: 31.7s\tremaining: 6.72s\n",
      "825:\tlearn: 0.1679749\ttotal: 31.7s\tremaining: 6.69s\n",
      "826:\tlearn: 0.1679256\ttotal: 31.8s\tremaining: 6.65s\n",
      "827:\tlearn: 0.1678909\ttotal: 31.8s\tremaining: 6.61s\n",
      "828:\tlearn: 0.1678578\ttotal: 31.9s\tremaining: 6.57s\n",
      "829:\tlearn: 0.1677742\ttotal: 31.9s\tremaining: 6.54s\n",
      "830:\tlearn: 0.1676273\ttotal: 31.9s\tremaining: 6.5s\n",
      "831:\tlearn: 0.1675580\ttotal: 32s\tremaining: 6.46s\n",
      "832:\tlearn: 0.1675057\ttotal: 32s\tremaining: 6.42s\n",
      "833:\tlearn: 0.1674197\ttotal: 32.1s\tremaining: 6.38s\n",
      "834:\tlearn: 0.1673817\ttotal: 32.1s\tremaining: 6.35s\n",
      "835:\tlearn: 0.1672860\ttotal: 32.2s\tremaining: 6.31s\n",
      "836:\tlearn: 0.1672337\ttotal: 32.2s\tremaining: 6.27s\n",
      "837:\tlearn: 0.1671896\ttotal: 32.3s\tremaining: 6.24s\n",
      "838:\tlearn: 0.1671022\ttotal: 32.3s\tremaining: 6.2s\n",
      "839:\tlearn: 0.1670837\ttotal: 32.3s\tremaining: 6.16s\n",
      "840:\tlearn: 0.1670164\ttotal: 32.4s\tremaining: 6.12s\n",
      "841:\tlearn: 0.1669010\ttotal: 32.4s\tremaining: 6.08s\n",
      "842:\tlearn: 0.1668565\ttotal: 32.5s\tremaining: 6.05s\n",
      "843:\tlearn: 0.1667408\ttotal: 32.5s\tremaining: 6.01s\n",
      "844:\tlearn: 0.1666215\ttotal: 32.5s\tremaining: 5.97s\n",
      "845:\tlearn: 0.1665808\ttotal: 32.6s\tremaining: 5.93s\n",
      "846:\tlearn: 0.1665209\ttotal: 32.6s\tremaining: 5.89s\n",
      "847:\tlearn: 0.1664619\ttotal: 32.7s\tremaining: 5.86s\n",
      "848:\tlearn: 0.1663658\ttotal: 32.7s\tremaining: 5.82s\n",
      "849:\tlearn: 0.1662819\ttotal: 32.8s\tremaining: 5.78s\n",
      "850:\tlearn: 0.1661907\ttotal: 32.8s\tremaining: 5.74s\n",
      "851:\tlearn: 0.1660883\ttotal: 32.8s\tremaining: 5.7s\n",
      "852:\tlearn: 0.1660485\ttotal: 32.9s\tremaining: 5.67s\n",
      "853:\tlearn: 0.1660484\ttotal: 32.9s\tremaining: 5.62s\n",
      "854:\tlearn: 0.1660461\ttotal: 32.9s\tremaining: 5.58s\n",
      "855:\tlearn: 0.1660268\ttotal: 33s\tremaining: 5.54s\n",
      "856:\tlearn: 0.1659246\ttotal: 33s\tremaining: 5.51s\n",
      "857:\tlearn: 0.1658150\ttotal: 33s\tremaining: 5.47s\n",
      "858:\tlearn: 0.1657157\ttotal: 33.1s\tremaining: 5.43s\n",
      "859:\tlearn: 0.1655923\ttotal: 33.1s\tremaining: 5.39s\n",
      "860:\tlearn: 0.1655923\ttotal: 33.1s\tremaining: 5.35s\n",
      "861:\tlearn: 0.1655523\ttotal: 33.2s\tremaining: 5.31s\n",
      "862:\tlearn: 0.1654698\ttotal: 33.2s\tremaining: 5.27s\n",
      "863:\tlearn: 0.1654160\ttotal: 33.3s\tremaining: 5.23s\n",
      "864:\tlearn: 0.1653882\ttotal: 33.3s\tremaining: 5.2s\n",
      "865:\tlearn: 0.1652832\ttotal: 33.3s\tremaining: 5.16s\n",
      "866:\tlearn: 0.1652571\ttotal: 33.4s\tremaining: 5.12s\n",
      "867:\tlearn: 0.1652569\ttotal: 33.4s\tremaining: 5.08s\n",
      "868:\tlearn: 0.1652040\ttotal: 33.4s\tremaining: 5.04s\n",
      "869:\tlearn: 0.1651030\ttotal: 33.5s\tremaining: 5s\n",
      "870:\tlearn: 0.1650432\ttotal: 33.5s\tremaining: 4.96s\n",
      "871:\tlearn: 0.1649446\ttotal: 33.5s\tremaining: 4.92s\n",
      "872:\tlearn: 0.1649431\ttotal: 33.6s\tremaining: 4.88s\n",
      "873:\tlearn: 0.1648444\ttotal: 33.6s\tremaining: 4.84s\n",
      "874:\tlearn: 0.1647066\ttotal: 33.6s\tremaining: 4.81s\n",
      "875:\tlearn: 0.1646385\ttotal: 33.7s\tremaining: 4.77s\n",
      "876:\tlearn: 0.1645644\ttotal: 33.7s\tremaining: 4.73s\n",
      "877:\tlearn: 0.1645285\ttotal: 33.8s\tremaining: 4.69s\n",
      "878:\tlearn: 0.1645273\ttotal: 33.8s\tremaining: 4.65s\n",
      "879:\tlearn: 0.1644925\ttotal: 33.8s\tremaining: 4.61s\n",
      "880:\tlearn: 0.1644499\ttotal: 33.9s\tremaining: 4.57s\n",
      "881:\tlearn: 0.1643521\ttotal: 33.9s\tremaining: 4.54s\n",
      "882:\tlearn: 0.1642965\ttotal: 33.9s\tremaining: 4.5s\n",
      "883:\tlearn: 0.1642540\ttotal: 34s\tremaining: 4.46s\n",
      "884:\tlearn: 0.1641687\ttotal: 34s\tremaining: 4.42s\n",
      "885:\tlearn: 0.1641153\ttotal: 34.1s\tremaining: 4.38s\n",
      "886:\tlearn: 0.1640780\ttotal: 34.1s\tremaining: 4.34s\n",
      "887:\tlearn: 0.1639917\ttotal: 34.1s\tremaining: 4.3s\n",
      "888:\tlearn: 0.1639501\ttotal: 34.2s\tremaining: 4.27s\n",
      "889:\tlearn: 0.1638888\ttotal: 34.2s\tremaining: 4.23s\n",
      "890:\tlearn: 0.1638135\ttotal: 34.2s\tremaining: 4.19s\n",
      "891:\tlearn: 0.1637901\ttotal: 34.3s\tremaining: 4.15s\n",
      "892:\tlearn: 0.1637187\ttotal: 34.3s\tremaining: 4.11s\n",
      "893:\tlearn: 0.1636663\ttotal: 34.3s\tremaining: 4.07s\n",
      "894:\tlearn: 0.1635959\ttotal: 34.4s\tremaining: 4.03s\n",
      "895:\tlearn: 0.1635422\ttotal: 34.4s\tremaining: 4s\n",
      "896:\tlearn: 0.1634886\ttotal: 34.5s\tremaining: 3.96s\n",
      "897:\tlearn: 0.1634434\ttotal: 34.5s\tremaining: 3.92s\n",
      "898:\tlearn: 0.1633385\ttotal: 34.5s\tremaining: 3.88s\n",
      "899:\tlearn: 0.1633383\ttotal: 34.5s\tremaining: 3.84s\n",
      "900:\tlearn: 0.1632881\ttotal: 34.6s\tremaining: 3.8s\n",
      "901:\tlearn: 0.1632136\ttotal: 34.6s\tremaining: 3.76s\n",
      "902:\tlearn: 0.1631777\ttotal: 34.7s\tremaining: 3.72s\n",
      "903:\tlearn: 0.1631777\ttotal: 34.7s\tremaining: 3.68s\n",
      "904:\tlearn: 0.1630721\ttotal: 34.7s\tremaining: 3.64s\n",
      "905:\tlearn: 0.1630422\ttotal: 34.7s\tremaining: 3.6s\n",
      "906:\tlearn: 0.1629100\ttotal: 34.8s\tremaining: 3.57s\n",
      "907:\tlearn: 0.1628532\ttotal: 34.8s\tremaining: 3.53s\n",
      "908:\tlearn: 0.1627493\ttotal: 34.9s\tremaining: 3.49s\n",
      "909:\tlearn: 0.1626764\ttotal: 34.9s\tremaining: 3.45s\n",
      "910:\tlearn: 0.1626761\ttotal: 34.9s\tremaining: 3.41s\n",
      "911:\tlearn: 0.1626462\ttotal: 34.9s\tremaining: 3.37s\n",
      "912:\tlearn: 0.1626128\ttotal: 35s\tremaining: 3.33s\n",
      "913:\tlearn: 0.1625499\ttotal: 35s\tremaining: 3.29s\n",
      "914:\tlearn: 0.1624954\ttotal: 35.1s\tremaining: 3.26s\n",
      "915:\tlearn: 0.1624200\ttotal: 35.1s\tremaining: 3.22s\n",
      "916:\tlearn: 0.1623237\ttotal: 35.1s\tremaining: 3.18s\n",
      "917:\tlearn: 0.1621500\ttotal: 35.2s\tremaining: 3.14s\n",
      "918:\tlearn: 0.1621134\ttotal: 35.2s\tremaining: 3.1s\n",
      "919:\tlearn: 0.1620087\ttotal: 35.2s\tremaining: 3.06s\n",
      "920:\tlearn: 0.1619045\ttotal: 35.3s\tremaining: 3.02s\n",
      "921:\tlearn: 0.1618820\ttotal: 35.3s\tremaining: 2.99s\n",
      "922:\tlearn: 0.1618362\ttotal: 35.3s\tremaining: 2.95s\n",
      "923:\tlearn: 0.1618343\ttotal: 35.4s\tremaining: 2.91s\n",
      "924:\tlearn: 0.1618339\ttotal: 35.4s\tremaining: 2.87s\n",
      "925:\tlearn: 0.1618008\ttotal: 35.4s\tremaining: 2.83s\n",
      "926:\tlearn: 0.1617551\ttotal: 35.4s\tremaining: 2.79s\n",
      "927:\tlearn: 0.1615549\ttotal: 35.5s\tremaining: 2.75s\n",
      "928:\tlearn: 0.1614444\ttotal: 35.5s\tremaining: 2.71s\n",
      "929:\tlearn: 0.1613879\ttotal: 35.6s\tremaining: 2.68s\n",
      "930:\tlearn: 0.1613201\ttotal: 35.6s\tremaining: 2.64s\n",
      "931:\tlearn: 0.1612582\ttotal: 35.6s\tremaining: 2.6s\n",
      "932:\tlearn: 0.1611872\ttotal: 35.7s\tremaining: 2.56s\n",
      "933:\tlearn: 0.1611344\ttotal: 35.7s\tremaining: 2.52s\n",
      "934:\tlearn: 0.1611270\ttotal: 35.7s\tremaining: 2.48s\n",
      "935:\tlearn: 0.1610207\ttotal: 35.8s\tremaining: 2.45s\n",
      "936:\tlearn: 0.1609393\ttotal: 35.8s\tremaining: 2.41s\n",
      "937:\tlearn: 0.1608734\ttotal: 35.9s\tremaining: 2.37s\n",
      "938:\tlearn: 0.1607936\ttotal: 35.9s\tremaining: 2.33s\n",
      "939:\tlearn: 0.1607936\ttotal: 35.9s\tremaining: 2.29s\n",
      "940:\tlearn: 0.1607724\ttotal: 35.9s\tremaining: 2.25s\n",
      "941:\tlearn: 0.1606568\ttotal: 36s\tremaining: 2.21s\n",
      "942:\tlearn: 0.1605379\ttotal: 36s\tremaining: 2.18s\n",
      "943:\tlearn: 0.1604942\ttotal: 36.1s\tremaining: 2.14s\n",
      "944:\tlearn: 0.1604207\ttotal: 36.1s\tremaining: 2.1s\n",
      "945:\tlearn: 0.1604205\ttotal: 36.1s\tremaining: 2.06s\n",
      "946:\tlearn: 0.1603583\ttotal: 36.2s\tremaining: 2.02s\n",
      "947:\tlearn: 0.1603058\ttotal: 36.2s\tremaining: 1.99s\n",
      "948:\tlearn: 0.1602242\ttotal: 36.3s\tremaining: 1.95s\n",
      "949:\tlearn: 0.1601516\ttotal: 36.3s\tremaining: 1.91s\n",
      "950:\tlearn: 0.1601089\ttotal: 36.3s\tremaining: 1.87s\n",
      "951:\tlearn: 0.1600378\ttotal: 36.4s\tremaining: 1.83s\n",
      "952:\tlearn: 0.1599881\ttotal: 36.4s\tremaining: 1.8s\n",
      "953:\tlearn: 0.1599424\ttotal: 36.5s\tremaining: 1.76s\n",
      "954:\tlearn: 0.1599074\ttotal: 36.5s\tremaining: 1.72s\n",
      "955:\tlearn: 0.1598059\ttotal: 36.6s\tremaining: 1.68s\n",
      "956:\tlearn: 0.1597705\ttotal: 36.6s\tremaining: 1.65s\n",
      "957:\tlearn: 0.1597380\ttotal: 36.7s\tremaining: 1.61s\n",
      "958:\tlearn: 0.1596958\ttotal: 36.7s\tremaining: 1.57s\n",
      "959:\tlearn: 0.1596226\ttotal: 36.8s\tremaining: 1.53s\n",
      "960:\tlearn: 0.1595759\ttotal: 36.8s\tremaining: 1.49s\n",
      "961:\tlearn: 0.1595074\ttotal: 36.8s\tremaining: 1.46s\n",
      "962:\tlearn: 0.1594623\ttotal: 36.9s\tremaining: 1.42s\n",
      "963:\tlearn: 0.1594018\ttotal: 36.9s\tremaining: 1.38s\n",
      "964:\tlearn: 0.1593879\ttotal: 36.9s\tremaining: 1.34s\n",
      "965:\tlearn: 0.1593574\ttotal: 37s\tremaining: 1.3s\n",
      "966:\tlearn: 0.1593573\ttotal: 37s\tremaining: 1.26s\n",
      "967:\tlearn: 0.1592767\ttotal: 37s\tremaining: 1.22s\n"
     ]
    },
    {
     "name": "stdout",
     "output_type": "stream",
     "text": [
      "968:\tlearn: 0.1592170\ttotal: 37.1s\tremaining: 1.19s\n",
      "969:\tlearn: 0.1591851\ttotal: 37.1s\tremaining: 1.15s\n",
      "970:\tlearn: 0.1591611\ttotal: 37.2s\tremaining: 1.11s\n",
      "971:\tlearn: 0.1591184\ttotal: 37.2s\tremaining: 1.07s\n",
      "972:\tlearn: 0.1590067\ttotal: 37.2s\tremaining: 1.03s\n",
      "973:\tlearn: 0.1588978\ttotal: 37.3s\tremaining: 995ms\n",
      "974:\tlearn: 0.1588449\ttotal: 37.3s\tremaining: 957ms\n",
      "975:\tlearn: 0.1588448\ttotal: 37.3s\tremaining: 918ms\n",
      "976:\tlearn: 0.1587911\ttotal: 37.4s\tremaining: 880ms\n",
      "977:\tlearn: 0.1587468\ttotal: 37.4s\tremaining: 842ms\n",
      "978:\tlearn: 0.1586708\ttotal: 37.5s\tremaining: 804ms\n",
      "979:\tlearn: 0.1586148\ttotal: 37.5s\tremaining: 765ms\n",
      "980:\tlearn: 0.1585497\ttotal: 37.5s\tremaining: 727ms\n",
      "981:\tlearn: 0.1584493\ttotal: 37.6s\tremaining: 689ms\n",
      "982:\tlearn: 0.1584240\ttotal: 37.6s\tremaining: 651ms\n",
      "983:\tlearn: 0.1584239\ttotal: 37.6s\tremaining: 612ms\n",
      "984:\tlearn: 0.1583999\ttotal: 37.7s\tremaining: 574ms\n",
      "985:\tlearn: 0.1583343\ttotal: 37.7s\tremaining: 536ms\n",
      "986:\tlearn: 0.1582911\ttotal: 37.8s\tremaining: 497ms\n",
      "987:\tlearn: 0.1582530\ttotal: 37.8s\tremaining: 459ms\n",
      "988:\tlearn: 0.1582171\ttotal: 37.8s\tremaining: 421ms\n",
      "989:\tlearn: 0.1581879\ttotal: 37.9s\tremaining: 383ms\n",
      "990:\tlearn: 0.1580926\ttotal: 37.9s\tremaining: 344ms\n",
      "991:\tlearn: 0.1580333\ttotal: 38s\tremaining: 306ms\n",
      "992:\tlearn: 0.1579690\ttotal: 38s\tremaining: 268ms\n",
      "993:\tlearn: 0.1578599\ttotal: 38s\tremaining: 230ms\n",
      "994:\tlearn: 0.1577358\ttotal: 38.1s\tremaining: 191ms\n",
      "995:\tlearn: 0.1576734\ttotal: 38.1s\tremaining: 153ms\n",
      "996:\tlearn: 0.1576021\ttotal: 38.2s\tremaining: 115ms\n",
      "997:\tlearn: 0.1575128\ttotal: 38.2s\tremaining: 76.5ms\n",
      "998:\tlearn: 0.1574614\ttotal: 38.2s\tremaining: 38.3ms\n",
      "999:\tlearn: 0.1573890\ttotal: 38.3s\tremaining: 0us\n"
     ]
    },
    {
     "data": {
      "text/plain": [
       "<catboost.core.CatBoostClassifier at 0x1838aa51400>"
      ]
     },
     "execution_count": 72,
     "metadata": {},
     "output_type": "execute_result"
    }
   ],
   "source": [
    "model_cat.fit(X_train, y_train)"
   ]
  },
  {
   "cell_type": "code",
   "execution_count": 73,
   "metadata": {
    "colab": {},
    "colab_type": "code",
    "id": "PO-Lgg1UCfrD"
   },
   "outputs": [],
   "source": [
    "y_predicted_cat = model_cat.predict_proba(X_test)"
   ]
  },
  {
   "cell_type": "code",
   "execution_count": 74,
   "metadata": {
    "colab": {},
    "colab_type": "code",
    "id": "cuieQuKuCfrG",
    "outputId": "9c2be831-e129-4b2b-8a7d-ef8f3dbeeaab"
   },
   "outputs": [
    {
     "name": "stdout",
     "output_type": "stream",
     "text": [
      "El valor del AUC es:  0.9657171721286341\n"
     ]
    }
   ],
   "source": [
    "cat_auc = roc_auc_score(y_test,y_predicted_cat[:,1])\n",
    "print(\"El valor del AUC es: \", cat_auc)"
   ]
  },
  {
   "cell_type": "markdown",
   "metadata": {
    "colab_type": "text",
    "id": "BtYEwKqGmfTE"
   },
   "source": [
    "La lista de hiperparámetros se puede consultar <a = \"https://tech.yandex.com/catboost/doc/dg/concepts/python-reference_parameters-list-docpage/\"> aquí </a>"
   ]
  },
  {
   "cell_type": "markdown",
   "metadata": {
    "colab_type": "text",
    "id": "V7mAF0tJCfrL"
   },
   "source": [
    "## Conclusiones"
   ]
  },
  {
   "cell_type": "code",
   "execution_count": 75,
   "metadata": {
    "colab": {},
    "colab_type": "code",
    "id": "U6bMCNvHCfrL",
    "outputId": "76baa7f1-ead7-4382-f179-fbe50a99e49c"
   },
   "outputs": [
    {
     "name": "stdout",
     "output_type": "stream",
     "text": [
      "Los resultados finales fueron:\n",
      " - AUC de knn: 0.8537017558776134  \n",
      " - AUC de RF: 0.9376752279469001  \n",
      " - AUC de XGBoost: 0.9638534996899473 \n",
      " - AUC de LightGBM: 0.9565669114119606 \n",
      " - AUC de CatBoost: 0.9657171721286341\n"
     ]
    }
   ],
   "source": [
    "print(\"Los resultados finales fueron:\\n - AUC de knn:\", knn_auc,\" \\n - AUC de RF:\", rf_auc, \" \\n - AUC de XGBoost:\", xgb_auc,\n",
    "     \"\\n - AUC de LightGBM:\", lgbm_auc, \"\\n - AUC de CatBoost:\", cat_auc)"
   ]
  },
  {
   "cell_type": "markdown",
   "metadata": {
    "colab": {},
    "colab_type": "code",
    "id": "fkfek4PQDz4d"
   },
   "source": [
    "# Matriz de confusión"
   ]
  },
  {
   "cell_type": "code",
   "execution_count": 76,
   "metadata": {},
   "outputs": [],
   "source": [
    "y_predicted_cat_np = model_cat.predict(X_test)"
   ]
  },
  {
   "cell_type": "code",
   "execution_count": 77,
   "metadata": {},
   "outputs": [
    {
     "data": {
      "text/plain": [
       "array([0., 1., 1., ..., 1., 1., 0.])"
      ]
     },
     "execution_count": 77,
     "metadata": {},
     "output_type": "execute_result"
    }
   ],
   "source": [
    "y_predicted_cat_np"
   ]
  },
  {
   "cell_type": "code",
   "execution_count": 78,
   "metadata": {},
   "outputs": [],
   "source": [
    "%matplotlib inline\n",
    "import numpy as np\n",
    "import matplotlib.pyplot as plt\n",
    "import seaborn as sns; sns.set()"
   ]
  },
  {
   "cell_type": "code",
   "execution_count": 79,
   "metadata": {},
   "outputs": [],
   "source": [
    "from sklearn.metrics import confusion_matrix\n",
    "\n",
    "cm = confusion_matrix(y_test, y_predicted_cat_np, labels=None, sample_weight=None)"
   ]
  },
  {
   "cell_type": "code",
   "execution_count": 80,
   "metadata": {},
   "outputs": [],
   "source": [
    "def product(*args, repeat=1):\n",
    "    # product('ABCD', 'xy') --> Ax Ay Bx By Cx Cy Dx Dy\n",
    "    # product(range(2), repeat=3) --> 000 001 010 011 100 101 110 111\n",
    "    pools = [tuple(pool) for pool in args] * repeat\n",
    "    result = [[]]\n",
    "    for pool in pools:\n",
    "        result = [x+[y] for x in result for y in pool]\n",
    "    for prod in result:\n",
    "        yield tuple(prod)\n",
    "\n",
    "def plot_confusion_matrix(cm, classes,\n",
    "                          normalize=False,\n",
    "                          title='Confusion matrix',\n",
    "                          cmap=plt.cm.Blues):\n",
    "    \"\"\"\n",
    "    This function prints and plots the confusion matrix.\n",
    "    Normalization can be applied by setting `normalize=True`.\n",
    "    \"\"\"\n",
    "    if normalize:\n",
    "        cm = cm.astype('float') / cm.sum(axis=1)[:, np.newaxis]\n",
    "        print(\"Normalized confusion matrix\")\n",
    "    else:\n",
    "        print('Confusion matrix, without normalization')\n",
    "\n",
    "    print(cm)\n",
    "\n",
    "    plt.imshow(cm, interpolation='nearest', cmap=cmap)\n",
    "    plt.title(title)\n",
    "    plt.colorbar()\n",
    "    tick_marks = np.arange(len(classes))\n",
    "    plt.xticks(tick_marks, classes, rotation=45)\n",
    "    plt.yticks(tick_marks, classes)\n",
    "\n",
    "    fmt = '.2f' if normalize else 'd'\n",
    "    thresh = cm.max() / 2.\n",
    "    for i, j in product(range(cm.shape[0]), range(cm.shape[1])):\n",
    "        plt.text(j, i, format(cm[i, j], fmt),\n",
    "                 horizontalalignment=\"center\",\n",
    "                 color=\"white\" if cm[i, j] > thresh else \"black\")\n",
    "\n",
    "    plt.ylabel('True label')\n",
    "    plt.xlabel('Predicted label')\n",
    "    plt.tight_layout()\n"
   ]
  },
  {
   "cell_type": "code",
   "execution_count": 81,
   "metadata": {},
   "outputs": [
    {
     "name": "stdout",
     "output_type": "stream",
     "text": [
      "Confusion matrix, without normalization\n",
      "[[1926  503]\n",
      " [ 283 7014]]\n",
      "Normalized confusion matrix\n",
      "[[0.7929189  0.2070811 ]\n",
      " [0.03878306 0.96121694]]\n"
     ]
    },
    {
     "data": {
      "image/png": "[encoded data removed]",
      "text/plain": [
       "<Figure size 432x288 with 2 Axes>"
      ]
     },
     "metadata": {},
     "output_type": "display_data"
    },
    {
     "data": {
      "image/png": "[encoded data removed]",
      "text/plain": [
       "<Figure size 432x288 with 2 Axes>"
      ]
     },
     "metadata": {},
     "output_type": "display_data"
    }
   ],
   "source": [
    "# Plot non-normalized confusion matrix\n",
    "plt.figure()\n",
    "class_names = ['female','male']\n",
    "plot_confusion_matrix(cm, classes=class_names,\n",
    "                      title='Confusion matrix, without normalization')\n",
    "\n",
    "# Plot normalized confusion matrix\n",
    "plt.figure()\n",
    "plot_confusion_matrix(cm, classes=class_names, normalize=True,\n",
    "                      title='Normalized confusion matrix')\n",
    "\n",
    "plt.show()"
   ]
  },
  {
   "cell_type": "code",
   "execution_count": null,
   "metadata": {},
   "outputs": [],
   "source": []
  }
 ],
 "metadata": {
  "colab": {
   "collapsed_sections": [],
   "name": "1.PRACTICA_GUIADA_XGBoost_LightGBM.ipynb",
   "provenance": [],
   "version": "0.3.2"
  },
  "kernelspec": {
   "display_name": "Python 3",
   "language": "python",
   "name": "python3"
  },
  "language_info": {
   "codemirror_mode": {
    "name": "ipython",
    "version": 3
   },
   "file_extension": ".py",
   "mimetype": "text/x-python",
   "name": "python",
   "nbconvert_exporter": "python",
   "pygments_lexer": "ipython3",
   "version": "3.6.5"
  }
 },
 "nbformat": 4,
 "nbformat_minor": 1
}
